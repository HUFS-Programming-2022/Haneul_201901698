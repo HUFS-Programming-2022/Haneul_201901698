{
 "cells": [
  {
   "cell_type": "markdown",
   "id": "81fcec1f-578c-4769-91df-257574316d3b",
   "metadata": {},
   "source": [
    "## Quiz01 Review\n",
    "\n",
    "#### 1. 세 값을 입력받고, 세 수 중 가장 큰 수를 구하는 코드"
   ]
  },
  {
   "cell_type": "code",
   "execution_count": 1,
   "id": "f2d52c9f-e04b-41eb-b349-d9ac3431bdc9",
   "metadata": {},
   "outputs": [
    {
     "name": "stdin",
     "output_type": "stream",
     "text": [
      " 6\n",
      " 10\n",
      " 4\n"
     ]
    },
    {
     "name": "stdout",
     "output_type": "stream",
     "text": [
      "10\n"
     ]
    }
   ],
   "source": [
    "a = int(input())\n",
    "b = int(input())\n",
    "c = int(input())\n",
    "\n",
    "maximum = a\n",
    "\n",
    "if maximum < b:\n",
    "    maximum = b\n",
    "\n",
    "if maximum < c:\n",
    "    maximum = c\n",
    "\n",
    "print(maximum)"
   ]
  },
  {
   "cell_type": "code",
   "execution_count": 2,
   "id": "946a9f0f-7a35-47ca-8239-93686e3aca7e",
   "metadata": {},
   "outputs": [
    {
     "name": "stdin",
     "output_type": "stream",
     "text": [
      " 5\n",
      " 1\n",
      " 9\n",
      " 2\n",
      " 5\n",
      " 3\n"
     ]
    },
    {
     "name": "stdout",
     "output_type": "stream",
     "text": [
      "9\n"
     ]
    }
   ],
   "source": [
    "# 만약 세 값이 아니라 여러 개의 값을 입력 받아야 할 땐 어떻게 하면 좋을까?\n",
    "\n",
    "n = int(input()) # 리스트 요소의 수를 입력 받기\n",
    "lis = [] # 빈 리스트 생성\n",
    "for i in range(n):\n",
    "    number = int(input()) # 리스트 안에 들어갈 요소(정수) 입력\n",
    "    lis.append(number) # 리스트에 입력받은 정수 추가\n",
    "\n",
    "maxnum = lis[0] # 리스트의 첫 번째 요소를 최댓값으로 임시 지정\n",
    "\n",
    "for j in lis: # 리스트 내에 있는 값을 하나하나 비교하기 위한 for문\n",
    "    if j > maxnum: # 만약 현재 최댓값보다 j(리스트 요소)가 클 경우\n",
    "        maxnum = j # 최댓값을 j로 변경 => 마지막에 남는 maxnum이 최댓값\n",
    "\n",
    "print(maxnum)"
   ]
  },
  {
   "cell_type": "markdown",
   "id": "66c73004-3f7d-4205-98be-8a551c613d4c",
   "metadata": {},
   "source": [
    "#### 2. 편의점 매출 계산"
   ]
  },
  {
   "cell_type": "code",
   "execution_count": 3,
   "id": "8b9eba8a-08e1-4521-8760-a39b0586c40c",
   "metadata": {},
   "outputs": [
    {
     "name": "stdout",
     "output_type": "stream",
     "text": [
      "15160\n"
     ]
    }
   ],
   "source": [
    "biyot = 480\n",
    "samgak = 900\n",
    "coke = 380\n",
    "banana = 1050 \n",
    "homerun = 770\n",
    "\n",
    "biyot_price = 1300\n",
    "samgak_price = 2500\n",
    "coke_price = 800\n",
    "banana_price = 3200 \n",
    "homerun_price = 1500\n",
    "\n",
    "sale_percent = 15\n",
    "sales = biyot_price * 3 + samgak_price * 5 + coke_price * 6 + banana_price * 2 + homerun_price * 4\n",
    "sales *= ((100 - sale_percent) / 100)\n",
    "sales -= biyot * 3 + samgak * 5 + coke * 6 + banana * 2 + homerun * 4\n",
    "\n",
    "print(int(sales)) # 총매출"
   ]
  },
  {
   "cell_type": "markdown",
   "id": "379016b1-9054-4ac9-8c3a-d21b2cc75b43",
   "metadata": {},
   "source": [
    "#### 3. 랜덤값을 받고 3kg, 5kg 흙 효율적으로 옮기기 문제"
   ]
  },
  {
   "cell_type": "code",
   "execution_count": 5,
   "id": "4adc68bb-e8f8-42a4-8825-ed2fb4c0c7c5",
   "metadata": {},
   "outputs": [
    {
     "name": "stdin",
     "output_type": "stream",
     "text": [
      " 19\n"
     ]
    },
    {
     "name": "stdout",
     "output_type": "stream",
     "text": [
      "0 4\n"
     ]
    }
   ],
   "source": [
    "# import random\n",
    "# num = random.randint(10, 100)\n",
    "\n",
    "## 계산 결과를 정확히 보기 위해 입력값을 받고 결과를 구해보자.\n",
    "\n",
    "num = int(input())\n",
    "\n",
    "fivecount = 0\n",
    "threecount = 0\n",
    "\n",
    "if num % 5 == 0:\n",
    "    fivecount += num // 5\n",
    "elif 0 < num % 5 <= 3:\n",
    "    fivecount += num // 5\n",
    "    threecount += 1\n",
    "elif num % 5 == 4:\n",
    "    fivecount += num // 5 + 1 \n",
    "    # 주의 : 4kg일 때는 3kg 흙을 2번 나르는 것보다 5kg를 한 번 더 나르는 게 효율적.\n",
    "\n",
    "print(threecount, fivecount)"
   ]
  },
  {
   "cell_type": "markdown",
   "id": "6608d321-6429-4773-a518-ec0fa321dc73",
   "metadata": {},
   "source": [
    "#### 4. 낮에 5미터 올라가고, 밤에 2미터 떨어지는 달팽이가 350미터 나무를 오르는 데 걸리는 일 수 "
   ]
  },
  {
   "cell_type": "code",
   "execution_count": 6,
   "id": "bbaceb6d-4e6f-4dd3-9b67-32a7ad9ff96d",
   "metadata": {},
   "outputs": [
    {
     "name": "stdout",
     "output_type": "stream",
     "text": [
      "116\n"
     ]
    }
   ],
   "source": [
    "tree = 350\n",
    "\n",
    "daytime = 5\n",
    "night = 2\n",
    "\n",
    "day = 0\n",
    "snail = 0\n",
    "\n",
    "while True:\n",
    "    snail += daytime\n",
    "    if snail >= tree:\n",
    "        day += 1\n",
    "        break\n",
    "    snail -= night\n",
    "    day += 1\n",
    "\n",
    "print(day)"
   ]
  }
 ],
 "metadata": {
  "kernelspec": {
   "display_name": "Python 3 (ipykernel)",
   "language": "python",
   "name": "python3"
  },
  "language_info": {
   "codemirror_mode": {
    "name": "ipython",
    "version": 3
   },
   "file_extension": ".py",
   "mimetype": "text/x-python",
   "name": "python",
   "nbconvert_exporter": "python",
   "pygments_lexer": "ipython3",
   "version": "3.9.7"
  }
 },
 "nbformat": 4,
 "nbformat_minor": 5
}
