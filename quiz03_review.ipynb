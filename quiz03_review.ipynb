{
 "cells": [
  {
   "cell_type": "markdown",
   "id": "4110df2e-2dc5-41f0-a7c3-2d9928e83ed0",
   "metadata": {},
   "source": [
    "## Quiz03 Review"
   ]
  },
  {
   "cell_type": "markdown",
   "id": "1b825a1e-2527-4592-8d44-2db6861b883b",
   "metadata": {},
   "source": [
    "#### 1. 문자열을 나눠  list에 저장하고, list를 이용하여 출력 예시와 같게 출력하기 위한 프로그램의 빈칸 채우기"
   ]
  },
  {
   "cell_type": "code",
   "execution_count": 7,
   "id": "7f316262-2eb7-4ad5-917a-caf83f09ef04",
   "metadata": {},
   "outputs": [
    {
     "name": "stdout",
     "output_type": "stream",
     "text": [
      "Shakespeare's Four Great Tragedies: Hamlet , Othello , King Lear , Macbeth\n"
     ]
    }
   ],
   "source": [
    "book = 'Hamlet & Othello & King Lear & Macbeth'\n",
    "book_list = [word for word in book.split('&')] #1 : 실제 퀴즈에서는 word.lstrip()을 사용한 것이 아쉬움(사용할 필요 전혀 없던 문제)\n",
    "book_string = \"Shakespeare's Four Great Tragedies: \" #2 : 실제 퀴즈에서는 \"\"을 쓰지 않은 것이 아쉬움\n",
    "print(book_string + ','.join(book_list)) #3"
   ]
  },
  {
   "cell_type": "markdown",
   "id": "5b5ba832-6cb7-498e-b88e-eb7061e9fbec",
   "metadata": {},
   "source": [
    "#### 2. 다음 규칙을 따르는 프로그램이 있다고 하자.\n",
    "\n",
    "A. 주어진 수가 10보다 작다면 앞에 0을 붙여 두 자리 수로 만들고, 각 자리의 숫자를 더한다. <br>\n",
    "B. 그 다음, 주어진 수의 가장 오른쪽 자리 수와 앞에서 구한 합의 가장 오른쪽 자리 수를 이어 붙이면 새로운 수를 만들 수 있다.\n",
    "\n",
    "- 입력 : n\n",
    "- 출력 : n의 사이클 길이"
   ]
  },
  {
   "cell_type": "code",
   "execution_count": 6,
   "id": "c6ec54cc-d1cb-47ba-a9a3-a189608cf1a3",
   "metadata": {},
   "outputs": [
    {
     "name": "stdin",
     "output_type": "stream",
     "text": [
      " 26\n"
     ]
    },
    {
     "name": "stdout",
     "output_type": "stream",
     "text": [
      "68 1\n",
      "84 2\n",
      "42 3\n",
      "26 4\n",
      "4\n"
     ]
    }
   ],
   "source": [
    "n = int(input())\n",
    "\n",
    "if 0 <= n < 10:\n",
    "    num = '0' + str(n)\n",
    "else:\n",
    "    num = str(n)\n",
    "\n",
    "origin = num # 처음 입력받은 정수를 문자열 형태로 origin 변수에 저장\n",
    "cycle = 0\n",
    "\n",
    "while True:\n",
    "    behind_num = int(num[0]) + int(num[1])\n",
    "    \n",
    "    if behind_num < 10:\n",
    "        behind_num = str(behind_num)\n",
    "    elif behind_num >= 10:\n",
    "        behind_num = str(behind_num)\n",
    "        behind_num = behind_num[1]\n",
    "        \n",
    "    newnum = num[1] + behind_num\n",
    "    cycle += 1\n",
    "    print(newnum, cycle) # 답 확인용 출력\n",
    "    num = newnum\n",
    "    \n",
    "    if newnum == origin: # 새로운 숫자가 처음 입력받은 값이랑 같으면\n",
    "        break\n",
    "\n",
    "print(cycle)"
   ]
  },
  {
   "cell_type": "markdown",
   "id": "6325d656-7f53-42e0-9012-e31a84aafb05",
   "metadata": {},
   "source": [
    "#### 3. 별 찍기 문제"
   ]
  },
  {
   "cell_type": "code",
   "execution_count": 27,
   "id": "aa2bb4a9-5521-4a8c-bb21-3dff35e484c9",
   "metadata": {},
   "outputs": [
    {
     "name": "stdin",
     "output_type": "stream",
     "text": [
      " 5\n"
     ]
    },
    {
     "name": "stdout",
     "output_type": "stream",
     "text": [
      "*********\n",
      " ******* \n",
      "  *****  \n",
      "   ***   \n",
      "    *    \n"
     ]
    }
   ],
   "source": [
    "n = int(input())\n",
    "\n",
    "\"\"\"\n",
    "*********\n",
    " *******\n",
    "  *****\n",
    "   ***\n",
    "    *\n",
    "\"\"\"\n",
    "\n",
    "# n*2-1  # (n*2-1)    0\n",
    "# n*2-3  # (n*2-1)-2  1\n",
    "# n*2-5  # (n*2-1)-4  2\n",
    "# n*2-7  # (n*2-1)-6  3\n",
    "# n*2-9  # (n*2-1)-8  4\n",
    "\n",
    "k = n * 2 - 1\n",
    "\n",
    "for i in range(n):\n",
    "    print(' ' * i, end='')\n",
    "    print('*' * (k - i * 2), end='')\n",
    "    print(' ' * i)"
   ]
  },
  {
   "cell_type": "markdown",
   "id": "14402348-b3d7-4b52-8ce1-797413a51bc4",
   "metadata": {},
   "source": [
    "#### 4. 두 수의 최대공약수와 최대공배수를 구하는 함수를 짜시오."
   ]
  },
  {
   "cell_type": "code",
   "execution_count": 2,
   "id": "99ccf6de-eff4-41fe-ae29-74b84a095828",
   "metadata": {},
   "outputs": [
    {
     "name": "stdin",
     "output_type": "stream",
     "text": [
      " 12\n",
      " 18\n"
     ]
    },
    {
     "name": "stdout",
     "output_type": "stream",
     "text": [
      "6\n",
      "36\n"
     ]
    }
   ],
   "source": [
    "n1 = int(input())\n",
    "n2 = int(input())\n",
    "\n",
    "def gcd(n1, n2): # 최대공약수 구하는 함수\n",
    "    minimum = n1 # n1을 더 작은 값으로 임시로 설정\n",
    "    cd_list = [] # 약수들을 담을 리스트 생성\n",
    "    \n",
    "    if n2 < n1:  \n",
    "        minimum = n2 # n2보다 n1이 클 경우 더 작은 값을 n2로 설정\n",
    "        \n",
    "    for i in range(1, minimum+1): \n",
    "        if n1 % i == 0 and n2 % i == 0: # n1에도 나누어 떨어지고, n2에도 나누어 떨어지는 i는 공약수이므로\n",
    "            cd_list.append(i) # 공약수 리스트에 추가\n",
    "    return cd_list[-1] # 가장 마지막에 위치한 공약수가 공약수들 중 가장 큰 최대공약수\n",
    "\n",
    "def lcm(n1, n2): # 최소공배수 구하는 함수\n",
    "    return n1 * n2 // gcd(n1, n2) # 두 수를 곱한 값에 두 수의 최대공약수를 나눠주면 최소공배수\n",
    "\n",
    "print(gcd(n1, n2)) \n",
    "print(lcm(n1, n2))"
   ]
  },
  {
   "cell_type": "code",
   "execution_count": 14,
   "id": "1e52b544-2fab-41bc-8c32-bfd3c283d3cd",
   "metadata": {},
   "outputs": [
    {
     "name": "stdin",
     "output_type": "stream",
     "text": [
      " 18\n",
      " 12\n"
     ]
    },
    {
     "name": "stdout",
     "output_type": "stream",
     "text": [
      "18과 12의 최대공약수는 6이고, 최소공배수는 36입니다.\n"
     ]
    }
   ],
   "source": [
    "int_1 = int(input())\n",
    "int_2 = int(input())\n",
    "\n",
    "def gcd(int_1, int_2):\n",
    "\twhile int_2 > 0:\n",
    "\t\tint_1, int_2 = int_2, int_1 % int_2\n",
    "\treturn int_1\n",
    "\n",
    "def lcm(int_1, int_2):\n",
    "\treturn int_1 * int_2 // gcd(int_1, int_2)\n",
    "\n",
    "print(f'{int_1}과 {int_2}의 최대공약수는 {gcd(int_1, int_2)}이고, 최소공배수는 {lcm(int_1, int_2)}입니다.')"
   ]
  },
  {
   "cell_type": "markdown",
   "id": "fd86b881-262e-46da-90cd-70169d09cd03",
   "metadata": {},
   "source": [
    "#### 5. nltk.book 텍스트들을 순회하며\n",
    "- 각 코퍼스에서 what, when, where, who, why, which의 빈도수를 출력하는 코드 작성\n",
    "- 단, 단어는 모두 소문자화\n",
    "- 전체 코드가 하나의 루프 안에 존재\n",
    "- 프린트는 다음의 형식으로\n",
    "    - 텍스트1: what=3번, when=4번, where=6번, who=3번, why=11번, which=44번\n",
    "    - 텍스트2: ..\n",
    "    - ...\n",
    "    - 텍스트9: ..."
   ]
  },
  {
   "cell_type": "code",
   "execution_count": 16,
   "id": "17cd0516-859a-4320-a75b-b68da3d0fc87",
   "metadata": {},
   "outputs": [
    {
     "name": "stdout",
     "output_type": "stream",
     "text": [
      "*** Introductory Examples for the NLTK Book ***\n",
      "Loading text1, ..., text9 and sent1, ..., sent9\n",
      "Type the name of the text or sentence to view it.\n",
      "Type: 'texts()' or 'sents()' to list the materials.\n",
      "text1: Moby Dick by Herman Melville 1851\n",
      "text2: Sense and Sensibility by Jane Austen 1811\n",
      "text3: The Book of Genesis\n",
      "text4: Inaugural Address Corpus\n",
      "text5: Chat Corpus\n",
      "text6: Monty Python and the Holy Grail\n",
      "text7: Wall Street Journal\n",
      "text8: Personals Corpus\n",
      "text9: The Man Who Was Thursday by G . K . Chesterton 1908\n"
     ]
    },
    {
     "data": {
      "text/plain": [
       "True"
      ]
     },
     "execution_count": 16,
     "metadata": {},
     "output_type": "execute_result"
    }
   ],
   "source": [
    "import nltk\n",
    "from nltk.book import *\n",
    "nltk.download('book', quiet=True)"
   ]
  },
  {
   "cell_type": "code",
   "execution_count": 31,
   "id": "f0bf7bb6-bd7a-4c97-930d-a2f9a32be608",
   "metadata": {},
   "outputs": [],
   "source": [
    "# nltk.book 텍스트들을 순회하는 방법을 모르겠습니다."
   ]
  },
  {
   "cell_type": "markdown",
   "id": "ff4f6f9c-05fe-401f-a476-490a24bf0a92",
   "metadata": {},
   "source": [
    "#### 6. 팩토리얼을 구한 뒤, 결과값의 맨 마지막 자리에서 시작해서 처음으로 0이 아닌 숫자가 나올 때까지 0의 개수를 구하는 함수를 만드시오.\n",
    "\n",
    "- 입력값 = n\n",
    "- 출력값 = 결과값, 0 개수"
   ]
  },
  {
   "cell_type": "code",
   "execution_count": 37,
   "id": "abcbd1f3-c9c7-40e0-b3d7-4091833b66b0",
   "metadata": {},
   "outputs": [
    {
     "name": "stdin",
     "output_type": "stream",
     "text": [
      " 10\n"
     ]
    },
    {
     "name": "stdout",
     "output_type": "stream",
     "text": [
      "3628800 2\n"
     ]
    }
   ],
   "source": [
    "n = int(input())\n",
    "\n",
    "factorial = 1\n",
    "\n",
    "for i in range(1, n+1):\n",
    "    factorial *= i # factorial = factorial * i\n",
    "\n",
    "result = factorial\n",
    "factorial = str(factorial)\n",
    "\n",
    "zero_count = 0\n",
    "\n",
    "for j in range(-1, -len(factorial), -1):\n",
    "    if factorial[j] == '0':\n",
    "        zero_count += 1\n",
    "    else:\n",
    "        break\n",
    "        \n",
    "\n",
    "print(factorial, zero_count)"
   ]
  },
  {
   "cell_type": "markdown",
   "id": "3436b6f0-bf30-4ecf-982e-3d369b49150b",
   "metadata": {},
   "source": [
    "#### 7. text6에서 pt를 포함하는 단어 리스트를 출력하는 코드를 작성하세요.\n",
    "- 단, 대소문자 구분 없음 (예: Pt, pT, ...)\n",
    "- list comprehension 사용할 것\n",
    "- 숫자, 문장부호 제외할 것\n",
    "- 내림차순 정렬할 것"
   ]
  },
  {
   "cell_type": "code",
   "execution_count": 27,
   "id": "aba1f28d-03b5-443f-9870-8eeb69011fd2",
   "metadata": {},
   "outputs": [
    {
     "data": {
      "text/plain": [
       "['temptress',\n",
       " 'temptation',\n",
       " 'ptoo',\n",
       " 'excepting',\n",
       " 'empty',\n",
       " 'empty',\n",
       " 'aptly',\n",
       " 'Thppt',\n",
       " 'Thppt',\n",
       " 'Thpppt',\n",
       " 'Thppppt',\n",
       " 'Thpppppt',\n",
       " 'Chapter']"
      ]
     },
     "execution_count": 27,
     "metadata": {},
     "output_type": "execute_result"
    }
   ],
   "source": [
    "pt_list = [word for word in text6 if 'pt' in word.lower() and word.isalpha()] # word.isaplha()가 숫자, 문장부호를 제외하는 방법이 맞을까..?\n",
    "pt_list.sort(reverse=True) # 내림차순 정렬\n",
    "pt_list"
   ]
  }
 ],
 "metadata": {
  "kernelspec": {
   "display_name": "Python 3 (ipykernel)",
   "language": "python",
   "name": "python3"
  },
  "language_info": {
   "codemirror_mode": {
    "name": "ipython",
    "version": 3
   },
   "file_extension": ".py",
   "mimetype": "text/x-python",
   "name": "python",
   "nbconvert_exporter": "python",
   "pygments_lexer": "ipython3",
   "version": "3.9.7"
  }
 },
 "nbformat": 4,
 "nbformat_minor": 5
}
