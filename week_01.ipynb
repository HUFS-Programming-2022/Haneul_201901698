{
 "cells": [
  {
   "cell_type": "code",
   "execution_count": 31,
   "id": "e268bac2-878b-44f1-b44e-355b49280d0e",
   "metadata": {
    "tags": []
   },
   "outputs": [],
   "source": [
    "## Jupyter 문법 간단 정리\n",
    "# run : shift+enter\n",
    "# ` : 회색 블록 생성 (영어로 변환 필수!)\n",
    "# 제목 만들기 (Heading) : markdown (m)으로 변경하고 숫자 1~6 or '#' (1~6개) 입력 후 띄어쓰기"
   ]
  },
  {
   "cell_type": "markdown",
   "id": "e302e975-433f-4932-951b-ba60eacd77c4",
   "metadata": {
    "tags": []
   },
   "source": [
    "## 프로그래밍이란?\n",
    "- programming : 프로그래밍 언어를 사용하여 프로그램을 개발하는 것\n",
    "- program : 일련의 작업을 자동화하는 것\n",
    "- python: 프로그래밍 언어 중 하나. 인간이 컴퓨터에게 작업을 명령하기 위해 컴퓨터가 이해할 수 있는 언어"
   ]
  },
  {
   "cell_type": "markdown",
   "id": "db6e4cb5-ad33-4eb2-b989-4c756b62df29",
   "metadata": {},
   "source": [
    "## Ch2. Data: Types, Values, Variables, and Names"
   ]
  },
  {
   "cell_type": "code",
   "execution_count": 4,
   "id": "3b508abb-08b7-4a84-88d4-ad435181855e",
   "metadata": {},
   "outputs": [],
   "source": [
    "a = 2"
   ]
  },
  {
   "cell_type": "markdown",
   "id": "8d1154ba-605d-4d98-b529-3ef4f8389e3a",
   "metadata": {},
   "source": [
    "- 변수 | variable (i.e. a): 특정 값을 저장하는 공간\n",
    "- 값 | value: 2\n",
    "- 자료형 | type: 2가 어떤 타입인가? 데이터의 형태. (ie.e., integer, int 타입)\n",
    "- 할당하다 | assign: 2를 a에 넣는 과정\n",
    "    - a가 2다??? a == 2 ?(equal) // 할당과 같다는 다르다."
   ]
  },
  {
   "cell_type": "code",
   "execution_count": 5,
   "id": "5b8531c8-9243-4770-a9f2-334a48748d3e",
   "metadata": {},
   "outputs": [
    {
     "data": {
      "text/plain": [
       "2"
      ]
     },
     "execution_count": 5,
     "metadata": {},
     "output_type": "execute_result"
    }
   ],
   "source": [
    "a"
   ]
  },
  {
   "cell_type": "code",
   "execution_count": 6,
   "id": "eaa9388e-d6c0-41fa-b9a0-16391db96caa",
   "metadata": {},
   "outputs": [
    {
     "data": {
      "text/plain": [
       "True"
      ]
     },
     "execution_count": 6,
     "metadata": {},
     "output_type": "execute_result"
    }
   ],
   "source": [
    "a == 2"
   ]
  },
  {
   "cell_type": "markdown",
   "id": "fa1f623d-0ee8-46f1-8341-d09cdcc8b8de",
   "metadata": {},
   "source": [
    "## 변수의 타입\n",
    "- boolean | 불리언: True, False 반환 `bool`\n",
    "- integer | 정수: 1, 2, 3, 4, ... `int`\n",
    "- floating point number | 부동소수점: 1.0, 2.0, 0.45, ... `float`\n",
    "- string | 문자열: \"apple\", 'apple' `str`"
   ]
  },
  {
   "cell_type": "code",
   "execution_count": 7,
   "id": "7c6c9b5c-3e17-489f-8dc5-683af820b487",
   "metadata": {},
   "outputs": [
    {
     "data": {
      "text/plain": [
       "4"
      ]
     },
     "execution_count": 7,
     "metadata": {},
     "output_type": "execute_result"
    }
   ],
   "source": [
    "num = 4\n",
    "4"
   ]
  },
  {
   "cell_type": "code",
   "execution_count": 8,
   "id": "f2e06f64-45e8-4a7c-b5ea-60b7b8fc65e6",
   "metadata": {},
   "outputs": [
    {
     "name": "stdout",
     "output_type": "stream",
     "text": [
      "4\n"
     ]
    }
   ],
   "source": [
    "print(num)"
   ]
  },
  {
   "cell_type": "code",
   "execution_count": 9,
   "id": "c7d7a344-11b7-4a02-a40d-a78fd95423e2",
   "metadata": {},
   "outputs": [
    {
     "data": {
      "text/plain": [
       "int"
      ]
     },
     "execution_count": 9,
     "metadata": {},
     "output_type": "execute_result"
    }
   ],
   "source": [
    "type(num)"
   ]
  },
  {
   "cell_type": "code",
   "execution_count": 10,
   "id": "79f802ba-5cee-4ccb-9092-dc4baf5f5b36",
   "metadata": {},
   "outputs": [
    {
     "data": {
      "text/plain": [
       "float"
      ]
     },
     "execution_count": 10,
     "metadata": {},
     "output_type": "execute_result"
    }
   ],
   "source": [
    "type(1.0)"
   ]
  },
  {
   "cell_type": "code",
   "execution_count": 11,
   "id": "2226b6bd-3a2b-4c7a-81df-132f1234cd47",
   "metadata": {},
   "outputs": [
    {
     "data": {
      "text/plain": [
       "bool"
      ]
     },
     "execution_count": 11,
     "metadata": {},
     "output_type": "execute_result"
    }
   ],
   "source": [
    "type(a==2)"
   ]
  },
  {
   "cell_type": "code",
   "execution_count": 12,
   "id": "b87202fa-76e0-48c0-9a2a-201469d140c8",
   "metadata": {},
   "outputs": [
    {
     "name": "stdout",
     "output_type": "stream",
     "text": [
      "my name\n"
     ]
    }
   ],
   "source": [
    "name = 'my name'\n",
    "print(name)"
   ]
  },
  {
   "cell_type": "code",
   "execution_count": 13,
   "id": "7ea994b8-a920-4442-964c-67a9cd5747e8",
   "metadata": {},
   "outputs": [
    {
     "data": {
      "text/plain": [
       "str"
      ]
     },
     "execution_count": 13,
     "metadata": {},
     "output_type": "execute_result"
    }
   ],
   "source": [
    "type(name)"
   ]
  },
  {
   "cell_type": "code",
   "execution_count": 14,
   "id": "1608520e-0a83-42a9-a58b-aca70a3ec00c",
   "metadata": {},
   "outputs": [
    {
     "ename": "NameError",
     "evalue": "name 'my_name' is not defined",
     "output_type": "error",
     "traceback": [
      "\u001b[0;31m---------------------------------------------------------------------------\u001b[0m",
      "\u001b[0;31mNameError\u001b[0m                                 Traceback (most recent call last)",
      "\u001b[0;32m/var/folders/_b/6lz4nnpx49579btkl7_ctft80000gn/T/ipykernel_11700/68685821.py\u001b[0m in \u001b[0;36m<module>\u001b[0;34m\u001b[0m\n\u001b[0;32m----> 1\u001b[0;31m \u001b[0mmy_name\u001b[0m \u001b[0;31m#변수명으로 인식, 없는 변수 => 에러 발생\u001b[0m\u001b[0;34m\u001b[0m\u001b[0;34m\u001b[0m\u001b[0m\n\u001b[0m",
      "\u001b[0;31mNameError\u001b[0m: name 'my_name' is not defined"
     ]
    }
   ],
   "source": [
    "my_name # 변수명으로 인식, 없는 변수 => 에러 발생"
   ]
  },
  {
   "cell_type": "code",
   "execution_count": 16,
   "id": "8dc175f6-67b2-4b36-8108-8ab24502f5f2",
   "metadata": {},
   "outputs": [
    {
     "name": "stdout",
     "output_type": "stream",
     "text": [
      "I'm Sam.\n",
      "I'm Sam.\n"
     ]
    }
   ],
   "source": [
    "# single quote 안에 single quote를 문자로 인식하는 방법\n",
    "# 'I'm Sam.'\n",
    "\n",
    "#1. \\ 사용\n",
    "print('I\\'m Sam.')\n",
    "\n",
    "#2. \"\" 사용\n",
    "print(\"I'm Sam.\")"
   ]
  },
  {
   "cell_type": "markdown",
   "id": "f3da9c16-4f90-4556-a21c-eff741b2c474",
   "metadata": {
    "tags": []
   },
   "source": [
    "### 변수명 정하기\n",
    "- 소문자, 대문자, 숫자, 언더바(_) 사용한다.\n",
    "    - 예: `name`, `my_name`,`NAME`, `Name` `name3` #대문자는 잘 안 쓰는 게 좋음\n",
    "    - 불가능한 예: `my-name`, `3name`\n",
    "\n",
    "\n",
    "- 변수명으로 사용할 수 없는 케이스\n",
    "    1. 숫자로 시작할 수 없다.\n",
    "    2. 예약어는 사용할 수 없다."
   ]
  },
  {
   "cell_type": "code",
   "execution_count": 17,
   "id": "32d579d6-cf43-425f-b2f9-e0ca22dce0d2",
   "metadata": {},
   "outputs": [
    {
     "data": {
      "text/plain": [
       "'lee'"
      ]
     },
     "execution_count": 17,
     "metadata": {},
     "output_type": "execute_result"
    }
   ],
   "source": [
    "name = 'lee'\n",
    "name"
   ]
  },
  {
   "cell_type": "code",
   "execution_count": 18,
   "id": "d9ed4522-874a-4283-b973-0650c20e4d56",
   "metadata": {},
   "outputs": [
    {
     "ename": "SyntaxError",
     "evalue": "invalid syntax (2942085305.py, line 1)",
     "output_type": "error",
     "traceback": [
      "\u001b[0;36m  File \u001b[0;32m\"/var/folders/_b/6lz4nnpx49579btkl7_ctft80000gn/T/ipykernel_11700/2942085305.py\"\u001b[0;36m, line \u001b[0;32m1\u001b[0m\n\u001b[0;31m    3name = 'kim'\u001b[0m\n\u001b[0m     ^\u001b[0m\n\u001b[0;31mSyntaxError\u001b[0m\u001b[0;31m:\u001b[0m invalid syntax\n"
     ]
    }
   ],
   "source": [
    "3name = 'kim' #숫자는 변수명 맨 앞에 올 수 없음"
   ]
  },
  {
   "cell_type": "code",
   "execution_count": 19,
   "id": "f2674cb9-2e9b-493c-b3e4-133353721c88",
   "metadata": {
    "tags": []
   },
   "outputs": [
    {
     "ename": "SyntaxError",
     "evalue": "invalid syntax (922134009.py, line 1)",
     "output_type": "error",
     "traceback": [
      "\u001b[0;36m  File \u001b[0;32m\"/var/folders/_b/6lz4nnpx49579btkl7_ctft80000gn/T/ipykernel_11700/922134009.py\"\u001b[0;36m, line \u001b[0;32m1\u001b[0m\n\u001b[0;31m    def = 'Hwang' #예약어는 변수명으로 사용 불가능\u001b[0m\n\u001b[0m        ^\u001b[0m\n\u001b[0;31mSyntaxError\u001b[0m\u001b[0;31m:\u001b[0m invalid syntax\n"
     ]
    }
   ],
   "source": [
    "def = 'Hwang' #예약어는 변수명으로 사용 불가능"
   ]
  },
  {
   "cell_type": "markdown",
   "id": "cf278aeb-2cdb-4875-bdca-6c578bab5d81",
   "metadata": {
    "tags": []
   },
   "source": [
    "- 주의할 점 (특별한 용도가 있어서 일반적으로 사용하지 않는 변수명)\n",
    "    1. 언더바로 시작하는 변수명\n",
    "        예: `_name`\n",
    "    2. 언더바가 2개 있는 변수명\n",
    "        예: `__name__`\n",
    "    3. 대문자로 시작하는 변수명\n",
    "        예: `Car` (클래스를 지칭할 때 보통 이렇게 쓰기 때문)\n",
    "    4. 전체가 대문자인 변수명\n",
    "        예: `CAR`"
   ]
  },
  {
   "cell_type": "code",
   "execution_count": 24,
   "id": "c39420b4-20e3-429e-a456-b32fd7d08ccc",
   "metadata": {
    "tags": []
   },
   "outputs": [
    {
     "name": "stdout",
     "output_type": "stream",
     "text": [
      "\n",
      "Here is a list of the Python keywords.  Enter any keyword to get more help.\n",
      "\n",
      "False               break               for                 not\n",
      "None                class               from                or\n",
      "True                continue            global              pass\n",
      "__peg_parser__      def                 if                  raise\n",
      "and                 del                 import              return\n",
      "as                  elif                in                  try\n",
      "assert              else                is                  while\n",
      "async               except              lambda              with\n",
      "await               finally             nonlocal            yield\n",
      "\n"
     ]
    }
   ],
   "source": [
    "help(\"keywords\") # 예약어를 알려줌"
   ]
  },
  {
   "cell_type": "code",
   "execution_count": 20,
   "id": "8e07c867-4e61-4fe1-9fd2-1fa17169c37e",
   "metadata": {
    "tags": []
   },
   "outputs": [],
   "source": [
    "# number != Number\n",
    "word1 = 'number'\n",
    "word2 = 'Number'"
   ]
  },
  {
   "cell_type": "code",
   "execution_count": 21,
   "id": "d72a5fba-968d-4c4d-a0cd-70400dde8512",
   "metadata": {
    "tags": []
   },
   "outputs": [
    {
     "data": {
      "text/plain": [
       "False"
      ]
     },
     "execution_count": 21,
     "metadata": {},
     "output_type": "execute_result"
    }
   ],
   "source": [
    "word1 == word2 #대소문자 구분한다."
   ]
  },
  {
   "cell_type": "code",
   "execution_count": 23,
   "id": "cb6c84f5-06b4-42a0-b8f1-e2c4628b48bf",
   "metadata": {},
   "outputs": [
    {
     "data": {
      "text/plain": [
       "True"
      ]
     },
     "execution_count": 23,
     "metadata": {},
     "output_type": "execute_result"
    }
   ],
   "source": [
    "word1 != word2"
   ]
  },
  {
   "cell_type": "markdown",
   "id": "b709c1bf-4f7e-46c8-ad48-3f0090f4323e",
   "metadata": {
    "tags": []
   },
   "source": [
    "### 할당하기\n",
    "- 수학에서는 =가 양변이 같음을 의미하는데, 프로그램에서는 할당을 의미한다.\n",
    "    예ㅣ `name = 'lee'`\n",
    "    - lee라는 값을 name에 넣은 것\n",
    "- 오른쪽에 있는 모든 것은 값을 가져야 한다. (\"초기화\") \n",
    "- 변수 타입은 따로 지정하지 않는다."
   ]
  },
  {
   "cell_type": "code",
   "execution_count": 25,
   "id": "087447a4-887e-49d0-8aa7-196f84f105af",
   "metadata": {},
   "outputs": [],
   "source": [
    "car = 'hyundai'"
   ]
  },
  {
   "cell_type": "code",
   "execution_count": 26,
   "id": "ea381bc3-a958-4fbe-b769-eaca3549f20c",
   "metadata": {},
   "outputs": [],
   "source": [
    "kia = 'kia'\n",
    "truck = kia # 없는 값이기 때문"
   ]
  },
  {
   "cell_type": "code",
   "execution_count": 27,
   "id": "9f0d8a72-5b29-48a3-a175-ce2f82938dbb",
   "metadata": {},
   "outputs": [
    {
     "name": "stdout",
     "output_type": "stream",
     "text": [
      "2 12\n"
     ]
    }
   ],
   "source": [
    "x = 2\n",
    "y = x + 10 # name 'x' is not defined\n",
    "print(x, y)"
   ]
  },
  {
   "cell_type": "code",
   "execution_count": 28,
   "id": "883f5735-d698-4dfd-be5a-ec1b3a83d721",
   "metadata": {},
   "outputs": [
    {
     "data": {
      "text/plain": [
       "str"
      ]
     },
     "execution_count": 28,
     "metadata": {},
     "output_type": "execute_result"
    }
   ],
   "source": [
    "type(car) # str"
   ]
  },
  {
   "cell_type": "code",
   "execution_count": 29,
   "id": "be709d96-1175-4eec-8325-6c543f8b68d5",
   "metadata": {},
   "outputs": [],
   "source": [
    "# str car = 'kia' / 다른 언어에서는 변수의 자료형 정의\n",
    "car = 'kia'"
   ]
  },
  {
   "cell_type": "code",
   "execution_count": 30,
   "id": "7c5e8d13-b55a-4265-a9da-e2b1c8631c31",
   "metadata": {},
   "outputs": [
    {
     "data": {
      "text/plain": [
       "'kia'"
      ]
     },
     "execution_count": 30,
     "metadata": {},
     "output_type": "execute_result"
    }
   ],
   "source": [
    "car"
   ]
  }
 ],
 "metadata": {
  "kernelspec": {
   "display_name": "Python 3 (ipykernel)",
   "language": "python",
   "name": "python3"
  },
  "language_info": {
   "codemirror_mode": {
    "name": "ipython",
    "version": 3
   },
   "file_extension": ".py",
   "mimetype": "text/x-python",
   "name": "python",
   "nbconvert_exporter": "python",
   "pygments_lexer": "ipython3",
   "version": "3.9.7"
  }
 },
 "nbformat": 4,
 "nbformat_minor": 5
}
