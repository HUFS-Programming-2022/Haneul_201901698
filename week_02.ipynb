{
 "cells": [
  {
   "cell_type": "markdown",
   "id": "453b2194-c1ea-4861-8304-5aea7e426584",
   "metadata": {
    "tags": []
   },
   "source": [
    "# Week 02"
   ]
  },
  {
   "cell_type": "markdown",
   "id": "60ecaaca-3582-4aec-9440-ef5248b48017",
   "metadata": {
    "tags": []
   },
   "source": [
    "## Ch2. Variables"
   ]
  },
  {
   "cell_type": "markdown",
   "id": "895c2074-4132-4025-a609-37924c884f3b",
   "metadata": {},
   "source": [
    "### 1. 자료형 변환하기\n",
    "- int, str, float, bool\n",
    "    - 바꾸고자 하는 자료형으로 변수를 감싸면 자료형 변환 (ex: `int(a)`)"
   ]
  },
  {
   "cell_type": "code",
   "execution_count": 1,
   "id": "d6d329d9-5507-4573-8110-8d743cbd9f2b",
   "metadata": {},
   "outputs": [
    {
     "data": {
      "text/plain": [
       "int"
      ]
     },
     "execution_count": 1,
     "metadata": {},
     "output_type": "execute_result"
    }
   ],
   "source": [
    "a = 10\n",
    "type(a) # 현재 a의 자료형이 무엇인지 반환"
   ]
  },
  {
   "cell_type": "code",
   "execution_count": 2,
   "id": "a880fe80-f7ee-456b-aa7e-def0123754c6",
   "metadata": {},
   "outputs": [
    {
     "data": {
      "text/plain": [
       "10.0"
      ]
     },
     "execution_count": 2,
     "metadata": {},
     "output_type": "execute_result"
    }
   ],
   "source": [
    "# int -> float (자료형 변환)\n",
    "float(a) ## 바꾸고자 하는 자료형으로 변수를 감싸면 자료형 변환"
   ]
  },
  {
   "cell_type": "code",
   "execution_count": 3,
   "id": "dcf29b78-d3f2-4da1-829f-3a714866cf4d",
   "metadata": {},
   "outputs": [
    {
     "data": {
      "text/plain": [
       "'10'"
      ]
     },
     "execution_count": 3,
     "metadata": {},
     "output_type": "execute_result"
    }
   ],
   "source": [
    "# int -> str\n",
    "str(a) # ''로 감싸져서 출력"
   ]
  },
  {
   "cell_type": "code",
   "execution_count": 4,
   "id": "67d7c723-ad9c-4801-a636-8880619ea1df",
   "metadata": {},
   "outputs": [
    {
     "data": {
      "text/plain": [
       "True"
      ]
     },
     "execution_count": 4,
     "metadata": {},
     "output_type": "execute_result"
    }
   ],
   "source": [
    "# int -> bool (true/false로만 출력)\n",
    "bool(10) "
   ]
  },
  {
   "cell_type": "code",
   "execution_count": 6,
   "id": "328838d9-acc1-41f3-9e5e-a80c68e955e5",
   "metadata": {},
   "outputs": [
    {
     "data": {
      "text/plain": [
       "10"
      ]
     },
     "execution_count": 6,
     "metadata": {},
     "output_type": "execute_result"
    }
   ],
   "source": [
    "# float -> int : 10.6 (반올림 되는가 / 내려지는가(O) / 올려지는가?)\n",
    "int(10.9) # 정수형 변환 시 소수점 이하 값을 버린다. (반올림 x)"
   ]
  },
  {
   "cell_type": "code",
   "execution_count": 2,
   "id": "f6c2210e-51de-44db-9326-e4cb7af5d118",
   "metadata": {},
   "outputs": [
    {
     "name": "stdout",
     "output_type": "stream",
     "text": [
      "12\n",
      "11\n"
     ]
    }
   ],
   "source": [
    "x = 4.6\n",
    "y = 7.9\n",
    "\n",
    "print(int(x + y)) # 12.5 // 합을 int로 변환 (소수점을 버려 12로 출력)\n",
    "print(int(x) + int(y)) # 4 + 7 // 각각의 변수를 변환한 후 더함\n",
    "\n",
    "# 합을 변환하는 것과 각각의 값을 변환하고 더해서 나오는 출력결과가 다름. 주의할 것"
   ]
  },
  {
   "cell_type": "code",
   "execution_count": 4,
   "id": "1bbb243a-1efe-46a1-ab58-38516b10b27e",
   "metadata": {},
   "outputs": [
    {
     "data": {
      "text/plain": [
       "88.3"
      ]
     },
     "execution_count": 4,
     "metadata": {},
     "output_type": "execute_result"
    }
   ],
   "source": [
    "# str(float) -> int\n",
    "p = '88.3'\n",
    "#int(p) // 에러 발생\n",
    "float(p)\n",
    "\n",
    "# str를 숫자형(int, float)으로 변환하려면 문자열에 있는 숫자의 자료형과 맞아야 함!\n",
    "# str(int) -> float 은 가능하다는 점 참고."
   ]
  },
  {
   "cell_type": "markdown",
   "id": "7e039f4e-50a4-4ac3-bc3b-f438cbe463c2",
   "metadata": {},
   "source": [
    "###  2. 파이썬 입출력\n",
    "### 2-1 출력함수 print()\n",
    "`print()`의 default 값\n"
   ]
  },
  {
   "cell_type": "code",
   "execution_count": 8,
   "id": "697f5613-6985-428c-9e1a-c2890f997c73",
   "metadata": {
    "tags": []
   },
   "outputs": [
    {
     "name": "stdout",
     "output_type": "stream",
     "text": [
      "orange apple tomato\n",
      "the next line\n"
     ]
    }
   ],
   "source": [
    "print('orange', 'apple', 'tomato') # default : 띄어쓰기, 줄 바꾸기(자동 줄바꿈)\n",
    "print(\"the next line\")"
   ]
  },
  {
   "cell_type": "markdown",
   "id": "8a9299d6-fc41-49df-9ad0-6d69c180f388",
   "metadata": {
    "tags": []
   },
   "source": [
    "`print()`의 다양한 활용"
   ]
  },
  {
   "cell_type": "code",
   "execution_count": 6,
   "id": "99c4de85-e5f5-485f-98a5-6ce8331c2377",
   "metadata": {},
   "outputs": [
    {
     "name": "stdout",
     "output_type": "stream",
     "text": [
      "orangeappletomato\n",
      "orange apple tomato\n",
      "orange_apple_tomato\n",
      "\n",
      "EOL\n",
      "orangeappletomato\n",
      "orange apple tomato\n"
     ]
    }
   ],
   "source": [
    "orange = 'orange'\n",
    "apple = 'apple'\n",
    "tomato = 'tomato'\n",
    "\n",
    "print(orange + apple + tomato) # +로 연결 가능하지만 원소들 간의 공백이 사라져 띄어쓰기 없이 출력\n",
    "print(orange, apple, tomato, sep=' ', end='\\n') #default\n",
    "# sep : 띄어쓰기 안에 무엇을 넣어줄 것인가\n",
    "# end : 끝을 어떻게 할 것인가\n",
    "print(orange, apple, tomato, sep='_', end='\\n\\n') #원소들 사이에 '_'가 추가됨, 줄바꿈 2번 실행\n",
    "print('EOL')\n",
    "\n",
    "\n",
    "## end=''의 변경을 통한 한 줄 출력\n",
    "\n",
    "#1. 변수 간 공백 없이 출력\n",
    "print(orange, end ='')\n",
    "print(apple, end = '')\n",
    "print(tomato)\n",
    "\n",
    "#2. 변수 간 공백 있이 출력\n",
    "print(orange, end =' ')\n",
    "print(apple, end = ' ')\n",
    "print(tomato)"
   ]
  },
  {
   "cell_type": "code",
   "execution_count": 12,
   "id": "b1673843-5d60-48cf-bcc8-234596d2a458",
   "metadata": {},
   "outputs": [],
   "source": [
    "# 라인이 짧을 때 => ; (자바와 유사, but 많이 사용되지는 않음)\n",
    "orange = 'orange'; apple = 'apple'; tomato = 'tomato'"
   ]
  },
  {
   "cell_type": "code",
   "execution_count": 7,
   "id": "c948763c-06ef-4316-958c-bd77e1a49d61",
   "metadata": {
    "tags": []
   },
   "outputs": [
    {
     "name": "stdout",
     "output_type": "stream",
     "text": [
      "5\n"
     ]
    }
   ],
   "source": [
    "num = 5; print(num)"
   ]
  },
  {
   "cell_type": "markdown",
   "id": "41a6da78-6eb3-4ebb-846f-77e55d0ae624",
   "metadata": {},
   "source": [
    "### 2-2. 입력함수 input()\n",
    "- console에서 사용자에게 값을 입력 받는 함수\n",
    "- 입출력 관련\n",
    "- 입력 받는 값의 타입은 문자열 `str`\n",
    "- 입력 받은 값을 변수에 담아서 사용한다. # a = input()"
   ]
  },
  {
   "cell_type": "code",
   "execution_count": 1,
   "id": "c8b6add1-3ed6-498d-8fba-530477d26c85",
   "metadata": {},
   "outputs": [
    {
     "name": "stdin",
     "output_type": "stream",
     "text": [
      "What's your name? Kim\n"
     ]
    },
    {
     "data": {
      "text/plain": [
       "'Kim'"
      ]
     },
     "execution_count": 1,
     "metadata": {},
     "output_type": "execute_result"
    }
   ],
   "source": [
    "input(\"What's your name?\")"
   ]
  },
  {
   "cell_type": "code",
   "execution_count": 10,
   "id": "b861707b-9c84-4c62-94d8-e77ec07530f2",
   "metadata": {},
   "outputs": [
    {
     "name": "stdin",
     "output_type": "stream",
     "text": [
      "What's your name? Lee\n"
     ]
    }
   ],
   "source": [
    "#1. 입력 받은 값을 변수에 담기\n",
    "name = input(\"What's your name?\")"
   ]
  },
  {
   "cell_type": "code",
   "execution_count": 5,
   "id": "4edb0663-f188-495d-ae14-1227905509f2",
   "metadata": {},
   "outputs": [
    {
     "data": {
      "text/plain": [
       "'Lee'"
      ]
     },
     "execution_count": 5,
     "metadata": {},
     "output_type": "execute_result"
    }
   ],
   "source": [
    "name"
   ]
  },
  {
   "cell_type": "code",
   "execution_count": 6,
   "id": "bf13c31b-155f-4246-bfd4-aa368a9c58c8",
   "metadata": {},
   "outputs": [
    {
     "name": "stdout",
     "output_type": "stream",
     "text": [
      "What's your name?\n"
     ]
    },
    {
     "name": "stdin",
     "output_type": "stream",
     "text": [
      " Wang\n"
     ]
    }
   ],
   "source": [
    "#2. 다음 줄에 입력받고 싶을 때\n",
    "print(\"What's your name?\")\n",
    "name = input() "
   ]
  },
  {
   "cell_type": "code",
   "execution_count": 7,
   "id": "5bcaaeb7-95d8-453f-b780-6219a5e4bfa6",
   "metadata": {
    "tags": []
   },
   "outputs": [
    {
     "name": "stdout",
     "output_type": "stream",
     "text": [
      "Wang\n"
     ]
    }
   ],
   "source": [
    "print(name)"
   ]
  },
  {
   "cell_type": "markdown",
   "id": "de71a5a4-accc-4b69-afe6-8de42a8fc1f5",
   "metadata": {
    "tags": []
   },
   "source": [
    "input을 str이 아닌 다른 타입으로 사용하고 싶을 때에는 형 변환을 미리 해준다."
   ]
  },
  {
   "cell_type": "code",
   "execution_count": 8,
   "id": "7d275384-1832-498b-93d2-e3bbe8b1cea0",
   "metadata": {},
   "outputs": [
    {
     "name": "stdin",
     "output_type": "stream",
     "text": [
      "How old are you? 19\n"
     ]
    }
   ],
   "source": [
    "age = input(\"How old are you?\")"
   ]
  },
  {
   "cell_type": "code",
   "execution_count": 9,
   "id": "66331182-4d34-4e59-9676-1cfe0e458566",
   "metadata": {},
   "outputs": [
    {
     "data": {
      "text/plain": [
       "str"
      ]
     },
     "execution_count": 9,
     "metadata": {},
     "output_type": "execute_result"
    }
   ],
   "source": [
    "type(age)"
   ]
  },
  {
   "cell_type": "code",
   "execution_count": 12,
   "id": "82b49bf6-8a56-4e8b-95a8-528016fdc569",
   "metadata": {},
   "outputs": [
    {
     "name": "stdin",
     "output_type": "stream",
     "text": [
      "How old are you? 23\n"
     ]
    }
   ],
   "source": [
    "age = int(input(\"How old are you?\"))"
   ]
  },
  {
   "cell_type": "code",
   "execution_count": 13,
   "id": "bd779c57-d773-4b39-9ff1-f8974bc7861f",
   "metadata": {},
   "outputs": [
    {
     "name": "stdout",
     "output_type": "stream",
     "text": [
      "당신이 태어난 해는 2000 입니다.\n"
     ]
    }
   ],
   "source": [
    "print('당신이 태어난 해는', 2022 - age + 1, '입니다.') # 연산 가능해짐"
   ]
  },
  {
   "cell_type": "markdown",
   "id": "feca1bc7-8b46-432d-a580-99eef5317d1b",
   "metadata": {
    "tags": []
   },
   "source": [
    "### 2-3. printing (문자열 포매팅)"
   ]
  },
  {
   "cell_type": "code",
   "execution_count": 14,
   "id": "b6d1a069-852c-4e5e-9978-64adf7da144f",
   "metadata": {},
   "outputs": [
    {
     "name": "stdout",
     "output_type": "stream",
     "text": [
      "당신이 태어난 해는 2000년입니다!\n"
     ]
    }
   ],
   "source": [
    "print(f'당신이 태어난 해는 {2022 - age + 1}년입니다!')\n",
    "# print(f'{<변수명>}')"
   ]
  },
  {
   "cell_type": "markdown",
   "id": "bf4f1135-b437-4fb0-b98e-6ab08c196597",
   "metadata": {
    "tags": []
   },
   "source": [
    "### * Quiz 1\n",
    "- 택배 정보를 입력 받고 무게에 따른 값 산정하기\n",
    "    - 수취인 성명:\n",
    "    - 수취인 주소:\n",
    "    - 배송비: 3000원\n",
    "    - 물건 비용: <계산된 값>원\n",
    "    - 총 합계: <계산된 값>원\n",
    "- 물건 비용은 무게(g) * 5\n",
    "- 입력 값 = 이름, 주소, 무게"
   ]
  },
  {
   "cell_type": "code",
   "execution_count": 1,
   "id": "8f19923f-ca5b-4d38-a72f-a4cacee95b03",
   "metadata": {},
   "outputs": [
    {
     "name": "stdin",
     "output_type": "stream",
     "text": [
      "택배 수취인의 이름은 무엇입니까? 하늘\n",
      "택배 수취인의 주소는 무엇입니까? 기숙사\n",
      "물건의 무게는 몇 g입니까? (정수만 입력) 1057\n"
     ]
    },
    {
     "name": "stdout",
     "output_type": "stream",
     "text": [
      "\n",
      "** 배송 정보 **\n",
      "수취인 성명: 하늘\n",
      "수취인 주소: 기숙사\n",
      "배송비: 3000원\n",
      "물건 비용: 5285원\n",
      "총 합계: 8285원 \n",
      "\n",
      "하늘 고객님의 물건은 기숙사로 배송될 예정입니다. \n",
      "물건은 5285원이며, 배송비는 3000원으로 총 결제금액은 8285원입니다.\n"
     ]
    }
   ],
   "source": [
    "name = input(\"택배 수취인의 이름은 무엇입니까?\") \n",
    "adress = input(\"택배 수취인의 주소는 무엇입니까?\") \n",
    "delivery = 3000 \n",
    "weight = int(input(\"물건의 무게는 몇 g입니까? (정수만 입력)\")) \n",
    "cost = weight * 5 # 물건 비용 계산\n",
    "total = cost + delivery # 총 합계 : 물건 비용 + 배송비\n",
    "\n",
    "print('\\n** 배송 정보 **')\n",
    "print(f'수취인 성명: {name}')\n",
    "print(f'수취인 주소: {adress}')\n",
    "print(f'배송비: {delivery}원')\n",
    "print(f'물건 비용: {cost}원')\n",
    "print(f'총 합계: {total}원 \\n')\n",
    "\n",
    "print(f'{name} 고객님의 물건은 {adress}로 배송될 예정입니다. \\n물건은 {cost}원이며, 배송비는 {delivery}원으로 총 결제금액은 {total}원입니다.')"
   ]
  },
  {
   "cell_type": "code",
   "execution_count": null,
   "id": "37f205f8-a2c1-4ad3-b9fc-241237ae66cf",
   "metadata": {
    "tags": []
   },
   "outputs": [],
   "source": []
  },
  {
   "cell_type": "markdown",
   "id": "2582d3ab-2ef5-4afa-b6d4-0290e89839d7",
   "metadata": {
    "tags": []
   },
   "source": [
    "## Ch03. Numbers"
   ]
  },
  {
   "cell_type": "markdown",
   "id": "cbc90df1-b4a5-4709-b703-5be15f834a07",
   "metadata": {
    "tags": []
   },
   "source": [
    "### boolean\n",
    "- True / False\n",
    "- False인 값\n",
    "- if문 (조건식): \"만약 어떤 값이 True면, ...\""
   ]
  },
  {
   "cell_type": "code",
   "execution_count": 1,
   "id": "0dea20b7-56d6-4b6c-8c7e-fe2847938529",
   "metadata": {},
   "outputs": [
    {
     "data": {
      "text/plain": [
       "False"
      ]
     },
     "execution_count": 1,
     "metadata": {},
     "output_type": "execute_result"
    }
   ],
   "source": [
    "bool(0)"
   ]
  },
  {
   "cell_type": "code",
   "execution_count": 15,
   "id": "2fb4f3c5-8357-427d-a21c-5b35256af3a8",
   "metadata": {},
   "outputs": [
    {
     "data": {
      "text/plain": [
       "False"
      ]
     },
     "execution_count": 15,
     "metadata": {},
     "output_type": "execute_result"
    }
   ],
   "source": [
    "bool(None)"
   ]
  },
  {
   "cell_type": "markdown",
   "id": "e3330ac1-bc0f-47a6-a13b-3e6a10dab666",
   "metadata": {
    "tags": []
   },
   "source": [
    "### Integer\n",
    "- 분수나 소수가 아닌 정수\n",
    "- 음수는 '-' 기호를 붙인다. (i.e. -50)\n",
    "- default = 양수\n",
    "- 숫자 앞에는 0을 쓰지 못한다. (i.e. 09)\n",
    "    - 0bxx (10진수가 아닌)와 같은 것은 가능\n",
    "    - 10진수일 경우에는 0을 앞에 절대 사용하지 않음\n",
    "- 숫자 사이에 쉼표를 쓰면 오류 발생 : 100,000 (','을 기준으로 두 개의 원소로 보기 때문)\n",
    "- 100_000으로 해결 가능\n",
    "        => 숫자 사이의 언더바는 인식하지 않는다는 의미"
   ]
  },
  {
   "cell_type": "code",
   "execution_count": 3,
   "id": "7ed284f1-2367-48df-944f-e38d32e96c96",
   "metadata": {},
   "outputs": [
    {
     "ename": "SyntaxError",
     "evalue": "leading zeros in decimal integer literals are not permitted; use an 0o prefix for octal integers (2890110653.py, line 1)",
     "output_type": "error",
     "traceback": [
      "\u001b[0;36m  File \u001b[0;32m\"/var/folders/_b/6lz4nnpx49579btkl7_ctft80000gn/T/ipykernel_2235/2890110653.py\"\u001b[0;36m, line \u001b[0;32m1\u001b[0m\n\u001b[0;31m    a = 09\u001b[0m\n\u001b[0m         ^\u001b[0m\n\u001b[0;31mSyntaxError\u001b[0m\u001b[0;31m:\u001b[0m leading zeros in decimal integer literals are not permitted; use an 0o prefix for octal integers\n"
     ]
    }
   ],
   "source": [
    "a = 09"
   ]
  },
  {
   "cell_type": "code",
   "execution_count": 4,
   "id": "a9442fe5-ba2b-4c0a-bde1-e86046b9843a",
   "metadata": {},
   "outputs": [
    {
     "data": {
      "text/plain": [
       "-1"
      ]
     },
     "execution_count": 4,
     "metadata": {},
     "output_type": "execute_result"
    }
   ],
   "source": [
    "a = -50\n",
    "b = 49\n",
    "a + b"
   ]
  },
  {
   "cell_type": "markdown",
   "id": "4bdd277f-bdcf-414d-bb0d-83362362a391",
   "metadata": {
    "tags": []
   },
   "source": [
    "### 연산자 | operator\n",
    "- +, -, *, /\n",
    "- 피연산자|operand : 1, 2, ...\n",
    "- 수식|expression"
   ]
  },
  {
   "cell_type": "code",
   "execution_count": 5,
   "id": "c6c51cdb-1f58-4d1c-bfcf-89a3b5ea0f4c",
   "metadata": {},
   "outputs": [
    {
     "data": {
      "text/plain": [
       "6561"
      ]
     },
     "execution_count": 5,
     "metadata": {},
     "output_type": "execute_result"
    }
   ],
   "source": [
    "x = 9\n",
    "y = 4\n",
    "\n",
    "# 연산\n",
    "x + y\n",
    "x - y\n",
    "x * y\n",
    "x / y\n",
    "x ** y # 거듭제곱|exponential"
   ]
  },
  {
   "cell_type": "markdown",
   "id": "91794c12-c0e0-450d-bffb-c6a0d1e045fa",
   "metadata": {
    "tags": []
   },
   "source": [
    "나눗셈 = 몫, 나머지"
   ]
  },
  {
   "cell_type": "code",
   "execution_count": 6,
   "id": "e28800f0-f855-43f1-9260-9c643adf9a91",
   "metadata": {},
   "outputs": [
    {
     "data": {
      "text/plain": [
       "1"
      ]
     },
     "execution_count": 6,
     "metadata": {},
     "output_type": "execute_result"
    }
   ],
   "source": [
    "x / y # 결과물\n",
    "x // y # 몫\n",
    "x % y # 나머지"
   ]
  },
  {
   "cell_type": "code",
   "execution_count": 7,
   "id": "0b46ee6f-db1a-47ac-87a2-21d0560e1b89",
   "metadata": {},
   "outputs": [
    {
     "data": {
      "text/plain": [
       "(2, 1)"
      ]
     },
     "execution_count": 7,
     "metadata": {},
     "output_type": "execute_result"
    }
   ],
   "source": [
    "divmod(x, y) # (몫, 나머지)가 튜플로 반환되는 함수"
   ]
  },
  {
   "cell_type": "code",
   "execution_count": 17,
   "id": "286b4449-b320-450a-8760-5c9ddfc20d85",
   "metadata": {},
   "outputs": [
    {
     "ename": "ZeroDivisionError",
     "evalue": "division by zero",
     "output_type": "error",
     "traceback": [
      "\u001b[0;31m---------------------------------------------------------------------------\u001b[0m",
      "\u001b[0;31mZeroDivisionError\u001b[0m                         Traceback (most recent call last)",
      "\u001b[0;32m/var/folders/_b/6lz4nnpx49579btkl7_ctft80000gn/T/ipykernel_2829/3712039117.py\u001b[0m in \u001b[0;36m<module>\u001b[0;34m\u001b[0m\n\u001b[1;32m      1\u001b[0m \u001b[0;31m# division by zero 항시 유의 / 에러 발생\u001b[0m\u001b[0;34m\u001b[0m\u001b[0;34m\u001b[0m\u001b[0m\n\u001b[1;32m      2\u001b[0m \u001b[0;34m\u001b[0m\u001b[0m\n\u001b[0;32m----> 3\u001b[0;31m \u001b[0ma\u001b[0m \u001b[0;34m=\u001b[0m \u001b[0;36m10\u001b[0m \u001b[0;34m/\u001b[0m \u001b[0;36m0\u001b[0m\u001b[0;34m\u001b[0m\u001b[0;34m\u001b[0m\u001b[0m\n\u001b[0m",
      "\u001b[0;31mZeroDivisionError\u001b[0m: division by zero"
     ]
    }
   ],
   "source": [
    "# division by zero 항시 유의 / 에러 발생\n",
    "\n",
    "a = 10 / 0"
   ]
  },
  {
   "cell_type": "code",
   "execution_count": 9,
   "id": "f152f3e4-3c00-4d74-80d6-ff6d111286c2",
   "metadata": {},
   "outputs": [
    {
     "data": {
      "text/plain": [
       "20"
      ]
     },
     "execution_count": 9,
     "metadata": {},
     "output_type": "execute_result"
    }
   ],
   "source": [
    "1 + 9             + 10 # 숫자 사이에 공백이 있어도 계산은 됨. 그냥 참고!"
   ]
  },
  {
   "cell_type": "markdown",
   "id": "d834f6ef-def1-4261-8368-54fa0c9ad3d3",
   "metadata": {
    "tags": []
   },
   "source": [
    "#### 복합 대입 연산자 | compound assignment operator"
   ]
  },
  {
   "cell_type": "code",
   "execution_count": 10,
   "id": "3563d5e5-d2c6-4cea-95b8-fadb05a895a4",
   "metadata": {},
   "outputs": [
    {
     "name": "stdout",
     "output_type": "stream",
     "text": [
      "5\n"
     ]
    }
   ],
   "source": [
    "x = 5\n",
    "x - 3\n",
    "print(x) # 3이 나오지 않음. 3을 뺀 값을 대입을 해주지 않았기 때문"
   ]
  },
  {
   "cell_type": "code",
   "execution_count": 11,
   "id": "23796c52-584b-4b8e-aab1-ce5f173f3039",
   "metadata": {},
   "outputs": [
    {
     "name": "stdout",
     "output_type": "stream",
     "text": [
      "2\n"
     ]
    }
   ],
   "source": [
    "x = x - 3\n",
    "print(x)\n",
    "\n",
    "## 복합대입 연산자의 논리\n",
    "#1. x - 3 계산\n",
    "#2. temp = x - 3 (임시변수에 담는다)\n",
    "#3. x = temp"
   ]
  },
  {
   "cell_type": "code",
   "execution_count": 12,
   "id": "db2dfda4-45b1-4aa0-9ea7-a6bac4fa0e01",
   "metadata": {},
   "outputs": [
    {
     "name": "stdout",
     "output_type": "stream",
     "text": [
      "-1\n"
     ]
    }
   ],
   "source": [
    "x -= 3\n",
    "print(x) # 2 - 3"
   ]
  },
  {
   "cell_type": "code",
   "execution_count": 13,
   "id": "d10bf4be-e5ae-4c3d-9864-0ec091815aff",
   "metadata": {},
   "outputs": [],
   "source": [
    "x += 3\n",
    "x -= 3\n",
    "x *= 3\n",
    "x /= 3\n",
    "\n",
    "x += 1"
   ]
  },
  {
   "cell_type": "markdown",
   "id": "0d66c399-7ceb-474a-929e-647b6f1613bc",
   "metadata": {
    "tags": []
   },
   "source": [
    "### * Quiz 1.\n",
    "- 반지름을 입력 받아서 원의 면적 구하기\n",
    "- 면적 = pi * r^2\n",
    "\n",
    "### * Quiz 2.\n",
    "- 숫자를 입력 받고 3의 배수인지 확인하기\n",
    "- 숫자를 입력 받고 홀수인지 확인하기"
   ]
  },
  {
   "cell_type": "code",
   "execution_count": 19,
   "id": "9b97a7d7-442b-472b-8db4-4e9afb84a555",
   "metadata": {},
   "outputs": [
    {
     "name": "stdin",
     "output_type": "stream",
     "text": [
      "원의 반지름 길이를 입력하세요:  7.5\n"
     ]
    },
    {
     "name": "stdout",
     "output_type": "stream",
     "text": [
      "원의 넓이는 176.625cm2 입니다.\n"
     ]
    }
   ],
   "source": [
    "# Quiz 1\n",
    "r = float(input(\"원의 반지름 길이를 입력하세요: \"))\n",
    "pi = 3.14\n",
    "area = pi * (r ** 2)\n",
    "\n",
    "print(f'원의 넓이는 {area}cm2 입니다.')"
   ]
  },
  {
   "cell_type": "code",
   "execution_count": 37,
   "id": "e54e2b23-2608-4ae5-a32b-6b32c275e0b5",
   "metadata": {},
   "outputs": [
    {
     "name": "stdin",
     "output_type": "stream",
     "text": [
      "숫자를 입력하세요. (정수만 입력) 6\n"
     ]
    },
    {
     "name": "stdout",
     "output_type": "stream",
     "text": [
      "6은 3의 배수입니다.\n"
     ]
    }
   ],
   "source": [
    "# Quiz 2-1\n",
    "num = int(input(\"숫자를 입력하세요. (정수만 입력)\"))\n",
    "\n",
    "if num % 3 == 0:\n",
    "    print(f'{num}은 3의 배수입니다.')\n",
    "elif num % 3 != 0: \n",
    "    print(f'{num}은 3의 배수가 아닙니다.')"
   ]
  },
  {
   "cell_type": "code",
   "execution_count": 47,
   "id": "259627f9-a6cf-4fa7-90aa-9c95a919b9a1",
   "metadata": {},
   "outputs": [
    {
     "name": "stdin",
     "output_type": "stream",
     "text": [
      "숫자를 입력하세요. (정수만 입력) 4\n"
     ]
    },
    {
     "name": "stdout",
     "output_type": "stream",
     "text": [
      "4(은)는 짝수입니다.\n"
     ]
    }
   ],
   "source": [
    "# Quiz 2-2\n",
    "num2 = int(input(\"숫자를 입력하세요. (정수만 입력)\"))\n",
    "\n",
    "if num2 % 2 == 0: \n",
    "    print(f'{num2}(은)는 짝수입니다.')\n",
    "elif num2 % 2 != 0:\n",
    "    print(f'{num2}(은)는 홀수입니다.')"
   ]
  },
  {
   "cell_type": "markdown",
   "id": "27a195f3-bcb6-4a6a-9a5e-1e35beb035bf",
   "metadata": {},
   "source": [
    "### 지수 표현\n",
    "- 예: `1.0e-4`\n",
    "- e의 앞부분은 소수, 정수 둘 다 됨\n",
    "- 뒷부분은 정수여야 함\n",
    "- 뒷부분이 음수면 소수점 자릿수를 의미함\n",
    "- e, E 둘 다 가능"
   ]
  },
  {
   "cell_type": "code",
   "execution_count": 41,
   "id": "bdf77e7e-5c45-4df3-b1c8-9387c2cc991a",
   "metadata": {},
   "outputs": [
    {
     "data": {
      "text/plain": [
       "0.0001"
      ]
     },
     "execution_count": 41,
     "metadata": {},
     "output_type": "execute_result"
    }
   ],
   "source": [
    "1.0e-4"
   ]
  },
  {
   "cell_type": "code",
   "execution_count": 45,
   "id": "c2ec39c5-0a9f-4f64-b5df-a563ff7363f9",
   "metadata": {},
   "outputs": [
    {
     "data": {
      "text/plain": [
       "0.0004005"
      ]
     },
     "execution_count": 45,
     "metadata": {},
     "output_type": "execute_result"
    }
   ],
   "source": [
    "# 0.0004005 => 지수로 표현하기\n",
    "4005e-7"
   ]
  },
  {
   "cell_type": "markdown",
   "id": "19ce274f-973c-40fe-93c3-a8f7daf44a01",
   "metadata": {
    "tags": []
   },
   "source": [
    "# Ch04. if\n",
    "#### 코드 짜는 팁\n",
    "- 주석 달기\n",
    "     - `#` hash, sharp, ..\n",
    "     - `#` 시작지점부터 라인 끝까지가 주석 처리됨. 라인이 바뀌면 코드로 인식\n",
    "     - \"\"\" \"\"\" : 주석이 여러줄일 때 사용\n",
    "     - 문자열 안에 있는 sharp는 부호로 인식 (주석처리 x)\n",
    "     - 주석의 이유? 코드에 대한 설명은 최대한 하지 않는다. 의도를 나타내기 위해, 오류가 있다거나, ...\n",
    "     - => 코드에 대한 설명을 구구절절 하지 말자!\n",
    "\n",
    "\n",
    "- 라인 유지하기\n",
    "    - 들여쓰기 (default값: space 4개 == Tab 이용)\n",
    "    - 논리 구조를 나타내기 때문에 굉장히 중요함.\n",
    "    - 한 라인에 80자 정도 (백슬래시로 라인을 끊어준다 (\\))"
   ]
  },
  {
   "cell_type": "code",
   "execution_count": 2,
   "id": "88c79890-2f67-451e-82f8-c5401123a930",
   "metadata": {},
   "outputs": [
    {
     "name": "stdout",
     "output_type": "stream",
     "text": [
      "3\n"
     ]
    }
   ],
   "source": [
    "a = 3 # 주석입니다\n",
    "\"\"\"\n",
    "주석1\n",
    "주석2\n",
    "주석3\n",
    "\"\"\"\n",
    "\n",
    "print(a)"
   ]
  },
  {
   "cell_type": "code",
   "execution_count": 3,
   "id": "c64a9a89-5fef-4190-8b11-9fd76238a3c2",
   "metadata": {},
   "outputs": [
    {
     "name": "stdout",
     "output_type": "stream",
     "text": [
      "hey, there #\n"
     ]
    }
   ],
   "source": [
    "print('hey, there #')"
   ]
  },
  {
   "cell_type": "markdown",
   "id": "980f9ade-7112-4437-9d34-12e89323f748",
   "metadata": {},
   "source": [
    "### if\n",
    "\n",
    "if <조건식>:\n",
    "    <실행할 코드>"
   ]
  },
  {
   "cell_type": "code",
   "execution_count": 20,
   "id": "89fc3d83-1e3e-44ba-b057-7e3371cc7f45",
   "metadata": {},
   "outputs": [
    {
     "name": "stdout",
     "output_type": "stream",
     "text": [
      "두 수는 같지 않다\n"
     ]
    }
   ],
   "source": [
    "if 3 != 1:\n",
    "    print(\"두 수는 같지 않다\")"
   ]
  },
  {
   "cell_type": "markdown",
   "id": "53080e74-cf3e-48fb-919e-502769097100",
   "metadata": {},
   "source": [
    "- if-else /\n",
    "if <조건식>:\n",
    "    <실행할 코드>\n",
    "else:\n",
    "    <실행할 코드>"
   ]
  },
  {
   "cell_type": "code",
   "execution_count": 21,
   "id": "78b3385f-891d-48f8-9fc7-3a0af392ceb9",
   "metadata": {},
   "outputs": [
    {
     "name": "stdout",
     "output_type": "stream",
     "text": [
      "두 수는 같지 않다\n"
     ]
    }
   ],
   "source": [
    "if 3 != 1:\n",
    "    print(\"두 수는 같지 않다\")\n",
    "else:\n",
    "    print(\"두 수는 같다\")"
   ]
  },
  {
   "cell_type": "markdown",
   "id": "d07102eb-a0b5-4e1c-a776-6d78a78eb0e2",
   "metadata": {},
   "source": [
    "- if-elif-else\n",
    "if <조건식>:\n",
    "    <실행할 코드1>\n",
    "elif <조건식2>:\n",
    "    <실행할 코드3>\n",
    "    ...\n",
    "else:\n",
    "    <실행할 코드2>"
   ]
  },
  {
   "cell_type": "code",
   "execution_count": 8,
   "id": "1dcdf1c5-c098-4995-90fe-f5e1265fb7eb",
   "metadata": {},
   "outputs": [
    {
     "name": "stdout",
     "output_type": "stream",
     "text": [
      "3보다 크다\n"
     ]
    }
   ],
   "source": [
    "a = 4\n",
    "\n",
    "if a < 3 :\n",
    "    print(\"3보다 작다\")\n",
    "elif a == 3:\n",
    "    print(\"3이다\")\n",
    "else:\n",
    "    print(\"3보다 크다\")"
   ]
  },
  {
   "cell_type": "code",
   "execution_count": 23,
   "id": "fc462a09-4d0d-45eb-bb57-33b66cb1d5ac",
   "metadata": {},
   "outputs": [],
   "source": [
    "a = 4\n",
    "\n",
    "if a < 3 :\n",
    "    print(\"3보다 작다\")\n",
    "    \n",
    "if a == 3:\n",
    "    print(\"3이다\")\n",
    "    \n",
    "if a > 4:\n",
    "    print(\"3보다 크다\")\n",
    "    \n",
    "# 답 존재하지 않음"
   ]
  },
  {
   "cell_type": "markdown",
   "id": "0b85a3f0-7ccb-4929-be21-1561647d7849",
   "metadata": {},
   "source": [
    "### 비교연산자\n",
    " - x < y\n",
    " - x > y\n",
    " - x >= y\n",
    " - x <= y\n",
    " - x == y (값이)\n",
    " - x != y\n",
    " - x is y (값, 메모리주소)\n",
    " - x is not y (값, 메모리주소)"
   ]
  },
  {
   "cell_type": "code",
   "execution_count": 34,
   "id": "f59661c8-5093-453e-94b1-6547582fbb9c",
   "metadata": {},
   "outputs": [
    {
     "name": "stdout",
     "output_type": "stream",
     "text": [
      "True\n",
      "True\n",
      "140669977029040 140669977029040\n"
     ]
    }
   ],
   "source": [
    "x = 5\n",
    "y = 5\n",
    "\n",
    "print(bool(x==y)) # 값 비교\n",
    "print(bool(x is y)) # 주소값 비교\n",
    "\n",
    "print(id(x), id(y)) # x, y의 주소값 출력"
   ]
  },
  {
   "cell_type": "markdown",
   "id": "8eb21592-2fdc-4567-a37d-ddb424192207",
   "metadata": {
    "tags": []
   },
   "source": [
    "### * Quiz\n",
    "- 1. 시험 점수를 입력 받고, 80점 이상이면 True, 아니면 False 반환하기\n",
    "- 2. 시험 점수를 입력 받고, 95이상 A+, 90이상 A, 85이상 B+, 나머지 F로 출력하세요."
   ]
  },
  {
   "cell_type": "code",
   "execution_count": 18,
   "id": "4e5ad204-ed38-4639-87ee-88a2209d97a8",
   "metadata": {},
   "outputs": [
    {
     "name": "stdin",
     "output_type": "stream",
     "text": [
      "시험 점수를 입력하세요:  90\n"
     ]
    },
    {
     "name": "stdout",
     "output_type": "stream",
     "text": [
      "True\n"
     ]
    }
   ],
   "source": [
    "# Quiz 1\n",
    "\n",
    "score = float(input('시험 점수를 입력하세요: '))\n",
    "\n",
    "if score >= 80:\n",
    "    score = True\n",
    "else:\n",
    "    score = False\n",
    "\n",
    "print(score)"
   ]
  },
  {
   "cell_type": "code",
   "execution_count": 37,
   "id": "f3687410-7d05-4047-aa58-432fdf9dfce8",
   "metadata": {},
   "outputs": [
    {
     "name": "stdin",
     "output_type": "stream",
     "text": [
      "시험 점수를 입력하세요:  60\n"
     ]
    },
    {
     "name": "stdout",
     "output_type": "stream",
     "text": [
      "F\n"
     ]
    }
   ],
   "source": [
    "# Quiz 2\n",
    "\n",
    "score2 = float(input('시험 점수를 입력하세요: '))\n",
    "\n",
    "if score2 >= 95:\n",
    "    print('A+')\n",
    "elif score2 >= 90:\n",
    "    print('A')\n",
    "elif score2 >= 85:\n",
    "    print('B+')\n",
    "else:\n",
    "    print('F')"
   ]
  },
  {
   "cell_type": "code",
   "execution_count": null,
   "id": "264bd934-a55d-48b5-a65c-ee4fac8c4784",
   "metadata": {},
   "outputs": [],
   "source": []
  }
 ],
 "metadata": {
  "kernelspec": {
   "display_name": "Python 3 (ipykernel)",
   "language": "python",
   "name": "python3"
  },
  "language_info": {
   "codemirror_mode": {
    "name": "ipython",
    "version": 3
   },
   "file_extension": ".py",
   "mimetype": "text/x-python",
   "name": "python",
   "nbconvert_exporter": "python",
   "pygments_lexer": "ipython3",
   "version": "3.9.7"
  }
 },
 "nbformat": 4,
 "nbformat_minor": 5
}
