{
 "cells": [
  {
   "cell_type": "markdown",
   "id": "e28577d2-b9f3-4de9-a386-4913874d0187",
   "metadata": {},
   "source": [
    "# Week03"
   ]
  },
  {
   "cell_type": "markdown",
   "id": "4f7133af-a247-4275-9c70-5e558662d4e0",
   "metadata": {},
   "source": [
    "### 수업 전 퀴즈 (기억 나는 문제만)\n",
    "- 밑에 쓴 코드대로 제출하진 못했지만 무엇을 놓쳤는지 리뷰하고자 함\n",
    "\n",
    "#### 1. 세 값을 입력받고, 세 수 중 가장 큰 수를 구하는 코드"
   ]
  },
  {
   "cell_type": "code",
   "execution_count": 2,
   "id": "c2bea533-0cf7-4241-a196-a8034f52b9bf",
   "metadata": {
    "tags": []
   },
   "outputs": [
    {
     "name": "stdin",
     "output_type": "stream",
     "text": [
      " 25\n",
      " 7\n",
      " 3\n"
     ]
    },
    {
     "name": "stdout",
     "output_type": "stream",
     "text": [
      "25\n"
     ]
    }
   ],
   "source": [
    "a = int(input())\n",
    "b = int(input())\n",
    "c = int(input())\n",
    "\n",
    "maximum = a\n",
    "\n",
    "if maximum < b:\n",
    "    maximum = b\n",
    "\n",
    "if maximum < c:\n",
    "    maximum = c\n",
    "\n",
    "print(maximum)"
   ]
  },
  {
   "cell_type": "code",
   "execution_count": 2,
   "id": "1b7b5242-fbbd-4fef-835f-5ee24b3a6ff0",
   "metadata": {},
   "outputs": [
    {
     "name": "stdin",
     "output_type": "stream",
     "text": [
      " 5\n",
      " 1\n",
      " 6\n",
      " 2\n",
      " 10\n",
      " 7\n"
     ]
    },
    {
     "name": "stdout",
     "output_type": "stream",
     "text": [
      "10\n"
     ]
    }
   ],
   "source": [
    "# 만약 세 값이 아니라 여러 개의 값을 입력 받아야 할 땐 어떻게 하면 좋을까?\n",
    "\n",
    "n = int(input())\n",
    "lis = []\n",
    "for i in range(n):\n",
    "    number = int(input())\n",
    "    lis.append(number)\n",
    "\n",
    "maxnum = lis[0]\n",
    "\n",
    "for j in lis:\n",
    "    if j > maxnum:\n",
    "        maxnum = j\n",
    "\n",
    "print(maxnum)"
   ]
  },
  {
   "cell_type": "markdown",
   "id": "ac0e537e-45e9-421e-a2f9-51866455f52c",
   "metadata": {
    "tags": []
   },
   "source": [
    "#### 2. 랜덤값을 받고 3kg, 5kg 흙 효율적으로 옮기기 문제"
   ]
  },
  {
   "cell_type": "code",
   "execution_count": 8,
   "id": "dc359cf7-592f-42e6-9d86-79183b830b9e",
   "metadata": {},
   "outputs": [
    {
     "name": "stdin",
     "output_type": "stream",
     "text": [
      " 19\n"
     ]
    },
    {
     "name": "stdout",
     "output_type": "stream",
     "text": [
      "0 4\n"
     ]
    }
   ],
   "source": [
    "# import random\n",
    "# num = random.randint(10, 100)\n",
    "\n",
    "## 계산 결과를 정확히 보기 위해 입력값을 받고 결과를 구해보자.\n",
    "\n",
    "num = int(input())\n",
    "\n",
    "fivecount = 0\n",
    "threecount = 0\n",
    "\n",
    "if num % 5 == 0:\n",
    "    fivecount += num // 5\n",
    "elif 0 < num % 5 <= 3:\n",
    "    fivecount += num // 5\n",
    "    threecount += 1\n",
    "elif num % 5 == 4:\n",
    "    fivecount += num // 5 + 1\n",
    "\n",
    "print(threecount, fivecount)\n",
    "     "
   ]
  },
  {
   "cell_type": "markdown",
   "id": "f0d586ce-2dc8-4564-a7e5-e052417a8e2d",
   "metadata": {},
   "source": [
    "#### 3. 낮에 5미터 올라가고, 밤에 2미터 떨어지는 달팽이가 350미터 나무를 오르는 데 걸리는 일 수 "
   ]
  },
  {
   "cell_type": "code",
   "execution_count": 10,
   "id": "91ab2121-2b69-4475-8d19-fefa53cc0e53",
   "metadata": {},
   "outputs": [
    {
     "name": "stdout",
     "output_type": "stream",
     "text": [
      "116\n"
     ]
    }
   ],
   "source": [
    "tree = 350\n",
    "\n",
    "daytime = 5\n",
    "night = 2\n",
    "\n",
    "day = 0\n",
    "snail = 0\n",
    "\n",
    "while True:\n",
    "    snail += 5\n",
    "    if snail >= tree:\n",
    "        day += 1\n",
    "        break\n",
    "    snail -= 2\n",
    "    day += 1\n",
    "\n",
    "print(day)"
   ]
  },
  {
   "cell_type": "markdown",
   "id": "83d553cd-79fa-4309-89d7-47a451521610",
   "metadata": {},
   "source": [
    "<hr>\n",
    "\n",
    "## Ch04. 중첩조건문\n",
    "- nested conditional\n",
    "- if 블록 안에 또다른 if 블록이 있는 경우\n",
    "- 들여쓰기로 논리를 구분한다. (Tab or space 4번)"
   ]
  },
  {
   "cell_type": "code",
   "execution_count": 3,
   "id": "ddad8e85-44a6-4f5c-a6fc-1f120e918e62",
   "metadata": {},
   "outputs": [
    {
     "name": "stdout",
     "output_type": "stream",
     "text": [
      "Block B\n"
     ]
    }
   ],
   "source": [
    "x = 0\n",
    "y = 1\n",
    "\n",
    "if x == y:\n",
    "    print(\"Block A\")\n",
    "else:\n",
    "    if x < y:\n",
    "        print(\"Block B\")\n",
    "    else:\n",
    "        print(\"Block C\")\n",
    "\n",
    "# 안 좋은 예시 : 논리가 두 개가 들어가다보니 복잡해짐"
   ]
  },
  {
   "cell_type": "code",
   "execution_count": 4,
   "id": "8ebad7cd-a4d7-4d61-8de7-671464cf64c3",
   "metadata": {},
   "outputs": [
    {
     "name": "stdout",
     "output_type": "stream",
     "text": [
      "Block C\n"
     ]
    }
   ],
   "source": [
    "if x > 0:\n",
    "    if x < 10:\n",
    "        print(\"Block A\")\n",
    "    else:\n",
    "        print(\"Block B\")\n",
    "else:\n",
    "    print(\"Block C\")\n",
    "    \n",
    "# 0 < x < 10"
   ]
  },
  {
   "cell_type": "code",
   "execution_count": 5,
   "id": "05756f4d-972f-4f5a-b4af-0de6c0bc8d09",
   "metadata": {},
   "outputs": [
    {
     "name": "stdout",
     "output_type": "stream",
     "text": [
      "Block B\n"
     ]
    }
   ],
   "source": [
    "# 1번째 문제 수정\n",
    "if x == y:\n",
    "    print(\"Block A\")\n",
    "elif x < y:\n",
    "    print(\"Block B\")\n",
    "else:\n",
    "    print(\"Block C\")"
   ]
  },
  {
   "cell_type": "code",
   "execution_count": 6,
   "id": "250ded25-ce58-4796-b1f5-180498d51aaa",
   "metadata": {},
   "outputs": [
    {
     "name": "stdout",
     "output_type": "stream",
     "text": [
      "Block B\n",
      "Block B\n"
     ]
    }
   ],
   "source": [
    "# 2번째 문제 수정 방법 1\n",
    "if (x > 0) and (x < 10): # 논리 연산자 사용 시 여러 조건을 한 줄에 놓을 수 있음\n",
    "    print(\"Block A\")\n",
    "else:\n",
    "    print(\"Block B\")\n",
    "\n",
    "# 방법 2 (파이썬에서만 가능)\n",
    "if 0 < x < 10:\n",
    "    print(\"Block A\")\n",
    "else:\n",
    "    print(\"Block B\")\n",
    "\n",
    "#중첩조건문은 이처럼 웬만하면 다른 방법으로 바꿀 것 (중첩을 최소화)"
   ]
  },
  {
   "cell_type": "markdown",
   "id": "5f92bfd2-0bfd-4120-875e-6e4bc2eaf0e2",
   "metadata": {},
   "source": [
    "### 논리연산자\n",
    "- 비교연산자가 여러번 사용될 때 사용하는 것\n",
    "- and, or, not\n",
    "    - A and B: A도 참이고, B도 참일 때 True\n",
    "        - 예: A & B\n",
    "    - A or B: A 혹은 B, 둘중 하나만 참이면 True\n",
    "        - 예: A | B\n",
    "    - not(A): A가 False -> True, True -> False // 그냥 not으로 사용하면 에러날 수 있음. () 붙이기.\n",
    "- 비교연산자의 괄호는 가독성을 위해 (optional)\n",
    "- 파이썬에서만 가능한 표현: 0 < x < 10"
   ]
  },
  {
   "cell_type": "markdown",
   "id": "2407f92c-662e-43ad-b762-71a14886475b",
   "metadata": {},
   "source": [
    "### True, False\n",
    "- \"만약 a가 참이라면, ...\"\n",
    "- a = True"
   ]
  },
  {
   "cell_type": "code",
   "execution_count": 8,
   "id": "c7607edd-95c4-4817-a589-edd0263abdec",
   "metadata": {},
   "outputs": [
    {
     "name": "stdout",
     "output_type": "stream",
     "text": [
      "if a == True 사용금지\n",
      "a is True\n"
     ]
    }
   ],
   "source": [
    "a = True\n",
    "\n",
    "if a == True:\n",
    "    print('if a == True 사용금지') # 틀림. 사용하지 말 것\n",
    "    \n",
    "if a:\n",
    "    print('a is True')"
   ]
  },
  {
   "cell_type": "code",
   "execution_count": 19,
   "id": "eb4972ed-6e87-4788-a338-7f7b0206963b",
   "metadata": {},
   "outputs": [
    {
     "name": "stdout",
     "output_type": "stream",
     "text": [
      "이 문장은 실행됐다면 b는 참이 아닙니다.\n"
     ]
    }
   ],
   "source": [
    "# 변수가 False라면 어떻게 될까?\n",
    "\n",
    "b = False\n",
    "\n",
    "if b: # if문은 b가 참이어야 실행됨 -> b는 거짓(False)이므로 실행되지 못함\n",
    "    print('이 문장이 실행됐다면 b는 참입니다.')\n",
    "else: # b가 참이 아니기 때문에 else문이 실행됨\n",
    "    print('이 문장은 실행됐다면 b는 참이 아닙니다.')"
   ]
  },
  {
   "cell_type": "markdown",
   "id": "c66dbf9e-9929-4c59-807d-fff7e8f731d4",
   "metadata": {},
   "source": [
    "### in\n",
    "- membership operator\n",
    "- 어떤 요소가 그 안에 있는지 확인하고 싶다\n",
    "- 비슷한 조건이 여러번 반복될 때 사용 가능"
   ]
  },
  {
   "cell_type": "code",
   "execution_count": 21,
   "id": "8d858130-dcda-4bf1-b75b-f10dbf92a617",
   "metadata": {},
   "outputs": [
    {
     "name": "stdout",
     "output_type": "stream",
     "text": [
      "No\n"
     ]
    }
   ],
   "source": [
    "letter = 'k'\n",
    "\n",
    "# letter가 모음인지 확인하고 싶다: a, e, i, o, u\n",
    "# if letter == 'a' or letter == 'e' or letter == 'i' ...\n",
    "\n",
    "if letter in ['a', 'e', 'i', 'o', 'u']: # 리스트 요소에 letter와 일치하는 것이 있는가\n",
    "    print(\"Yes\")\n",
    "else:\n",
    "    print(\"No\")"
   ]
  },
  {
   "cell_type": "code",
   "execution_count": 26,
   "id": "a6a21cea-6756-47c5-8127-72bca595ad7a",
   "metadata": {},
   "outputs": [
    {
     "name": "stdout",
     "output_type": "stream",
     "text": [
      "a Yes\n",
      "b No\n",
      "c No\n",
      "d No\n",
      "e Yes\n"
     ]
    }
   ],
   "source": [
    "word = 'abcde'\n",
    "moem = ['a', 'e', 'i', 'o', 'u']\n",
    "\n",
    "# word에 모음이 있는지 확인 // for loop는 아직 안 배웠으니 패스\n",
    "# 출력 : 글자 / 모음인지(Yes) 아닌지(No)\n",
    "\n",
    "for ch in word:\n",
    "    if ch in moem:\n",
    "        print(ch, \"Yes\") \n",
    "    else:\n",
    "        print(ch, \"No\")"
   ]
  },
  {
   "cell_type": "code",
   "execution_count": 27,
   "id": "2fb18941-a82d-4aa0-ac69-86b4911f4c80",
   "metadata": {},
   "outputs": [
    {
     "name": "stdout",
     "output_type": "stream",
     "text": [
      "Yes\n"
     ]
    }
   ],
   "source": [
    "# for loop를 사용하지 않고 word에 모음이 있는지 확인\n",
    "\n",
    "if 'a' or 'e' or 'i' or 'o' or 'u' in word:\n",
    "    print('Yes')\n",
    "else:\n",
    "    print('No')"
   ]
  },
  {
   "cell_type": "markdown",
   "id": "121a0b2d-f8c0-4bc0-8248-3d32e516466f",
   "metadata": {},
   "source": [
    "### 바다코끼리 연산자\n",
    "- walrus operator\n",
    "- 할당과 테스트를 동시에 하는 기능\n",
    "- `:=`"
   ]
  },
  {
   "cell_type": "code",
   "execution_count": 29,
   "id": "755c3f5d-bf26-462e-9d69-cb31b794a1a9",
   "metadata": {},
   "outputs": [
    {
     "data": {
      "text/plain": [
       "'blahblahblahblahblahblahblahblahblahblahblahblahblahblahblahblahblahblahblahblahblahblahblahblahblahblahblahblahblahblahblahblahblahblahblahblahblahblahblahblahblahblahblahblahblahblahblahblahblahblah'"
      ]
     },
     "execution_count": 29,
     "metadata": {},
     "output_type": "execute_result"
    }
   ],
   "source": [
    "tweet_limit = 200\n",
    "tweet_string = 'blah' * 50 # 공백 없이 스트링 4*50개\n",
    "tweet_string"
   ]
  },
  {
   "cell_type": "code",
   "execution_count": 30,
   "id": "86df0ffe-5915-4082-81cc-34244c1a1c42",
   "metadata": {},
   "outputs": [
    {
     "name": "stdout",
     "output_type": "stream",
     "text": [
      "불가능\n"
     ]
    }
   ],
   "source": [
    "diff = tweet_limit - len(tweet_string)\n",
    "if diff > 0:\n",
    "    print(\"가능\")\n",
    "else:\n",
    "    print(\"불가능\")"
   ]
  },
  {
   "cell_type": "code",
   "execution_count": 32,
   "id": "fc98b0ee-f22a-4c08-b6ea-a529cf7c703f",
   "metadata": {},
   "outputs": [
    {
     "name": "stdout",
     "output_type": "stream",
     "text": [
      "불가능\n"
     ]
    }
   ],
   "source": [
    "if diff := tweet_limit - len(tweet_string) > 0:\n",
    "    print(\"가능\")\n",
    "else:\n",
    "    print(\"불가능\")"
   ]
  },
  {
   "cell_type": "code",
   "execution_count": 40,
   "id": "1b002267-cea1-4e7d-9e2b-1bbd0cce2336",
   "metadata": {},
   "outputs": [
    {
     "name": "stdin",
     "output_type": "stream",
     "text": [
      " 3\n",
      " -8\n"
     ]
    },
    {
     "name": "stdout",
     "output_type": "stream",
     "text": [
      "False은 0\n"
     ]
    }
   ],
   "source": [
    "# 바다코끼리 연산자에 대한 아쉬움? 의문?\n",
    "\n",
    "a = int(input())\n",
    "b = int(input())\n",
    "\n",
    "if hap := a + b > 0:\n",
    "    print(f\"{hap}은 양수\")\n",
    "elif hap == 0:\n",
    "    print(f\"{hap}은 0\")\n",
    "else:\n",
    "    print(f\"{hap}은 음수\")\n",
    "\n",
    "## 바다코끼리 연산자로 hap = a + b 할당을 기대했으나 hap은 a+b의 결과(int)가 아니라 참/거짓 값을 가지는 것을 확인"
   ]
  },
  {
   "cell_type": "markdown",
   "id": "75d01a66-42fa-42ad-b941-cc774c690e71",
   "metadata": {},
   "source": [
    "### Quiz\n",
    "- 윤년을 구하는 코드를 짜보자\n",
    "    - 연도가 4로 나눠떨어지면 윤년\n",
    "    - 100으로 나눠떨어지면 안 된다\n",
    "    - 400으로 나눠떨어지면 된다\n",
    " \n",
    "- year를 입력받는다.\n",
    "- 출력값 = '{}년은 윤년입니다' / '{}년은 윤년이 아닙니다.'"
   ]
  },
  {
   "cell_type": "code",
   "execution_count": 41,
   "id": "6d933a93-7876-4bf4-88b4-cf4dab14cb56",
   "metadata": {},
   "outputs": [
    {
     "name": "stdin",
     "output_type": "stream",
     "text": [
      "연도를 입력하세요:  2000\n"
     ]
    },
    {
     "name": "stdout",
     "output_type": "stream",
     "text": [
      "2000년은 윤년입니다.\n"
     ]
    }
   ],
   "source": [
    "# 내가 짠 코드\n",
    "\n",
    "year = int(input(\"연도를 입력하세요: \"))\n",
    "\n",
    "if year % 4 == 0 and year % 100 != 0:\n",
    "    print(f\"{year}년은 윤년입니다.\")\n",
    "elif year % 400 == 0:\n",
    "    print(f\"{year}년은 윤년입니다.\")\n",
    "else:\n",
    "    print(f\"{year}년은 윤년이 아닙니다.\")\n",
    "          "
   ]
  },
  {
   "cell_type": "code",
   "execution_count": 44,
   "id": "2efd6039-a380-4981-b3a8-05935c390c45",
   "metadata": {},
   "outputs": [
    {
     "name": "stdin",
     "output_type": "stream",
     "text": [
      "연도를 입력하세요:  2000\n"
     ]
    },
    {
     "name": "stdout",
     "output_type": "stream",
     "text": [
      "2000년은 윤년입니다.\n"
     ]
    }
   ],
   "source": [
    "# 다른 분이 짠 코드\n",
    "\n",
    "year = int(input(\"연도를 입력하세요: \"))\n",
    "\n",
    "if year % 4 == 0 and year % 100 != 0 or year % 400 == 0: # 한 줄에 조건을 몰아넣으신 것으로 보임\n",
    "    print(f\"{year}년은 윤년입니다.\")\n",
    "else:\n",
    "    print(f\"{year}년은 윤년이 아닙니다.\")"
   ]
  },
  {
   "cell_type": "markdown",
   "id": "e31a6a92-f4b8-4a64-9ac0-9654f6a0844c",
   "metadata": {},
   "source": [
    "<hr>\n",
    "\n",
    "## Ch05. String | 문자열\n",
    "- str type\n",
    "- 시스템에서 가장 작은 단위 a (시스템에서 차지하는 크기가 가장 작다는 의미)\n",
    "- 불변적인 성격을 가짐 (immutable)\n",
    "    - 'abcd' -> b -> a 바꿀 수 없다\n",
    "- 문법: '', \"\" 감싸면 모두 문자열\n",
    "    - 예: '24'\n",
    "- ''' or \"\"\" => 주석\n",
    "\n",
    "## Escape character | 이스케이프문자\n",
    "- 눈에 보이는 대로 인식되지 않는 문자열\n",
    "- 문법: \\ + character\n",
    "- \\n, \\t, \\b (백스페이스는 잘 사용하지 않음), \\'\n",
    "- print()함수 쓰지 않으면 형태가 출력은 된다\n",
    "- '\\n' 출력은 어떻게?\n",
    "    - \\\\n\n",
    "    - r'' (raw string)\n",
    "- 문자열을 바꾸는 것이 아니라 표면상의 형태를 말하는 것 (어쨌든 내용은 변하지 않는다)"
   ]
  },
  {
   "cell_type": "code",
   "execution_count": 45,
   "id": "662dc4a6-d5cd-4708-8b20-cd42e898128d",
   "metadata": {},
   "outputs": [
    {
     "name": "stdout",
     "output_type": "stream",
     "text": [
      "hellworld\n"
     ]
    }
   ],
   "source": [
    "print(\"hello\\bworld\") # /b: 앞글자 하나 지움"
   ]
  },
  {
   "cell_type": "code",
   "execution_count": 46,
   "id": "a42bf4e8-e4ce-4142-a81f-7538d5d6d457",
   "metadata": {},
   "outputs": [
    {
     "name": "stdout",
     "output_type": "stream",
     "text": [
      "hello\\tworld I\\'m a boy\n"
     ]
    }
   ],
   "source": [
    "sent = r'hello\\tworld I\\'m a boy'\n",
    "print(sent)"
   ]
  },
  {
   "cell_type": "code",
   "execution_count": 50,
   "id": "fb114c43-69fd-467c-84a1-11a4c3981732",
   "metadata": {},
   "outputs": [
    {
     "data": {
      "text/plain": [
       "\"hello\\\\tworld I\\\\'m a boy\""
      ]
     },
     "execution_count": 50,
     "metadata": {},
     "output_type": "execute_result"
    }
   ],
   "source": [
    "sent"
   ]
  },
  {
   "cell_type": "code",
   "execution_count": 51,
   "id": "07d080c6-430d-40ae-aa39-e06dc9162a0c",
   "metadata": {},
   "outputs": [
    {
     "name": "stdout",
     "output_type": "stream",
     "text": [
      "hello\tworld I'm a boy\n"
     ]
    }
   ],
   "source": [
    "print('hello\\tworld I\\'m a boy') # /t : Tab (space 4번)"
   ]
  },
  {
   "cell_type": "markdown",
   "id": "de172dd2-ebec-4be2-bebb-3fe96d53fd4b",
   "metadata": {},
   "source": [
    "### 연산\n",
    "- concatenation (+)\n",
    "    - '' + '' => 붙이기\n",
    "- 복제 (*)\n",
    "    - \"*4 => 4번 반복"
   ]
  },
  {
   "cell_type": "code",
   "execution_count": 52,
   "id": "8cf1b33c-20b3-4936-802c-a9c620c8a7a1",
   "metadata": {},
   "outputs": [
    {
     "data": {
      "text/plain": [
       "'brainbrain'"
      ]
     },
     "execution_count": 52,
     "metadata": {},
     "output_type": "execute_result"
    }
   ],
   "source": [
    "word = 'brain'\n",
    "word + word # 공백 없이 붙음"
   ]
  },
  {
   "cell_type": "code",
   "execution_count": 53,
   "id": "b82254a5-81a2-4684-a67b-8c2c4d6d0d26",
   "metadata": {},
   "outputs": [
    {
     "data": {
      "text/plain": [
       "'brainbrainbrainbrain'"
      ]
     },
     "execution_count": 53,
     "metadata": {},
     "output_type": "execute_result"
    }
   ],
   "source": [
    "word * 4"
   ]
  },
  {
   "cell_type": "code",
   "execution_count": 54,
   "id": "24eaa59d-9b19-4e14-bad3-109c5059c604",
   "metadata": {},
   "outputs": [
    {
     "data": {
      "text/plain": [
       "'My name isJake'"
      ]
     },
     "execution_count": 54,
     "metadata": {},
     "output_type": "execute_result"
    }
   ],
   "source": [
    "\"My name is\" + \"Jake\""
   ]
  },
  {
   "cell_type": "code",
   "execution_count": 55,
   "id": "b75224d5-9752-4b26-92a6-6ed119fec6d3",
   "metadata": {},
   "outputs": [
    {
     "data": {
      "text/plain": [
       "'My name is Jake'"
      ]
     },
     "execution_count": 55,
     "metadata": {},
     "output_type": "execute_result"
    }
   ],
   "source": [
    "\"My name is \" + \"Jake\""
   ]
  },
  {
   "cell_type": "markdown",
   "id": "7834c394-106a-4def-8431-27807c8cd116",
   "metadata": {},
   "source": [
    "### Slicing\n",
    "- 지정 범위의 문자열을 추출하는 것\n",
    "- 문법: 대괄호 + 오프셋 이용 [offset]\n",
    "    - [start:end:step]\n",
    "- 오프셋은 0부터 시작\n",
    "- start 포함, end 불포함 (크거나 같고, 작다 // start <=, < end)\n",
    "- 0일 경우 생략한다.\n",
    "    - 예: ~4까지 출력하라 => [:5]\n",
    "    - 처음부터 2스텝씩 => [::2]\n",
    "    - 처음부터 끝까지 역순으로 찍기 => [::-1]\n",
    "- 오프셋은 거꾸로도 가능하다\n",
    "0 1 2 ..\n",
    "h e l l o -5 -1\n",
    "(차이점 : 역순은 0부터 시작하지 않는다. -1부터)"
   ]
  },
  {
   "cell_type": "code",
   "execution_count": 56,
   "id": "e61d7acc-38a0-462c-8cbf-6b68212faf49",
   "metadata": {},
   "outputs": [
    {
     "data": {
      "text/plain": [
       "(\"hello\\\\tworld I\\\\'m a boy\", 'e')"
      ]
     },
     "execution_count": 56,
     "metadata": {},
     "output_type": "execute_result"
    }
   ],
   "source": [
    "sent, sent[1] # 2번째 글자"
   ]
  },
  {
   "cell_type": "code",
   "execution_count": 58,
   "id": "04e1e4c1-b7b0-497d-af46-5e2c8fc436ba",
   "metadata": {},
   "outputs": [
    {
     "data": {
      "text/plain": [
       "'l'"
      ]
     },
     "execution_count": 58,
     "metadata": {},
     "output_type": "execute_result"
    }
   ],
   "source": [
    "sent[3:4] # 3만 나옴 [start:end] 에서 end는 미포함이므로"
   ]
  },
  {
   "cell_type": "code",
   "execution_count": 59,
   "id": "4b838bde-7b87-4ce4-8971-a239793921c9",
   "metadata": {},
   "outputs": [
    {
     "data": {
      "text/plain": [
       "('hell', 'hell', 'hello', \"hello\\\\tworld I\\\\'m a boy\")"
      ]
     },
     "execution_count": 59,
     "metadata": {},
     "output_type": "execute_result"
    }
   ],
   "source": [
    "# 처음부터 4까지\n",
    "sent[0:4], sent[:4], sent[:5], sent[:]"
   ]
  },
  {
   "cell_type": "code",
   "execution_count": 60,
   "id": "d5900508-6415-40b1-b1b0-9fd21525d21b",
   "metadata": {},
   "outputs": [
    {
     "data": {
      "text/plain": [
       "11"
      ]
     },
     "execution_count": 60,
     "metadata": {},
     "output_type": "execute_result"
    }
   ],
   "source": [
    "sent2 = 'hello world'\n",
    "len(sent2) # length"
   ]
  },
  {
   "cell_type": "code",
   "execution_count": 61,
   "id": "53932ee5-afda-418f-bf21-639f093bb776",
   "metadata": {},
   "outputs": [
    {
     "data": {
      "text/plain": [
       "'hlotol \\\\maby'"
      ]
     },
     "execution_count": 61,
     "metadata": {},
     "output_type": "execute_result"
    }
   ],
   "source": [
    "# 처음부터 끝까지 2스텝씩 출력하기\n",
    "sent[::2]"
   ]
  },
  {
   "cell_type": "code",
   "execution_count": 62,
   "id": "a4417640-944c-4cb4-81d0-4d08514cd799",
   "metadata": {},
   "outputs": [
    {
     "data": {
      "text/plain": [
       "'olleh'"
      ]
     },
     "execution_count": 62,
     "metadata": {},
     "output_type": "execute_result"
    }
   ],
   "source": [
    "hello = 'hello'\n",
    "hello[::-1]"
   ]
  },
  {
   "cell_type": "code",
   "execution_count": 63,
   "id": "b3e81199-c063-4492-b34a-8305a5d52500",
   "metadata": {},
   "outputs": [
    {
     "ename": "TypeError",
     "evalue": "'str' object does not support item assignment",
     "output_type": "error",
     "traceback": [
      "\u001b[0;31m---------------------------------------------------------------------------\u001b[0m",
      "\u001b[0;31mTypeError\u001b[0m                                 Traceback (most recent call last)",
      "\u001b[0;32m/var/folders/_b/6lz4nnpx49579btkl7_ctft80000gn/T/ipykernel_1731/2772675717.py\u001b[0m in \u001b[0;36m<module>\u001b[0;34m\u001b[0m\n\u001b[0;32m----> 1\u001b[0;31m \u001b[0mhello\u001b[0m\u001b[0;34m[\u001b[0m\u001b[0;36m2\u001b[0m\u001b[0;34m]\u001b[0m \u001b[0;34m=\u001b[0m \u001b[0;34m'L'\u001b[0m \u001b[0;31m# 불변타입이기 때문에 바꿀 수 없음 // error 발생\u001b[0m\u001b[0;34m\u001b[0m\u001b[0;34m\u001b[0m\u001b[0m\n\u001b[0m\u001b[1;32m      2\u001b[0m \u001b[0mhello\u001b[0m\u001b[0;34m\u001b[0m\u001b[0;34m\u001b[0m\u001b[0m\n",
      "\u001b[0;31mTypeError\u001b[0m: 'str' object does not support item assignment"
     ]
    }
   ],
   "source": [
    "hello[2] = 'L' # 불변타입이기 때문에 바꿀 수 없음 // error 발생\n",
    "hello"
   ]
  },
  {
   "cell_type": "code",
   "execution_count": 65,
   "id": "6072ee3d-c15a-4875-9c92-173e837af4ea",
   "metadata": {},
   "outputs": [
    {
     "data": {
      "text/plain": [
       "'a'"
      ]
     },
     "execution_count": 65,
     "metadata": {},
     "output_type": "execute_result"
    }
   ],
   "source": [
    "# 문자열 sentence의 x번째 글자는 무엇인지 구하시오 => sentence[x-1]로 구한다.\n",
    "sentence = 'abcdefg'\n",
    "sentence[1] # a가 아니라 b\n",
    "sentence[0] # a"
   ]
  },
  {
   "cell_type": "markdown",
   "id": "1376c1f1-513f-4215-8a18-23a771298203",
   "metadata": {},
   "source": [
    "<hr>\n",
    "\n",
    "### 라이브러리 실습 - NLTK\n",
    "- natural language toolkit\n",
    "- 교육용으로 개발된 자연어처리 패키지\n",
    "- 코퍼스 제공하는데 어떤 처리가 되어 있다.\n",
    "    - 토크나이즈, 파싱, 태깅, ..."
   ]
  },
  {
   "cell_type": "code",
   "execution_count": 66,
   "id": "65a642a2-8241-418e-b369-f8405bdda52e",
   "metadata": {},
   "outputs": [
    {
     "name": "stdout",
     "output_type": "stream",
     "text": [
      "Requirement already satisfied: nltk in /Users/parkhaneul/opt/anaconda3/lib/python3.9/site-packages (3.6.5)\n",
      "Requirement already satisfied: click in /Users/parkhaneul/opt/anaconda3/lib/python3.9/site-packages (from nltk) (8.0.3)\n",
      "Requirement already satisfied: joblib in /Users/parkhaneul/opt/anaconda3/lib/python3.9/site-packages (from nltk) (1.1.0)\n",
      "Requirement already satisfied: regex>=2021.8.3 in /Users/parkhaneul/opt/anaconda3/lib/python3.9/site-packages (from nltk) (2021.8.3)\n",
      "Requirement already satisfied: tqdm in /Users/parkhaneul/opt/anaconda3/lib/python3.9/site-packages (from nltk) (4.62.3)\n"
     ]
    }
   ],
   "source": [
    "!pip install nltk"
   ]
  },
  {
   "cell_type": "code",
   "execution_count": 67,
   "id": "c00dca77-8d3b-45aa-bab5-0c466f484bdc",
   "metadata": {},
   "outputs": [
    {
     "data": {
      "text/plain": [
       "True"
      ]
     },
     "execution_count": 67,
     "metadata": {},
     "output_type": "execute_result"
    }
   ],
   "source": [
    "import nltk # import : 외부의 라이브러리를 가져오는 것\n",
    "nltk.download('book', quiet=True) # 접근은 dot(.)으로"
   ]
  },
  {
   "cell_type": "code",
   "execution_count": 68,
   "id": "49f677eb-6cab-4baa-8810-befa0ece6915",
   "metadata": {},
   "outputs": [
    {
     "name": "stdout",
     "output_type": "stream",
     "text": [
      "*** Introductory Examples for the NLTK Book ***\n",
      "Loading text1, ..., text9 and sent1, ..., sent9\n",
      "Type the name of the text or sentence to view it.\n",
      "Type: 'texts()' or 'sents()' to list the materials.\n",
      "text1: Moby Dick by Herman Melville 1851\n",
      "text2: Sense and Sensibility by Jane Austen 1811\n",
      "text3: The Book of Genesis\n",
      "text4: Inaugural Address Corpus\n",
      "text5: Chat Corpus\n",
      "text6: Monty Python and the Holy Grail\n",
      "text7: Wall Street Journal\n",
      "text8: Personals Corpus\n",
      "text9: The Man Who Was Thursday by G . K . Chesterton 1908\n"
     ]
    }
   ],
   "source": [
    "from nltk import book"
   ]
  },
  {
   "cell_type": "code",
   "execution_count": 69,
   "id": "ade68b4d-6c8b-4b43-88d3-780575433663",
   "metadata": {},
   "outputs": [],
   "source": [
    "moby = book.text1"
   ]
  },
  {
   "cell_type": "code",
   "execution_count": 72,
   "id": "aec227e7-1139-4f15-b4c7-ae01e0521ffb",
   "metadata": {
    "tags": []
   },
   "outputs": [
    {
     "data": {
      "text/plain": [
       "['[',\n",
       " 'Moby',\n",
       " 'Dick',\n",
       " 'by',\n",
       " 'Herman',\n",
       " 'Melville',\n",
       " '1851',\n",
       " ']',\n",
       " 'ETYMOLOGY',\n",
       " '.']"
      ]
     },
     "execution_count": 72,
     "metadata": {},
     "output_type": "execute_result"
    }
   ],
   "source": [
    "moby.tokens[:10] # 단어에 접근\n",
    "\n",
    "# 토큰? 프로그래밍에서 정의하는 단어\n",
    "# \"I'm a boy.\\\" i'm, i am, i 'm (다양한 가능성을 정의)"
   ]
  },
  {
   "cell_type": "code",
   "execution_count": 73,
   "id": "0c831187-d116-4176-a873-98093d162dfd",
   "metadata": {},
   "outputs": [
    {
     "data": {
      "text/plain": [
       "260819"
      ]
     },
     "execution_count": 73,
     "metadata": {},
     "output_type": "execute_result"
    }
   ],
   "source": [
    "# 총 길이 (토큰을 단어수라고 정의)\n",
    "len(moby.tokens) # 길이를 알려주는 함수 len()"
   ]
  },
  {
   "cell_type": "code",
   "execution_count": 79,
   "id": "e5241547-4820-4b08-884c-2a586a2d22f9",
   "metadata": {},
   "outputs": [],
   "source": [
    "# 중복되는 단어를 걸러내자\n",
    "# set(moby.tokens) 양이 많은 관계로 주석처리 # set : 집합"
   ]
  },
  {
   "cell_type": "markdown",
   "id": "005c76cc-936d-44b2-a570-4f5e4b1e3e95",
   "metadata": {},
   "source": [
    "- set\n",
    "    - {a, b, c, ...}\n",
    "    - 수학의 집합과 동일한 개념\n",
    "    - 중복 불가능\n",
    "    - 순서 없음 => [:10]이 사용이 안 되는 이유\n",
    "- list\n",
    "    - [a, b, c, ...]\n",
    "    - 중복 가능\n",
    "    - 순서 있음"
   ]
  },
  {
   "cell_type": "code",
   "execution_count": 80,
   "id": "a34aaa65-489f-4b7a-a860-bdeaf7ae31a6",
   "metadata": {},
   "outputs": [
    {
     "data": {
      "text/plain": [
       "{'benz', 'kia', 'porsche'}"
      ]
     },
     "execution_count": 80,
     "metadata": {},
     "output_type": "execute_result"
    }
   ],
   "source": [
    "cars = ['kia', 'benz', 'porsche', 'kia']\n",
    "set(cars)"
   ]
  },
  {
   "cell_type": "code",
   "execution_count": 81,
   "id": "9dfb5a37-5acb-4244-a133-389b758282b9",
   "metadata": {},
   "outputs": [
    {
     "name": "stdout",
     "output_type": "stream",
     "text": [
      "19317 260819\n"
     ]
    }
   ],
   "source": [
    "# 중복 없는 단어 수\n",
    "a = len(set(moby.tokens))\n",
    "# 모든 단어 수\n",
    "b = len(moby.tokens)\n",
    "print(a, b)"
   ]
  },
  {
   "cell_type": "code",
   "execution_count": 82,
   "id": "74d0696d-513a-4ee7-8876-243ba5bc87d9",
   "metadata": {},
   "outputs": [
    {
     "data": {
      "text/plain": [
       "0.07406285585022564"
      ]
     },
     "execution_count": 82,
     "metadata": {},
     "output_type": "execute_result"
    }
   ],
   "source": [
    "# lexical diversity 얼마나 어휘를 풍부하게 사용하는가\n",
    "len(set(moby.tokens)) / len(moby.tokens)"
   ]
  },
  {
   "cell_type": "code",
   "execution_count": 83,
   "id": "40a31952-b776-477d-9b0a-5bf1b657eaf6",
   "metadata": {},
   "outputs": [
    {
     "data": {
      "text/plain": [
       "['porsche', 'kia', 'kia', 'benz']"
      ]
     },
     "execution_count": 83,
     "metadata": {},
     "output_type": "execute_result"
    }
   ],
   "source": [
    "# 오름차순, 내림차순 정렬\n",
    "sorted(cars, reverse=True)"
   ]
  },
  {
   "cell_type": "code",
   "execution_count": 85,
   "id": "6b6d7297-36c8-42da-9a77-f523410d398c",
   "metadata": {},
   "outputs": [
    {
     "data": {
      "text/plain": [
       "['porsche', 'kia', 'kia', 'benz']"
      ]
     },
     "execution_count": 85,
     "metadata": {},
     "output_type": "execute_result"
    }
   ],
   "source": [
    "# 오름차순, 내림차순 정렬의 또 다른 방법\n",
    "cars.sort()\n",
    "cars.reverse()\n",
    "cars"
   ]
  },
  {
   "cell_type": "code",
   "execution_count": 86,
   "id": "149581bf-7531-4ca8-a9f6-cdb26b36d0ef",
   "metadata": {},
   "outputs": [
    {
     "data": {
      "text/plain": [
       "['zoology',\n",
       " 'zones',\n",
       " 'zoned',\n",
       " 'zone',\n",
       " 'zodiac',\n",
       " 'zig',\n",
       " 'zephyr',\n",
       " 'zeal',\n",
       " 'zay',\n",
       " 'zag']"
      ]
     },
     "execution_count": 86,
     "metadata": {},
     "output_type": "execute_result"
    }
   ],
   "source": [
    "# mobydick 정렬하기\n",
    "sorted(set(moby.tokens), reverse=True)[:10]\n",
    "# 문자, 숫자, 대문자, 소문자 순서"
   ]
  },
  {
   "cell_type": "markdown",
   "id": "d29bcd8d-15ae-460e-9d2d-153c21b31b8c",
   "metadata": {},
   "source": [
    "### * Quiz 1.\n",
    "- text9에서 lexical diversity 계산하기\n",
    "- text6에서 중복없는 set 내림차순 정렬하기 \n",
    "    - a. 앞에서 단어 10개 추출하기\n",
    "    - b. 조건문 연습: 'z'가 있으면 대문자로 바꾸기, 'z'가 없는데 4자 이상이면 끝 글자 대문자로 바꾸기"
   ]
  },
  {
   "cell_type": "code",
   "execution_count": 87,
   "id": "7620ac18-410c-48b4-98ec-ec612cf665b9",
   "metadata": {},
   "outputs": [
    {
     "data": {
      "text/plain": [
       "0.0983485761345412"
      ]
     },
     "execution_count": 87,
     "metadata": {},
     "output_type": "execute_result"
    }
   ],
   "source": [
    "# Quiz 1-1\n",
    "thursday = book.text9\n",
    "len(set(thursday.tokens)) / len(thursday.tokens)"
   ]
  },
  {
   "cell_type": "code",
   "execution_count": 88,
   "id": "4846d53c-51f9-4de9-8a1a-f3e1a7dd95d4",
   "metadata": {},
   "outputs": [
    {
     "name": "stdout",
     "output_type": "stream",
     "text": [
      "['zoosh', 'zoop', 'zoo', 'zone', 'zhiv', 'yourself', 'yours', 'your', 'young', 'you']\n",
      "['ZOOSH', 'ZOOP', 'ZOO', 'ZONE', 'ZHIV', 'yourselF', 'yourS', 'youR', 'younG', 'you']\n"
     ]
    }
   ],
   "source": [
    "# Quiz 1-2\n",
    "montypy = book.text6\n",
    "words = sorted(set(montypy.tokens), reverse=True)[:10]\n",
    "print(words)\n",
    "lis = []\n",
    "\n",
    "for i in words:\n",
    "    if 'z' in i:\n",
    "        lis.append(i.upper())\n",
    "    elif len(i) >= 4:\n",
    "        lis.append(i[:-1] + i[-1].upper())\n",
    "    else:\n",
    "        lis.append(i)\n",
    "        \n",
    "print(lis)"
   ]
  },
  {
   "cell_type": "markdown",
   "id": "31aaa030-10a3-4414-aeab-2d33fbd7a057",
   "metadata": {},
   "source": [
    "### * Quiz 2.\n",
    "- 주민등록번호, 휴대폰 번호, 이메일 입력받는다.\n",
    "    - 주민번호, 휴대폰은 숫자만 입력 (- 없이)\n",
    "    - 이메일은 앞에 아이디만 입력(@ 뒷부분 없이)\n",
    "    \n",
    "- 출력:\n",
    "    - \"당신은 {}년 {}월 {}일 출생의 {남성/여성}입니다.\"\n",
    "    - 휴대폰번호: {} # 하이픈으로 연결하기\n",
    "    - 이메일 주소: {아이디}@gmail.com"
   ]
  },
  {
   "cell_type": "code",
   "execution_count": 89,
   "id": "ff02b783-f3cc-4bf0-9813-c28af57f82ca",
   "metadata": {},
   "outputs": [
    {
     "name": "stdin",
     "output_type": "stream",
     "text": [
      " 0007074000000\n",
      " 01012345678\n",
      " thisismyid\n"
     ]
    },
    {
     "name": "stdout",
     "output_type": "stream",
     "text": [
      "당신은 2000년 07월 07일 출생의 여성입니다.\n",
      "휴대폰번호: 010-1234-5678\n",
      "이메일 주소: thisismyid@gmail.com\n"
     ]
    }
   ],
   "source": [
    "# Quiz 2\n",
    "resident = input() # 0007074000000\n",
    "phonenum = input() # 01034567890\n",
    "email = input()\n",
    "\n",
    "backyears = int(resident[:2]) # xx년생 할 때 xx을 정수형으로 형변환\n",
    "\n",
    "# 성별 : 주민번호 뒷자리 첫 자리가 1, 3이면 남성 / 2, 4면 여성\n",
    "# 연도 : 주민번호 앞자리 첫 자리가 1, 2면 19xx년생 / 3, 4면 20xx년생\n",
    "\n",
    "if resident[6] == '1':\n",
    "    gender = '남성'\n",
    "    years = backyears + 1900\n",
    "elif resident[6] == '2':\n",
    "    gender = '여성'\n",
    "    years = backyears + 1900\n",
    "elif resident[6] == '3':\n",
    "    gender = '남성'\n",
    "    years = backyears + 2000\n",
    "elif resident[6] == '4':\n",
    "    gender = '여성'\n",
    "    years = backyears + 2000\n",
    "\n",
    "month = resident[2:4]\n",
    "day = resident[4:6]\n",
    "\n",
    "phonenum = phonenum[:3] + '-' + phonenum[3:7] + '-' + phonenum[7:]\n",
    "\n",
    "print(f\"당신은 {years}년 {month}월 {day}일 출생의 {gender}입니다.\")\n",
    "print(f\"휴대폰번호: {phonenum}\")\n",
    "print(f\"이메일 주소: {email}@gmail.com\")"
   ]
  }
 ],
 "metadata": {
  "kernelspec": {
   "display_name": "Python 3 (ipykernel)",
   "language": "python",
   "name": "python3"
  },
  "language_info": {
   "codemirror_mode": {
    "name": "ipython",
    "version": 3
   },
   "file_extension": ".py",
   "mimetype": "text/x-python",
   "name": "python",
   "nbconvert_exporter": "python",
   "pygments_lexer": "ipython3",
   "version": "3.9.7"
  }
 },
 "nbformat": 4,
 "nbformat_minor": 5
}
