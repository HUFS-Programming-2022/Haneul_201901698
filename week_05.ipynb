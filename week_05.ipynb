{
 "cells": [
  {
   "cell_type": "markdown",
   "id": "204b0746-a735-492d-978a-80da15227e26",
   "metadata": {},
   "source": [
    "# Week05"
   ]
  },
  {
   "cell_type": "code",
   "execution_count": 1,
   "id": "40049bc6-2dcc-40e9-9d37-30d3f03ccd26",
   "metadata": {},
   "outputs": [
    {
     "name": "stdout",
     "output_type": "stream",
     "text": [
      "*** Introductory Examples for the NLTK Book ***\n",
      "Loading text1, ..., text9 and sent1, ..., sent9\n",
      "Type the name of the text or sentence to view it.\n",
      "Type: 'texts()' or 'sents()' to list the materials.\n",
      "text1: Moby Dick by Herman Melville 1851\n",
      "text2: Sense and Sensibility by Jane Austen 1811\n",
      "text3: The Book of Genesis\n",
      "text4: Inaugural Address Corpus\n",
      "text5: Chat Corpus\n",
      "text6: Monty Python and the Holy Grail\n",
      "text7: Wall Street Journal\n",
      "text8: Personals Corpus\n",
      "text9: The Man Who Was Thursday by G . K . Chesterton 1908\n"
     ]
    },
    {
     "data": {
      "text/plain": [
       "True"
      ]
     },
     "execution_count": 1,
     "metadata": {},
     "output_type": "execute_result"
    }
   ],
   "source": [
    "import nltk\n",
    "from nltk.book import *\n",
    "nltk.download('book', quiet = True)"
   ]
  },
  {
   "cell_type": "markdown",
   "id": "2bf57703-e2bd-486e-a891-80cdf796de1e",
   "metadata": {},
   "source": [
    "## 반복문\n",
    "- for, while\n",
    "\n",
    "### while\n",
    "- 어떤 조건을 만족할 때끼지 블록 수행\n",
    "- 해당 조건이 거짓이면 수행을 멈춤 (for문은 범위, while문은 조건의 참거짓)\n",
    "    - 언제 빠져나오는지 정확히 알아야 한다.\n",
    "- for + if\n",
    "\n",
    "#### for vs. while\n",
    "- for loop : 반복 횟수 정확히 알고, 반복 횟수가 변하지 않을 때\n",
    "    - 예: 전체 학생 성적 산츨\n",
    "- while loop: 반복 횟수 정확하지 않고, 어떤 조건을 만족시킬 때 프로그램 종료하고 싶다면 사용\n",
    "    - 예: 가위바위보로 이기면 종료 (와 같은 조건)"
   ]
  },
  {
   "cell_type": "code",
   "execution_count": 2,
   "id": "d97e21d1-bb03-46f5-a944-69c23425d75f",
   "metadata": {},
   "outputs": [
    {
     "name": "stdout",
     "output_type": "stream",
     "text": [
      "0\n",
      "1\n",
      "2\n",
      "3\n",
      "4\n",
      "5\n",
      "6\n",
      "7\n",
      "8\n",
      "9\n"
     ]
    }
   ],
   "source": [
    "for i in range(10): # 정해진 범위 내에서 i를 어떻게 하라\n",
    "    print(i)"
   ]
  },
  {
   "cell_type": "code",
   "execution_count": 3,
   "id": "9d42f49f-906c-4c2d-b23c-659d07a3d17b",
   "metadata": {},
   "outputs": [],
   "source": [
    "# [word for word in text1.tokens]\n",
    "\n",
    "# for word in text1.tokens:\n",
    "    # print(word)  // list comprehension 보다 비효율적"
   ]
  },
  {
   "cell_type": "code",
   "execution_count": 4,
   "id": "9c49216d-67dc-49ef-87e9-bda541defcda",
   "metadata": {},
   "outputs": [
    {
     "name": "stdout",
     "output_type": "stream",
     "text": [
      "0\n",
      "1\n",
      "2\n",
      "3\n",
      "4\n"
     ]
    }
   ],
   "source": [
    "j = 0 # while문에서는 변수를 초기화를 시켜주는 작업 필요\n",
    "while j < 5: #  0, 1, 2, 3, 4, \n",
    "    print(j) # 0, 1, 2, 3, 4\n",
    "    j += 1 # 1, 2, 3, 4, 5 // 변화하는 코드(조건) 작성 필요"
   ]
  },
  {
   "cell_type": "code",
   "execution_count": 5,
   "id": "6a42da17-06e4-46bb-9835-d856d8b11f7d",
   "metadata": {},
   "outputs": [
    {
     "data": {
      "text/plain": [
       "5"
      ]
     },
     "execution_count": 5,
     "metadata": {},
     "output_type": "execute_result"
    }
   ],
   "source": [
    "# j 값은?\n",
    "j"
   ]
  },
  {
   "cell_type": "code",
   "execution_count": 6,
   "id": "d80bb01e-fb63-4244-9301-5aa16a6711f0",
   "metadata": {},
   "outputs": [
    {
     "name": "stdout",
     "output_type": "stream",
     "text": [
      "a\n",
      "b\n",
      "c\n"
     ]
    }
   ],
   "source": [
    "# for 문을 활용한 리스트 요소 출력\n",
    "characters = ['a', 'b', 'c']\n",
    "for ch in characters:\n",
    "    print(ch)"
   ]
  },
  {
   "cell_type": "code",
   "execution_count": 8,
   "id": "0921c69e-9dbb-4049-a291-32801529d3b1",
   "metadata": {},
   "outputs": [
    {
     "name": "stdout",
     "output_type": "stream",
     "text": [
      "a\n",
      "b\n",
      "c\n",
      "a\n",
      "b\n",
      "c\n"
     ]
    }
   ],
   "source": [
    "# while문을 활용한 리스트 요소 출력\n",
    "ch = 0 # 변수 초기화\n",
    "while ch < len(characters):\n",
    "    print(characters[ch])\n",
    "    ch += 1 # 변수에 +1 "
   ]
  },
  {
   "cell_type": "code",
   "execution_count": 9,
   "id": "c8149e0d-78b9-42ca-ae3b-16ec7cbfe6d3",
   "metadata": {},
   "outputs": [
    {
     "name": "stdout",
     "output_type": "stream",
     "text": [
      "a\n",
      "b\n",
      "c\n"
     ]
    }
   ],
   "source": [
    "# for문으로도 할 수 있지 않을까? \n",
    "for c in range(0, len(characters)): # c 자동으로 초기화\n",
    "    print(characters[c])\n",
    "    # c += 1이 자동으로 됨"
   ]
  },
  {
   "cell_type": "markdown",
   "id": "422611f9-f815-4833-9606-cebbc546cffb",
   "metadata": {},
   "source": [
    "### 반복문의 제어\n",
    "- 의도치 않게 코드를 종료시킬 수 있기 때문에\n",
    "\n",
    "- break : 논리적으로 반복을 종료시키는 방법. break 시점을 잘 알아야 함.\n",
    "- else : 어떤 조건이 \"완전히\" 끝났을 때 한번 더 실행하는 블록. break로 끝난 것과 구분할 수 있다.\n",
    "- continue : 특정 조건을 건너뛰고 다음 조건을 수행함\n",
    "- but, 제어는 웬만하면 하지 않는다"
   ]
  },
  {
   "cell_type": "code",
   "execution_count": 10,
   "id": "171a719f-dad4-405b-84e5-c95713278086",
   "metadata": {},
   "outputs": [
    {
     "name": "stdout",
     "output_type": "stream",
     "text": [
      "0\n",
      "1\n",
      "2\n",
      "3\n",
      "4\n"
     ]
    }
   ],
   "source": [
    "for i in range(10):\n",
    "    if i == 5: break # i가 5일 때 break해라\n",
    "    print(i) # 4까지만 출력, i가 5일 때 break되어 끝남"
   ]
  },
  {
   "cell_type": "code",
   "execution_count": 11,
   "id": "05bd7b95-d990-4010-83f9-5f823ed92650",
   "metadata": {},
   "outputs": [
    {
     "name": "stdout",
     "output_type": "stream",
     "text": [
      "0\n",
      "1\n",
      "2\n",
      "3\n",
      "4\n"
     ]
    }
   ],
   "source": [
    "j = 0\n",
    "while j < 5:\n",
    "    print(j)\n",
    "    if j == 4: break\n",
    "    j += 1"
   ]
  },
  {
   "cell_type": "code",
   "execution_count": 13,
   "id": "544b731e-5696-4a98-b35e-e72c4f81a7e8",
   "metadata": {},
   "outputs": [
    {
     "data": {
      "text/plain": [
       "4"
      ]
     },
     "execution_count": 13,
     "metadata": {},
     "output_type": "execute_result"
    }
   ],
   "source": [
    "j # j가 4일 때 while문에서 탈출하기 때문에 +1이 되지 않고 j=4인 채로 끝남"
   ]
  },
  {
   "cell_type": "code",
   "execution_count": 14,
   "id": "51e1d0e6-74c9-42d5-ab93-b316cfb40b42",
   "metadata": {},
   "outputs": [
    {
     "name": "stdout",
     "output_type": "stream",
     "text": [
      "0\n",
      "1\n",
      "2\n",
      "3\n",
      "4\n",
      "5\n",
      "6\n",
      "7\n",
      "8\n",
      "9\n",
      "ended\n"
     ]
    }
   ],
   "source": [
    "for i in range(10):\n",
    "    if i == 16:\n",
    "        break\n",
    "    print(i)\n",
    "else: # 위 조건이 완전히 끝나고 실행\n",
    "    print(\"ended\") "
   ]
  },
  {
   "cell_type": "code",
   "execution_count": 15,
   "id": "a246485d-5111-44d5-9555-7766cb38e09c",
   "metadata": {},
   "outputs": [
    {
     "name": "stdout",
     "output_type": "stream",
     "text": [
      "0\n",
      "1\n",
      "2\n",
      "3\n",
      "4\n",
      "5\n",
      "7\n",
      "8\n",
      "9\n",
      "ended\n"
     ]
    }
   ],
   "source": [
    "for i in range(10):\n",
    "    if i == 6:\n",
    "        continue # i가 6일 때 다음 내용을 실행하지 않고 i += 1되어 넘어감\n",
    "    print(i) # 6은 빼고 출력됨\n",
    "else:\n",
    "    print(\"ended\")"
   ]
  },
  {
   "cell_type": "code",
   "execution_count": 31,
   "id": "3a4879c2-ee8c-4381-b228-44ba90fbeebf",
   "metadata": {},
   "outputs": [
    {
     "name": "stdout",
     "output_type": "stream",
     "text": [
      "0\n",
      "1\n",
      "2\n",
      "3\n",
      "4\n",
      "6\n",
      "8\n",
      "end\n"
     ]
    }
   ],
   "source": [
    "# 복습. continue와 break\n",
    "\n",
    "number = 1\n",
    "\n",
    "for number in range(10):\n",
    "    if number == 5 or number == 7:\n",
    "        continue\n",
    "    elif number == 9:\n",
    "        break\n",
    "    print(number)\n",
    "print('end')"
   ]
  },
  {
   "cell_type": "markdown",
   "id": "d00e5431-d1af-47b3-b525-c36245c921fb",
   "metadata": {},
   "source": [
    "### 구구단\n",
    "- 1. for, while 중 선택한 뒤, n단을 입력받아서 n단을 출력한다.\n",
    "    - 출력: == 3단 == <br>\n",
    "        3 x 1 = 3 <br>\n",
    "        3 x 2 = 6 <br>\n",
    "        ...<br>\n",
    "        3 x 9 = 27<br>\n",
    "\n",
    "- 2. 1~n단까지 출력한다.\n",
    "- 3. 시작단, 끝단, 둘 다 입력받을 것\n",
    "     - 예: 4 - 7단\n",
    "     - 시작단이 끝단보다 작을 때 어떻게 처리할지 (7단-4단이면 어떻게?)\n",
    "- 4. 프로그램으로 만든다.\n",
    "    - 1) n단    2) 1-n단   3) n-m단\n",
    "    - 3번 -> n, m -> ...\n",
    "    - 메뉴에 없는 선택 처리"
   ]
  },
  {
   "cell_type": "code",
   "execution_count": 16,
   "id": "6bddeecd-0edd-4e3b-9e3b-e73315a64485",
   "metadata": {},
   "outputs": [
    {
     "name": "stdin",
     "output_type": "stream",
     "text": [
      " 3\n"
     ]
    },
    {
     "name": "stdout",
     "output_type": "stream",
     "text": [
      "== 3단 ==\n",
      "3 x 1 = 3\n",
      "3 x 2 = 6\n",
      "3 x 3 = 9\n",
      "3 x 4 = 12\n",
      "3 x 5 = 15\n",
      "3 x 6 = 18\n",
      "3 x 7 = 21\n",
      "3 x 8 = 24\n",
      "3 x 9 = 27\n"
     ]
    }
   ],
   "source": [
    "#1.\n",
    "n = int(input())\n",
    "\n",
    "print(f'== {n}단 ==')\n",
    "\n",
    "for i in range(1, 10): # 1 <= i < 9\n",
    "    result = n * i\n",
    "    print(f'{n} x {i} = {result}')"
   ]
  },
  {
   "cell_type": "code",
   "execution_count": 17,
   "id": "6ed6ee71-8097-4d6e-b8e2-5a6eaaeb91a2",
   "metadata": {},
   "outputs": [
    {
     "name": "stdin",
     "output_type": "stream",
     "text": [
      " 3\n"
     ]
    },
    {
     "name": "stdout",
     "output_type": "stream",
     "text": [
      "== 1단 ==\n",
      "1 x 1 = 1\n",
      "1 x 2 = 2\n",
      "1 x 3 = 3\n",
      "1 x 4 = 4\n",
      "1 x 5 = 5\n",
      "1 x 6 = 6\n",
      "1 x 7 = 7\n",
      "1 x 8 = 8\n",
      "1 x 9 = 9\n",
      "== 2단 ==\n",
      "2 x 1 = 2\n",
      "2 x 2 = 4\n",
      "2 x 3 = 6\n",
      "2 x 4 = 8\n",
      "2 x 5 = 10\n",
      "2 x 6 = 12\n",
      "2 x 7 = 14\n",
      "2 x 8 = 16\n",
      "2 x 9 = 18\n",
      "== 3단 ==\n",
      "3 x 1 = 3\n",
      "3 x 2 = 6\n",
      "3 x 3 = 9\n",
      "3 x 4 = 12\n",
      "3 x 5 = 15\n",
      "3 x 6 = 18\n",
      "3 x 7 = 21\n",
      "3 x 8 = 24\n",
      "3 x 9 = 27\n"
     ]
    }
   ],
   "source": [
    "#2.\n",
    "n = int(input())\n",
    "\n",
    "# 중첩 for문 사용\n",
    "for j in range(1, n+1): \n",
    "    print(f'== {j}단 ==')\n",
    "    for z in range(1, 10):\n",
    "        result = j * z\n",
    "        print(f'{j} x {z} = {result}')"
   ]
  },
  {
   "cell_type": "code",
   "execution_count": 18,
   "id": "4005dccc-3cf1-4968-8df0-b9cf5bf9d628",
   "metadata": {},
   "outputs": [
    {
     "name": "stdin",
     "output_type": "stream",
     "text": [
      " 6\n",
      " 4\n"
     ]
    },
    {
     "name": "stdout",
     "output_type": "stream",
     "text": [
      "4 6\n",
      "== 4단 ==\n",
      "4 x 1 = 4\n",
      "4 x 2 = 8\n",
      "4 x 3 = 12\n",
      "4 x 4 = 16\n",
      "4 x 5 = 20\n",
      "4 x 6 = 24\n",
      "4 x 7 = 28\n",
      "4 x 8 = 32\n",
      "4 x 9 = 36\n",
      "== 5단 ==\n",
      "5 x 1 = 5\n",
      "5 x 2 = 10\n",
      "5 x 3 = 15\n",
      "5 x 4 = 20\n",
      "5 x 5 = 25\n",
      "5 x 6 = 30\n",
      "5 x 7 = 35\n",
      "5 x 8 = 40\n",
      "5 x 9 = 45\n",
      "== 6단 ==\n",
      "6 x 1 = 6\n",
      "6 x 2 = 12\n",
      "6 x 3 = 18\n",
      "6 x 4 = 24\n",
      "6 x 5 = 30\n",
      "6 x 6 = 36\n",
      "6 x 7 = 42\n",
      "6 x 8 = 48\n",
      "6 x 9 = 54\n"
     ]
    }
   ],
   "source": [
    "#3.\n",
    "start = int(input()) # 시작단\n",
    "end = int(input()) # 끝단\n",
    "\n",
    "num = start\n",
    "\n",
    "if end < start: # 시작단이 끝단보다 클 경우\n",
    "    start = end; end = num; # 시작단 <-> 끝단 상호 변경\n",
    "    \n",
    "for i in range(start, end+1):\n",
    "    print(f'== {i}단 ==')\n",
    "    for j in range(1, 10):\n",
    "        result = i * j\n",
    "        print(f'{i} x {j} = {result}')"
   ]
  },
  {
   "cell_type": "code",
   "execution_count": 19,
   "id": "c0ac6b12-53c4-46ee-bd5c-f92ff663158f",
   "metadata": {},
   "outputs": [
    {
     "name": "stdin",
     "output_type": "stream",
     "text": [
      "1) n단   2) 1-n단   3) n-m단 3\n",
      "몇 단부터 출력하시겠습니까? 5\n",
      "몇 단까지 출력하시겠습니까? 4\n"
     ]
    },
    {
     "name": "stdout",
     "output_type": "stream",
     "text": [
      "4 5\n",
      "== 4단 ==\n",
      "4 x 1 = 4\n",
      "4 x 2 = 8\n",
      "4 x 3 = 12\n",
      "4 x 4 = 16\n",
      "4 x 5 = 20\n",
      "4 x 6 = 24\n",
      "4 x 7 = 28\n",
      "4 x 8 = 32\n",
      "4 x 9 = 36\n",
      "== 5단 ==\n",
      "5 x 1 = 5\n",
      "5 x 2 = 10\n",
      "5 x 3 = 15\n",
      "5 x 4 = 20\n",
      "5 x 5 = 25\n",
      "5 x 6 = 30\n",
      "5 x 7 = 35\n",
      "5 x 8 = 40\n",
      "5 x 9 = 45\n"
     ]
    }
   ],
   "source": [
    "#4.\n",
    "while True:\n",
    "    select = int(input('1) n단   2) 1-n단   3) n-m단'))\n",
    "             \n",
    "    if select == 1:\n",
    "        n = int(input('몇 단을 출력하시겠습니까?'))\n",
    "        print(f'== {n}단 ==')\n",
    "        for i in range(1, 10):\n",
    "            print(f'{n} x {i} = {n * i}')\n",
    "        break\n",
    "              \n",
    "    elif select == 2:\n",
    "        n = int(input('몇 단까지 출력하시겠습니까?'))\n",
    "        for i in range(1, n+1):\n",
    "            print(f'== {i}단 ==')\n",
    "            for j in range(1, 10):\n",
    "                print(f'{i} x {j} = {i * j}')\n",
    "        break\n",
    "                \n",
    "    elif select == 3:\n",
    "        n = int(input('몇 단부터 출력하시겠습니까?'))\n",
    "        m = int(input('몇 단까지 출력하시겠습니까?'))\n",
    "    \n",
    "        num = n\n",
    "\n",
    "        if m < n:\n",
    "            n = m\n",
    "            m = num\n",
    "    \n",
    "        print(n, m)\n",
    "                    \n",
    "        for i in range(n, m+1):\n",
    "            print(f'== {i}단 ==')\n",
    "            for j in range(1, 10):\n",
    "                result = i * j\n",
    "                print(f'{i} x {j} = {result}')\n",
    "        break\n",
    "            \n",
    "    else:\n",
    "        print('1, 2, 3 중 하나를 선택하세요.')\n",
    "        continue"
   ]
  },
  {
   "cell_type": "markdown",
   "id": "49b698d5-a40e-41c7-adaf-3802c4c9556d",
   "metadata": {},
   "source": [
    "### print formating\n",
    "- 1. f string\n",
    "    - f, F 둘 다 사용 가능\n",
    "    - f'{var}'\n",
    "- 2. format\n",
    "    - '{}'.format(var)\n",
    "- 3. %\n",
    "    - ' %type ' % var"
   ]
  },
  {
   "cell_type": "code",
   "execution_count": 32,
   "id": "148b11de-c164-4cf5-8304-129e8627d243",
   "metadata": {},
   "outputs": [
    {
     "name": "stdout",
     "output_type": "stream",
     "text": [
      "나의 이름은 lee!!!\n"
     ]
    }
   ],
   "source": [
    "name = 'lee'\n",
    "print(f'나의 이름은 {name}!!!')"
   ]
  },
  {
   "cell_type": "code",
   "execution_count": 33,
   "id": "06aaaba9-db8c-4cc9-9222-6f72632bc0d9",
   "metadata": {},
   "outputs": [
    {
     "name": "stdout",
     "output_type": "stream",
     "text": [
      "너의 이름은 l ???\n"
     ]
    }
   ],
   "source": [
    "print('너의 이름은 {:.1s} ???'.format(name)) # 소수점 출력 시 활용"
   ]
  },
  {
   "cell_type": "code",
   "execution_count": 34,
   "id": "dd86f213-a34d-444e-a19d-0577f2944153",
   "metadata": {},
   "outputs": [
    {
     "name": "stdout",
     "output_type": "stream",
     "text": [
      "나의 이름은 lee입니다.\n"
     ]
    }
   ],
   "source": [
    "print('나의 이름은 %s입니다.' % name) # 약간 구식. 1, 2번 사용 추천"
   ]
  },
  {
   "cell_type": "code",
   "execution_count": 35,
   "id": "72df142f-80b2-4636-b4e5-6c84de8693d1",
   "metadata": {},
   "outputs": [
    {
     "name": "stdout",
     "output_type": "stream",
     "text": [
      "나의 이름은 name= 'lee'!!!!\n"
     ]
    }
   ],
   "source": [
    "print(f'나의 이름은 {name= }!!!!') # 변수 이름까지 같이 출력하고 싶을 때"
   ]
  },
  {
   "cell_type": "code",
   "execution_count": 36,
   "id": "fe9638f7-ac68-48a3-ae5c-946a2c62064b",
   "metadata": {},
   "outputs": [
    {
     "name": "stdout",
     "output_type": "stream",
     "text": [
      "포매팅 연습 1.67\n"
     ]
    }
   ],
   "source": [
    "n = 1.673\n",
    "print('포매팅 연습 %.2f' % n)"
   ]
  },
  {
   "cell_type": "markdown",
   "id": "a2b034c6-2b27-455b-baa8-1ad3c72d87b6",
   "metadata": {},
   "source": [
    "### NLTK Corpus\n",
    "- 다양한 종류의 코퍼스가 있다.\n",
    "- 더 다양한 언어 분석이 가능\n",
    "\n",
    "- 종류\n",
    "    - gutenberg\n",
    "    - brown\n",
    "    - inaugural\n",
    "- 함수\n",
    "    - words()\n",
    "    - sents()\n",
    "    - fileids()\n",
    "    - raw()"
   ]
  },
  {
   "cell_type": "code",
   "execution_count": 37,
   "id": "ffd2584c-c399-4aa3-8646-e92cdeca7a57",
   "metadata": {},
   "outputs": [
    {
     "data": {
      "text/plain": [
       "True"
      ]
     },
     "execution_count": 37,
     "metadata": {},
     "output_type": "execute_result"
    }
   ],
   "source": [
    "import nltk\n",
    "from nltk.corpus import gutenberg\n",
    "nltk.download('gutenberg', quiet=True)"
   ]
  },
  {
   "cell_type": "code",
   "execution_count": 38,
   "id": "b5c07533-016e-4835-8a0c-f8e843099476",
   "metadata": {},
   "outputs": [
    {
     "data": {
      "text/plain": [
       "['[', 'Emma', 'by', 'Jane', 'Austen', '1816', ']', ...]"
      ]
     },
     "execution_count": 38,
     "metadata": {},
     "output_type": "execute_result"
    }
   ],
   "source": [
    "gutenberg.words()"
   ]
  },
  {
   "cell_type": "code",
   "execution_count": 40,
   "id": "ced32333-e7f2-41bf-84aa-32bc8684ccae",
   "metadata": {},
   "outputs": [
    {
     "data": {
      "text/plain": [
       "['austen-emma.txt',\n",
       " 'austen-persuasion.txt',\n",
       " 'austen-sense.txt',\n",
       " 'bible-kjv.txt',\n",
       " 'blake-poems.txt',\n",
       " 'bryant-stories.txt',\n",
       " 'burgess-busterbrown.txt',\n",
       " 'carroll-alice.txt',\n",
       " 'chesterton-ball.txt',\n",
       " 'chesterton-brown.txt',\n",
       " 'chesterton-thursday.txt',\n",
       " 'edgeworth-parents.txt',\n",
       " 'melville-moby_dick.txt',\n",
       " 'milton-paradise.txt',\n",
       " 'shakespeare-caesar.txt',\n",
       " 'shakespeare-hamlet.txt',\n",
       " 'shakespeare-macbeth.txt',\n",
       " 'whitman-leaves.txt']"
      ]
     },
     "execution_count": 40,
     "metadata": {},
     "output_type": "execute_result"
    }
   ],
   "source": [
    "gutenberg.fileids() # 저작권이 만료된 작품들"
   ]
  },
  {
   "cell_type": "code",
   "execution_count": 48,
   "id": "2a0d03dc-e4f6-4ec4-87a5-22810a50ca6d",
   "metadata": {},
   "outputs": [
    {
     "name": "stdout",
     "output_type": "stream",
     "text": [
      "austen-emma | 글자 수 = 887071, 단어 수 = 192427, 문장 수 = 7752\n",
      "austen-persuasion | 글자 수 = 466292, 단어 수 = 98171, 문장 수 = 3747\n",
      "austen-sense | 글자 수 = 673022, 단어 수 = 141576, 문장 수 = 4999\n",
      "bible-kjv | 글자 수 = 4332554, 단어 수 = 1010654, 문장 수 = 30103\n",
      "blake-poems | 글자 수 = 38153, 단어 수 = 8354, 문장 수 = 438\n",
      "bryant-stories | 글자 수 = 249439, 단어 수 = 55563, 문장 수 = 2863\n",
      "burgess-busterbrown | 글자 수 = 84663, 단어 수 = 18963, 문장 수 = 1054\n",
      "carroll-alice | 글자 수 = 144395, 단어 수 = 34110, 문장 수 = 1703\n",
      "chesterton-ball | 글자 수 = 457450, 단어 수 = 96996, 문장 수 = 4779\n",
      "chesterton-brown | 글자 수 = 406629, 단어 수 = 86063, 문장 수 = 3806\n",
      "chesterton-thursday | 글자 수 = 320525, 단어 수 = 69213, 문장 수 = 3742\n",
      "edgeworth-parents | 글자 수 = 935158, 단어 수 = 210663, 문장 수 = 10230\n",
      "melville-moby_dick | 글자 수 = 1242990, 단어 수 = 260819, 문장 수 = 10059\n",
      "milton-paradise | 글자 수 = 468220, 단어 수 = 96825, 문장 수 = 1851\n",
      "shakespeare-caesar | 글자 수 = 112310, 단어 수 = 25833, 문장 수 = 2163\n",
      "shakespeare-hamlet | 글자 수 = 162881, 단어 수 = 37360, 문장 수 = 3106\n",
      "shakespeare-macbeth | 글자 수 = 100351, 단어 수 = 23140, 문장 수 = 1907\n",
      "whitman-leaves | 글자 수 = 711215, 단어 수 = 154883, 문장 수 = 4250\n"
     ]
    }
   ],
   "source": [
    "# 구텐버그의 각 파일을 돌아가면서 글자 수, 단어 수, 문장 수를 출력합니다.\n",
    "\n",
    "for fileid in gutenberg.fileids():\n",
    "    num_raw = len(gutenberg.raw(fileid))\n",
    "    num_words = len(gutenberg.words(fileid))\n",
    "    num_sents = len(gutenberg.sents(fileid))\n",
    "    print(f'{fileid[:-4]} | 글자 수 = {num_raw}, 단어 수 = {num_words}, 문장 수 = {num_sents}')\n",
    "    # print('{} | 글자 수 = {}, 단어 수 = {}, 문장 수 = {}'.format (fileid[:-4], num_raw, num_words, num_sents)"
   ]
  },
  {
   "cell_type": "code",
   "execution_count": 50,
   "id": "2ef18030-f03e-4177-8f3d-f043af754b89",
   "metadata": {},
   "outputs": [],
   "source": [
    "# texts = [text1, ... .]\n",
    "## 1. text1-9 => str 'text1'\n",
    "## 2. 'text1'에 기능을 부여한다. getattr(library, string_name)"
   ]
  },
  {
   "cell_type": "code",
   "execution_count": 51,
   "id": "65db022c-94c2-430f-9607-6d358d60e17c",
   "metadata": {},
   "outputs": [
    {
     "data": {
      "text/plain": [
       "[<Text: Moby Dick by Herman Melville 1851>,\n",
       " <Text: Sense and Sensibility by Jane Austen 1811>,\n",
       " <Text: The Book of Genesis>,\n",
       " <Text: Inaugural Address Corpus>,\n",
       " <Text: Chat Corpus>,\n",
       " <Text: Monty Python and the Holy Grail>,\n",
       " <Text: Wall Street Journal>,\n",
       " <Text: Personals Corpus>,\n",
       " <Text: The Man Who Was Thursday by G . K . Chesterton 1908>]"
      ]
     },
     "execution_count": 51,
     "metadata": {},
     "output_type": "execute_result"
    }
   ],
   "source": [
    "texts = [getattr(nltk.book, f'text{i}') for i in range(1, 10)]\n",
    "texts"
   ]
  },
  {
   "cell_type": "code",
   "execution_count": 52,
   "id": "eed7d872-391e-4106-9bd2-8df9b8bb05f4",
   "metadata": {},
   "outputs": [
    {
     "data": {
      "text/plain": [
       "<Text: Moby Dick by Herman Melville 1851>"
      ]
     },
     "execution_count": 52,
     "metadata": {},
     "output_type": "execute_result"
    }
   ],
   "source": [
    "texts[0]"
   ]
  },
  {
   "cell_type": "code",
   "execution_count": 53,
   "id": "77d5f95a-f488-4cc0-a7d0-6e2cd9bb08ad",
   "metadata": {},
   "outputs": [],
   "source": [
    "corpus1 = gutenberg.words(fileids='whitman-leaves.txt') # 'whitman-leaves.txt'의 단어 리스트\n",
    "fdist = nltk.FreqDist([w.lower() for w in corpus1]) # corpus1 리스트 요소들(단어들)을 소문자 처리해서 빈도수 dictionary 생성"
   ]
  },
  {
   "cell_type": "code",
   "execution_count": 54,
   "id": "f9742d31-d891-4d3c-a2f2-4f714044532c",
   "metadata": {},
   "outputs": [
    {
     "data": {
      "text/plain": [
       "28"
      ]
     },
     "execution_count": 54,
     "metadata": {},
     "output_type": "execute_result"
    }
   ],
   "source": [
    "fdist['tree']"
   ]
  },
  {
   "cell_type": "markdown",
   "id": "0463e481-bd5d-4c61-ac90-87ddbf1b7771",
   "metadata": {},
   "source": [
    "### Brown\n",
    "- categories()"
   ]
  },
  {
   "cell_type": "code",
   "execution_count": 55,
   "id": "104550eb-c59d-42d5-a9d1-ebf04e120678",
   "metadata": {},
   "outputs": [
    {
     "name": "stderr",
     "output_type": "stream",
     "text": [
      "[nltk_data] Downloading package brown to\n",
      "[nltk_data]     /Users/parkhaneul/nltk_data...\n",
      "[nltk_data]   Package brown is already up-to-date!\n"
     ]
    }
   ],
   "source": [
    "# from nltk corpus import brown\n",
    "nltk.download('brown')\n",
    "brown_corpus = nltk.corpus.brown"
   ]
  },
  {
   "cell_type": "code",
   "execution_count": 56,
   "id": "37f45244-edd7-46e4-9ceb-d348af994d58",
   "metadata": {},
   "outputs": [
    {
     "data": {
      "text/plain": [
       "['adventure',\n",
       " 'belles_lettres',\n",
       " 'editorial',\n",
       " 'fiction',\n",
       " 'government',\n",
       " 'hobbies',\n",
       " 'humor',\n",
       " 'learned',\n",
       " 'lore',\n",
       " 'mystery',\n",
       " 'news',\n",
       " 'religion',\n",
       " 'reviews',\n",
       " 'romance',\n",
       " 'science_fiction']"
      ]
     },
     "execution_count": 56,
     "metadata": {},
     "output_type": "execute_result"
    }
   ],
   "source": [
    "brown_corpus.categories()"
   ]
  },
  {
   "cell_type": "code",
   "execution_count": 57,
   "id": "4dacaf87-2e37-4cee-9563-4534dbb6eab2",
   "metadata": {},
   "outputs": [],
   "source": [
    "humor = brown_corpus.words(categories='humor') # 카테고리를 정할 때는 변수명='humor'와 같은 식으로 지정해줘야 함"
   ]
  },
  {
   "cell_type": "code",
   "execution_count": 58,
   "id": "0259ca5e-eb27-44c9-bee4-8ac46914d8b5",
   "metadata": {},
   "outputs": [
    {
     "name": "stdout",
     "output_type": "stream",
     "text": [
      "can 17\n",
      "could 33\n",
      "may 8\n",
      "might 8\n",
      "will 13\n",
      "would 56\n"
     ]
    }
   ],
   "source": [
    "# modal verbs의 쓰임\n",
    "modals = ['can', 'could', 'may', 'might', 'will', 'would']\n",
    "\n",
    "fdist_brown = nltk.FreqDist([w.lower() for w in humor])\n",
    "\n",
    "for verb in modals:\n",
    "    print(verb, fdist_brown[verb])"
   ]
  },
  {
   "cell_type": "markdown",
   "id": "9b6ddfda-a740-43c5-99d6-2b378cb06327",
   "metadata": {},
   "source": [
    "#### conditional frequency distribution (CFD)\n",
    "- 조건이 붙은 fdist"
   ]
  },
  {
   "cell_type": "code",
   "execution_count": 59,
   "id": "49c6736e-95a3-4891-9b2a-303a743dc017",
   "metadata": {},
   "outputs": [],
   "source": [
    "cfd = nltk.ConditionalFreqDist(\n",
    "    # genre에 따른 fdist\n",
    "    (genre, word.lower())\n",
    "    for genre in brown_corpus.categories()\n",
    "    for word in brown_corpus.words(categories=genre)\n",
    ")"
   ]
  },
  {
   "cell_type": "code",
   "execution_count": 60,
   "id": "95c5ca99-2cd7-42e8-8e2c-14b9e0cb220a",
   "metadata": {},
   "outputs": [
    {
     "data": {
      "text/plain": [
       "[('.', 4057),\n",
       " ('the', 3780),\n",
       " (',', 3488),\n",
       " ('and', 1706),\n",
       " ('a', 1432),\n",
       " ('of', 1327),\n",
       " ('to', 1322),\n",
       " ('he', 1283),\n",
       " ('``', 998),\n",
       " (\"''\", 995)]"
      ]
     },
     "execution_count": 60,
     "metadata": {},
     "output_type": "execute_result"
    }
   ],
   "source": [
    "cfd['adventure'].most_common(10)"
   ]
  },
  {
   "cell_type": "code",
   "execution_count": 61,
   "id": "b98abd7b-7ed3-49a4-9cbc-df84fdbc47a4",
   "metadata": {},
   "outputs": [
    {
     "name": "stdout",
     "output_type": "stream",
     "text": [
      "                 can could   may might  will would \n",
      "     adventure    48   154     7    59    51   194 \n",
      "belles_lettres   249   216   221   113   246   397 \n",
      "     editorial   124    57    79    39   235   185 \n"
     ]
    }
   ],
   "source": [
    "cfd.tabulate(conditions=brown_corpus.categories()[:3], samples=modals)"
   ]
  }
 ],
 "metadata": {
  "kernelspec": {
   "display_name": "Python 3 (ipykernel)",
   "language": "python",
   "name": "python3"
  },
  "language_info": {
   "codemirror_mode": {
    "name": "ipython",
    "version": 3
   },
   "file_extension": ".py",
   "mimetype": "text/x-python",
   "name": "python",
   "nbconvert_exporter": "python",
   "pygments_lexer": "ipython3",
   "version": "3.9.7"
  }
 },
 "nbformat": 4,
 "nbformat_minor": 5
}
