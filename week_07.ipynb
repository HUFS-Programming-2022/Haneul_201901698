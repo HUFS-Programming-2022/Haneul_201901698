{
 "cells": [
  {
   "cell_type": "markdown",
   "id": "1d313976-4a31-46ce-8e33-6a05d8d8ad81",
   "metadata": {},
   "source": [
    "# Week 07"
   ]
  },
  {
   "cell_type": "markdown",
   "id": "0db36731-7480-49f6-aea0-05478dfb3503",
   "metadata": {},
   "source": [
    "### 함수"
   ]
  },
  {
   "cell_type": "markdown",
   "id": "ec6cae28-3871-4821-945e-ced9815cb794",
   "metadata": {},
   "source": [
    "1. 정의\n",
    "    - 코드의 덩어리, 묶음\n",
    "    - 코드의 (편리한) 재사용이 주된 목적\n",
    "    - 정의하기(define) -> 호출하기(call)\n",
    "    - 구조\n",
    "        * 정의하기 * <br>\n",
    "        `def 함수이름(매개변수 1, 2, 3, ...):` <br>\n",
    "            수행문1\n",
    "            수행문2\n",
    "            ...\n",
    "            return 출력값\n",
    "            \n",
    "        * 호출하기 * <br>\n",
    "        함수이름(인수1, 2, 3, ...)\n",
    "    - \"인터페이스\" 잘 설정하면 내부를 몰라도 함수를 쉽게 쓸 수 있다.\n",
    "    \n",
    "2. 이름 짓기\n",
    "    - 함수 이름은 어떻게 짓는 것이 좋을까?\n",
    "    - 소문자 사용\n",
    "    - 카멜표기법 가능하지만 파이썬에서는 언더바(_) 선호\n",
    "    - 동사 + 명사 : print_output, save_model, split_text의 형태\n",
    "    - 줄임말 쓰지 말기 pr_output (x), 명료하게"
   ]
  },
  {
   "cell_type": "code",
   "execution_count": 2,
   "id": "1e7914a9-5c95-40d3-9aac-1bcf25db9911",
   "metadata": {},
   "outputs": [],
   "source": [
    "# y = x + 1 # 매개변수, y=출력값"
   ]
  },
  {
   "cell_type": "markdown",
   "id": "ab422ded-e222-48a6-9283-75c2d3275e58",
   "metadata": {},
   "source": [
    "split(), join() 이런 것들 모두 함수. <내장함수>"
   ]
  },
  {
   "cell_type": "code",
   "execution_count": 3,
   "id": "11e9ca2c-4db2-4069-9260-f3e2fd2b443e",
   "metadata": {},
   "outputs": [],
   "source": [
    "def split():\n",
    "    ####\n",
    "    return\n",
    "\n",
    "# 이런 식으로"
   ]
  },
  {
   "cell_type": "code",
   "execution_count": 4,
   "id": "63ad776f-ad32-4876-8061-25f77aaf6435",
   "metadata": {},
   "outputs": [
    {
     "name": "stdout",
     "output_type": "stream",
     "text": [
      "quack\n"
     ]
    }
   ],
   "source": [
    "def make_a_sound():\n",
    "    # 1. 입력 없고, 반환값 없음(return)\n",
    "    print('quack')\n",
    "    # return None\n",
    "\n",
    "make_a_sound()"
   ]
  },
  {
   "cell_type": "code",
   "execution_count": 5,
   "id": "cd2400f3-d8f9-4177-8ce6-0fa764194d6e",
   "metadata": {},
   "outputs": [
    {
     "name": "stdout",
     "output_type": "stream",
     "text": [
      "quack\n"
     ]
    }
   ],
   "source": [
    "make_a_sound() # 다음 라인에서도 사용이 가능. 함수의 장점"
   ]
  },
  {
   "cell_type": "code",
   "execution_count": 6,
   "id": "f9e6a0aa-8972-475b-82b9-0a1b77e5b931",
   "metadata": {},
   "outputs": [
    {
     "data": {
      "text/plain": [
       "True"
      ]
     },
     "execution_count": 6,
     "metadata": {},
     "output_type": "execute_result"
    }
   ],
   "source": [
    "def agree():\n",
    "    # 2. 입력 없고, 반환은 있음\n",
    "    return True\n",
    "\n",
    "agree()"
   ]
  },
  {
   "cell_type": "code",
   "execution_count": 8,
   "id": "ed2e7e10-6500-482a-a957-434a91b9d3eb",
   "metadata": {},
   "outputs": [
    {
     "name": "stdout",
     "output_type": "stream",
     "text": [
      "Splendid\n"
     ]
    }
   ],
   "source": [
    "if agree():\n",
    "    print('Splendid') # agree()는 True를 반환하기 때문에 여기가 출력됨\n",
    "else:\n",
    "    print('that was unexpected!') # 출력되지 않음"
   ]
  },
  {
   "cell_type": "code",
   "execution_count": 9,
   "id": "6c6f6ff4-c8a6-4245-ac79-6da1eb632889",
   "metadata": {},
   "outputs": [
    {
     "name": "stdout",
     "output_type": "stream",
     "text": [
      "hello hello\n"
     ]
    }
   ],
   "source": [
    "def echo(anything):\n",
    "    #3. 입력은 있고, 반환은 없는\n",
    "    print('{0} {0}'.format(anything))\n",
    "    \n",
    "echo('hello')"
   ]
  },
  {
   "cell_type": "code",
   "execution_count": 10,
   "id": "e3b4a697-7e62-4b57-a36c-55d193c71e68",
   "metadata": {},
   "outputs": [],
   "source": [
    "def echo(anything):\n",
    "    #4. 입력 있고, 반환 있고\n",
    "    return '{0} {0}'.format(anything)\n",
    "\n",
    "echo = echo('hello')\n",
    "# 변수로 받아서 사용 가능"
   ]
  },
  {
   "cell_type": "code",
   "execution_count": 11,
   "id": "e5452def-ecd1-494c-82c2-64ffb6409e69",
   "metadata": {},
   "outputs": [
    {
     "data": {
      "text/plain": [
       "'hello hello'"
      ]
     },
     "execution_count": 11,
     "metadata": {},
     "output_type": "execute_result"
    }
   ],
   "source": [
    "echo"
   ]
  },
  {
   "cell_type": "markdown",
   "id": "5cb4cc5c-c8bb-4743-9b9c-2bccae74c228",
   "metadata": {},
   "source": [
    "3. 인수랑 매개변수\n",
    "    - 매개변수 : 정의할 때 쓰임. 인터페이스 내에서만 유효함\n",
    "    - 인수 : 호출할 때 쓰임.\n",
    "    - 함수 호출 시 인수에 할당된 값이 매개변수에 복제됨\n",
    "        - line = 'hello'\n",
    "        - anyhting = line **** copy되는 부분으로 이 부분이 중요함\n",
    "        - anything 사라짐\n",
    "- 위치 인수:\n",
    "    - positional argument\n",
    "    - 값을 순서대로 상용하는 매개변수에 복사하는 것\n",
    "- 키워드 인수\n",
    "    - keyword argument\n",
    "    - 매개변수에 상용하는 이름을 인수에 지정\n",
    "    - 위치가 달라도 됨\n",
    "- 디폴트 인수\n",
    "    - default argument\n",
    "    - 정의할 때 매개변수의 기본값 설정\n",
    "    - 호출 시 인수가 업승면 기본값으로 적용됨\n",
    "    - default값은 non-default 뒤에 와야 한다.\n"
   ]
  },
  {
   "cell_type": "code",
   "execution_count": 13,
   "id": "91b6c57c-3484-4fec-b3b9-f49c5ce46c47",
   "metadata": {},
   "outputs": [
    {
     "data": {
      "text/plain": [
       "'black'"
      ]
     },
     "execution_count": 13,
     "metadata": {},
     "output_type": "execute_result"
    }
   ],
   "source": [
    "def commentary(color):\n",
    "    # pass : 나중에 설정하고 싶을 때 사용\n",
    "    # print(color, '1')\n",
    "    if color == 'g':\n",
    "        return 'green'\n",
    "    else:\n",
    "        return 'black'\n",
    "\n",
    "color = 'white'\n",
    "commentary(color)"
   ]
  },
  {
   "cell_type": "code",
   "execution_count": 14,
   "id": "e690f2e5-389c-448c-b296-f2cd2a433f4c",
   "metadata": {},
   "outputs": [
    {
     "name": "stdout",
     "output_type": "stream",
     "text": [
      "white 2\n"
     ]
    }
   ],
   "source": [
    "print(color, '2')"
   ]
  },
  {
   "cell_type": "code",
   "execution_count": 15,
   "id": "8d1ada34-2a93-4ffa-9a7c-c89f4013ce78",
   "metadata": {},
   "outputs": [
    {
     "name": "stdout",
     "output_type": "stream",
     "text": [
      "green\n",
      "black\n",
      "black\n"
     ]
    }
   ],
   "source": [
    "colors = ['g', 'r', 'b']\n",
    "for c in colors:\n",
    "    print(commentary(c))"
   ]
  },
  {
   "cell_type": "code",
   "execution_count": 16,
   "id": "aef241a9-64af-4b30-9cdf-0762494c6c06",
   "metadata": {},
   "outputs": [
    {
     "data": {
      "text/plain": [
       "{'wine': 'rioja', 'entree': 'cake', 'dessert': 'egg'}"
      ]
     },
     "execution_count": 16,
     "metadata": {},
     "output_type": "execute_result"
    }
   ],
   "source": [
    "# 위치 인수 예제\n",
    "def menu(wine, entree, dessert):\n",
    "    return {'wine':wine, 'entree':entree, 'dessert':dessert}\n",
    "\n",
    "menu('rioja', 'cake', 'egg')"
   ]
  },
  {
   "cell_type": "code",
   "execution_count": 17,
   "id": "3c5c0f33-d071-47aa-9079-8c6f2bb9bede",
   "metadata": {},
   "outputs": [
    {
     "data": {
      "text/plain": [
       "{'wine': 'rioja', 'entree': 'egg', 'dessert': 'pancake'}"
      ]
     },
     "execution_count": 17,
     "metadata": {},
     "output_type": "execute_result"
    }
   ],
   "source": [
    "# 키워드 인수 예제\n",
    "menu(entree='egg', wine='rioja', dessert='pancake')"
   ]
  },
  {
   "cell_type": "code",
   "execution_count": 18,
   "id": "f6da43ab-a87a-40a4-a15c-50691002948f",
   "metadata": {},
   "outputs": [
    {
     "data": {
      "text/plain": [
       "{'wine': 'egg', 'entree': 'rioja', 'dessert': 'pancake'}"
      ]
     },
     "execution_count": 18,
     "metadata": {},
     "output_type": "execute_result"
    }
   ],
   "source": [
    "# 위치인수, 키워드 인수 혼용할 때 주의. 위치 고려\n",
    "menu('egg', 'rioja', dessert='pancake')"
   ]
  },
  {
   "cell_type": "code",
   "execution_count": 19,
   "id": "ee333236-780c-4c92-b07a-5cd08786db05",
   "metadata": {},
   "outputs": [
    {
     "ename": "SyntaxError",
     "evalue": "non-default argument follows default argument (3552781921.py, line 2)",
     "output_type": "error",
     "traceback": [
      "\u001b[0;36m  File \u001b[0;32m\"/var/folders/_b/6lz4nnpx49579btkl7_ctft80000gn/T/ipykernel_7634/3552781921.py\"\u001b[0;36m, line \u001b[0;32m2\u001b[0m\n\u001b[0;31m    def menu2(wine='merlot', entree, dessert):\u001b[0m\n\u001b[0m                                     ^\u001b[0m\n\u001b[0;31mSyntaxError\u001b[0m\u001b[0;31m:\u001b[0m non-default argument follows default argument\n"
     ]
    }
   ],
   "source": [
    "# default\n",
    "def menu2(wine='merlot', entree, dessert):\n",
    "    return {'wine':wine, 'entree':entree, 'dessert':dessert}\n",
    "\n",
    "menu2 # 에러 발생. default값이 앞에 왔기 때문"
   ]
  },
  {
   "cell_type": "code",
   "execution_count": 24,
   "id": "6242f83f-f103-4a9c-b18e-f1fd8417c7df",
   "metadata": {},
   "outputs": [],
   "source": [
    "def menu2(wine, entree, dessert='scone'):\n",
    "    return {'wine':wine, 'entree':entree, 'dessert':dessert}"
   ]
  },
  {
   "cell_type": "code",
   "execution_count": 25,
   "id": "fe4b6032-fa85-4b6a-b3d8-547f5c8892f3",
   "metadata": {},
   "outputs": [
    {
     "data": {
      "text/plain": [
       "{'wine': 'merlot', 'entree': 'egg', 'dessert': 'scone'}"
      ]
     },
     "execution_count": 25,
     "metadata": {},
     "output_type": "execute_result"
    }
   ],
   "source": [
    "menu2('merlot', 'egg')"
   ]
  },
  {
   "cell_type": "code",
   "execution_count": 28,
   "id": "11cc6efb-2ef1-4307-81a4-0de9d551f25d",
   "metadata": {},
   "outputs": [
    {
     "data": {
      "text/plain": [
       "{'wine': 'merlot', 'entree': 'egg', 'dessert': 'cake'}"
      ]
     },
     "execution_count": 28,
     "metadata": {},
     "output_type": "execute_result"
    }
   ],
   "source": [
    "# 만약 dessert값도 함수 호출하면서 쓰면 어떻게 될까?\n",
    "menu2('merlot', 'egg', 'cake')\n",
    "# 함수를 만들 때 키워드 인수 선언으로 사용된 dessert='scone'의 'scone'은 무시당하고 'cake'가 나옴."
   ]
  },
  {
   "cell_type": "markdown",
   "id": "e0e70fb7-394f-491a-8e7d-e3de8492271b",
   "metadata": {},
   "source": [
    "### 나이 -> 연도\n",
    "def fx():\n",
    "    # 입력값 = 나이\n",
    "    # 반환값 = 출생년도\n",
    "    \n",
    "    \n",
    "- input() 입력 받아서 함수 사용해서 출력하기"
   ]
  },
  {
   "cell_type": "code",
   "execution_count": 29,
   "id": "19a180ad-90e5-428f-a160-21d7d8de70ac",
   "metadata": {},
   "outputs": [
    {
     "name": "stdin",
     "output_type": "stream",
     "text": [
      " 23\n"
     ]
    },
    {
     "data": {
      "text/plain": [
       "2000"
      ]
     },
     "execution_count": 29,
     "metadata": {},
     "output_type": "execute_result"
    }
   ],
   "source": [
    "n = int(input())\n",
    "def calc_birth_year(age):\n",
    "    return 2022 - (age-1)\n",
    "calc_birth_year(n)"
   ]
  },
  {
   "cell_type": "code",
   "execution_count": null,
   "id": "452337c2-4a5d-490d-99cc-8080d53c1e48",
   "metadata": {},
   "outputs": [
    {
     "name": "stdin",
     "output_type": "stream",
     "text": [
      " 23\n"
     ]
    },
    {
     "data": {
      "text/plain": [
       "2000"
      ]
     },
     "execution_count": 30,
     "metadata": {},
     "output_type": "execute_result"
    }
   ],
   "source": [
    "# 다른 분 답안\n",
    "def calc_birth_year(years_old):\n",
    "    this_year = 2022\n",
    "    return this_year - years_old + 1\n",
    "\n",
    "age = int(input())\n",
    "calc_birth_year(age)"
   ]
  },
  {
   "cell_type": "markdown",
   "id": "dbaf8e97-70ac-4664-89e1-9c99a7b42322",
   "metadata": {},
   "source": [
    "### 예\n",
    "- 사각형 너비 구하기\n",
    "    - 입력 : 두 변 길이\n",
    "    - 출력 : string ''cm\n",
    "def #####:\n",
    "    "
   ]
  },
  {
   "cell_type": "code",
   "execution_count": 31,
   "id": "9c33fe7c-9a73-4e20-adf5-fc5c4a8ff844",
   "metadata": {},
   "outputs": [
    {
     "name": "stdin",
     "output_type": "stream",
     "text": [
      "가로 길이:  2\n",
      "세로 길이:  5\n"
     ]
    },
    {
     "data": {
      "text/plain": [
       "'10cm'"
      ]
     },
     "execution_count": 31,
     "metadata": {},
     "output_type": "execute_result"
    }
   ],
   "source": [
    "def calc_squreArea(width, length):\n",
    "    return '{}cm'.format(width*length)\n",
    "\n",
    "w = int(input('가로 길이: '))\n",
    "l = int(input('세로 길이: '))\n",
    "\n",
    "calc_squreArea(w, l)"
   ]
  },
  {
   "cell_type": "code",
   "execution_count": 32,
   "id": "8bb231f4-eafd-46fc-a857-009178ed572f",
   "metadata": {},
   "outputs": [],
   "source": [
    "# 좋은 함수 이름을 항상 고려할 것. 동사 + 명사"
   ]
  },
  {
   "cell_type": "markdown",
   "id": "e37cd9c6-ac45-43ee-9b92-39f1736b78dc",
   "metadata": {},
   "source": [
    "### 호출방식\n",
    "    - 정의된 부분이 메모리에 업로드 되지만 실행은 안 된다.\n",
    "    - 실행은 호출 시\n",
    "    - 값을 넘기는 방식 : 참조에 의한 호출(call by reference) 메모리 주소\n",
    "    - 메모리 주소가 복사되기 때문에 가변객체가 매개변수로 들어갈 때 주의할 것"
   ]
  },
  {
   "cell_type": "code",
   "execution_count": 34,
   "id": "563e25b7-31df-4a47-9a43-df2f79775677",
   "metadata": {},
   "outputs": [
    {
     "name": "stdout",
     "output_type": "stream",
     "text": [
      "2\n",
      "3\n",
      "1\n",
      "4\n"
     ]
    }
   ],
   "source": [
    "def calc_area(length, width): # define\n",
    "    print('1')\n",
    "    return length * width\n",
    "\n",
    "print('2')\n",
    "garo = 2\n",
    "sero = 43\n",
    "print('3')\n",
    "calc_area(garo, sero) # call\n",
    "print('4')"
   ]
  },
  {
   "cell_type": "code",
   "execution_count": 37,
   "id": "85758e0c-f370-455b-b067-34f94a558836",
   "metadata": {},
   "outputs": [
    {
     "name": "stdout",
     "output_type": "stream",
     "text": [
      "1\n",
      "86\n"
     ]
    }
   ],
   "source": [
    "area = calc_area(garo, sero) # 변수에 넣어 사용\n",
    "print(area)"
   ]
  },
  {
   "cell_type": "code",
   "execution_count": 38,
   "id": "ed204618-2b1a-4a96-affb-941a5f67eb8a",
   "metadata": {},
   "outputs": [
    {
     "name": "stdout",
     "output_type": "stream",
     "text": [
      "['a']\n",
      "['b']\n"
     ]
    }
   ],
   "source": [
    "def buggy(arg, result=[]):\n",
    "    result = [] # 비운 뒤\n",
    "    result.append(arg)\n",
    "    print(result)\n",
    "    \n",
    "buggy('a') # [a]\n",
    "buggy('b') # [b]"
   ]
  },
  {
   "cell_type": "code",
   "execution_count": 41,
   "id": "ad7f1922-98ac-4fb5-bbd6-6e9bd76c7008",
   "metadata": {},
   "outputs": [
    {
     "name": "stdout",
     "output_type": "stream",
     "text": [
      "['b']\n"
     ]
    }
   ],
   "source": [
    "buggy('b', ['a', 'c']) # 역시나 요소가 있는 리스트를 넣어도 잘 실행됨."
   ]
  },
  {
   "cell_type": "code",
   "execution_count": 45,
   "id": "738914f7-deec-456c-9842-611318ecb3e9",
   "metadata": {},
   "outputs": [
    {
     "name": "stdout",
     "output_type": "stream",
     "text": [
      "[2, 3] eggs\n",
      "[0, 1] ham\n"
     ]
    }
   ],
   "source": [
    "# length = garo # list copy\n",
    "def spam(eggs):\n",
    "    eggs.append(1)\n",
    "    eggs = [2, 3]\n",
    "    print(eggs, 'eggs')\n",
    "    \n",
    "ham = [0]\n",
    "spam(ham) # 여기서 ham = [0, 1]\n",
    "print(ham, 'ham')"
   ]
  },
  {
   "cell_type": "code",
   "execution_count": 43,
   "id": "8b5b1709-6545-4441-94c0-5106e2261661",
   "metadata": {},
   "outputs": [
    {
     "name": "stdout",
     "output_type": "stream",
     "text": [
      "a\n"
     ]
    }
   ],
   "source": [
    "# None\n",
    "thing = None\n",
    "if thing is None:\n",
    "    print('a') # True\n",
    "elif thing:\n",
    "    print('b') \n",
    "else:\n",
    "    print('c') # False"
   ]
  },
  {
   "cell_type": "code",
   "execution_count": 46,
   "id": "e849d8cd-2174-428e-b0aa-8ef64d2034f0",
   "metadata": {},
   "outputs": [
    {
     "name": "stdout",
     "output_type": "stream",
     "text": [
      "['a']\n",
      "['b']\n",
      "['b']\n"
     ]
    }
   ],
   "source": [
    "def nonbuggy(arg, result=None):\n",
    "    if result is None:\n",
    "        result = []\n",
    "    result.append(arg)\n",
    "    print(result)\n",
    "    \n",
    "list_a = []\n",
    "nonbuggy('a')\n",
    "nonbuggy('b', list_a)\n",
    "print(list_a)"
   ]
  },
  {
   "cell_type": "markdown",
   "id": "63090d7b-74da-4fb0-8512-09a54f59ff7c",
   "metadata": {},
   "source": [
    "#### 전역변수 vs. 지역번수\n",
    "- 지역번수: 함수 내에서만 사용 가능\n",
    "- 전역변수: 프로그램 전체에서 사용 가능 (`global`로 선언)"
   ]
  },
  {
   "cell_type": "code",
   "execution_count": 51,
   "id": "1b18f417-812b-46d1-b89a-933572bae4ed",
   "metadata": {},
   "outputs": [
    {
     "name": "stdout",
     "output_type": "stream",
     "text": [
      "paris\n",
      "london\n",
      "london\n"
     ]
    }
   ],
   "source": [
    "def fx():\n",
    "    \"\"\"\n",
    "    doc string: 함수에 대한 설명\n",
    "    매개변수에 대한 설명, 타입, 함수의 의도 설명\n",
    "    시험 제출 시 활용, 대면 때는 쓰지 않아도 됨\n",
    "    \"\"\"\n",
    "    global city\n",
    "    city = 'london'\n",
    "    print(city)\n",
    "    \n",
    "city = 'paris'\n",
    "print(city)\n",
    "fx() # 전역변수 global의 city 적용\n",
    "print(city)"
   ]
  },
  {
   "cell_type": "code",
   "execution_count": 55,
   "id": "4c365900-e28a-4d40-a795-088cf6d22caa",
   "metadata": {},
   "outputs": [
    {
     "name": "stdout",
     "output_type": "stream",
     "text": [
      "toronto\n",
      "newyork\n",
      "toronto\n"
     ]
    }
   ],
   "source": [
    "# global을 사용하지 않는다면?\n",
    "def px():\n",
    "    city = 'newyork'\n",
    "    print(city)\n",
    "    \n",
    "city = 'toronto'\n",
    "print(city)\n",
    "px()\n",
    "print(city) # px() 안의 city는 px()안에서만 사용 가능함을 알 수 있음."
   ]
  },
  {
   "cell_type": "code",
   "execution_count": 48,
   "id": "6c12633e-8a5f-4ec1-81d2-caa51e88f4c1",
   "metadata": {},
   "outputs": [
    {
     "data": {
      "text/plain": [
       "'london'"
      ]
     },
     "execution_count": 48,
     "metadata": {},
     "output_type": "execute_result"
    }
   ],
   "source": [
    "city"
   ]
  },
  {
   "cell_type": "code",
   "execution_count": 49,
   "id": "3a10a7dc-203b-41bd-8a15-f0e665e82866",
   "metadata": {},
   "outputs": [
    {
     "name": "stdout",
     "output_type": "stream",
     "text": [
      "paris\n"
     ]
    }
   ],
   "source": [
    "city = 'paris'\n",
    "print(city)"
   ]
  },
  {
   "cell_type": "code",
   "execution_count": 52,
   "id": "0320cd5d-a48e-4726-86ac-837ab1deb5bc",
   "metadata": {},
   "outputs": [
    {
     "name": "stdout",
     "output_type": "stream",
     "text": [
      "Help on function fx in module __main__:\n",
      "\n",
      "fx()\n",
      "    doc string: 함수에 대한 설명\n",
      "    매개변수에 대한 설명, 타입, 함수의 의도 설명\n",
      "    시험 제출 시 활용, 대면 때는 쓰지 않아도 됨\n",
      "\n"
     ]
    }
   ],
   "source": [
    "# 독스트링 출력하는 법\n",
    "help(fx)"
   ]
  },
  {
   "cell_type": "code",
   "execution_count": 53,
   "id": "80b8f9f2-8761-4bcf-a853-e6183b2f5033",
   "metadata": {},
   "outputs": [
    {
     "data": {
      "text/plain": [
       "'\\n    doc string: 함수에 대한 설명\\n    매개변수에 대한 설명, 타입, 함수의 의도 설명\\n    시험 제출 시 활용, 대면 때는 쓰지 않아도 됨\\n    '"
      ]
     },
     "execution_count": 53,
     "metadata": {},
     "output_type": "execute_result"
    }
   ],
   "source": [
    "# 독스트링 출력하는 법 2\n",
    "fx.__doc__ # 스트링으로 반환"
   ]
  }
 ],
 "metadata": {
  "kernelspec": {
   "display_name": "Python 3 (ipykernel)",
   "language": "python",
   "name": "python3"
  },
  "language_info": {
   "codemirror_mode": {
    "name": "ipython",
    "version": 3
   },
   "file_extension": ".py",
   "mimetype": "text/x-python",
   "name": "python",
   "nbconvert_exporter": "python",
   "pygments_lexer": "ipython3",
   "version": "3.9.7"
  }
 },
 "nbformat": 4,
 "nbformat_minor": 5
}
