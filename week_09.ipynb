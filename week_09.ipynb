{
 "cells": [
  {
   "cell_type": "markdown",
   "id": "0f9f458a-da12-40a1-bf91-f940c794e2de",
   "metadata": {},
   "source": [
    "# Week 09"
   ]
  },
  {
   "cell_type": "markdown",
   "id": "174951f6-1047-454e-8281-279dbd494e39",
   "metadata": {},
   "source": [
    "### Dictionary\n",
    "- 영어사전이라고 생각하면, 단어 : 뜻\n",
    "- 키 : 값\n",
    "     - 키값은 고유해야 한다.\n",
    "- 순서가 없음 * => offset, index 없음\n",
    "- 가변 객체 (수정, 추가, 삭제 가능\n",
    "- 타입 : dict, dict()\n",
    "- 생성 : {key1: value1, key2: value2, ...} 중괄호 사용\n",
    "- value에는 리스트, 튜플, 딕셔너리도 들어갈 수 있음"
   ]
  },
  {
   "cell_type": "code",
   "execution_count": 1,
   "id": "ea50b539-6106-464b-93ee-ef23bff7cac6",
   "metadata": {},
   "outputs": [
    {
     "data": {
      "text/plain": [
       "1"
      ]
     },
     "execution_count": 1,
     "metadata": {},
     "output_type": "execute_result"
    }
   ],
   "source": [
    "a = [1, 2, 3]\n",
    "a[0] # index"
   ]
  },
  {
   "cell_type": "code",
   "execution_count": 2,
   "id": "607e7dc1-3ca0-4b31-87a8-43ae297b4a0b",
   "metadata": {},
   "outputs": [
    {
     "data": {
      "text/plain": [
       "set()"
      ]
     },
     "execution_count": 2,
     "metadata": {},
     "output_type": "execute_result"
    }
   ],
   "source": [
    "a = {} # dictionary // set 아님.\n",
    "a = set() # set 생성법\n",
    "a"
   ]
  },
  {
   "cell_type": "code",
   "execution_count": 3,
   "id": "9c4cf4b5-cf61-4ce4-911c-d05dd4577002",
   "metadata": {},
   "outputs": [
    {
     "data": {
      "text/plain": [
       "{}"
      ]
     },
     "execution_count": 3,
     "metadata": {},
     "output_type": "execute_result"
    }
   ],
   "source": [
    "# 빈 딕셔너리 선언\n",
    "empty = dict()\n",
    "empty = {}\n",
    "empty "
   ]
  },
  {
   "cell_type": "code",
   "execution_count": 4,
   "id": "c9e341fa-0962-4bd3-861a-ce1ec1c35beb",
   "metadata": {},
   "outputs": [
    {
     "data": {
      "text/plain": [
       "{'first': 'wile', 'middle': 'E', 'last': 'coyote'}"
      ]
     },
     "execution_count": 4,
     "metadata": {},
     "output_type": "execute_result"
    }
   ],
   "source": [
    "customer = {'first': 'wile', 'middle': 'E', 'last': 'coyote'} # key : value\n",
    "customer"
   ]
  },
  {
   "cell_type": "code",
   "execution_count": 5,
   "id": "7db5076b-6c36-4d4f-94cb-8b0bfe6e7495",
   "metadata": {},
   "outputs": [
    {
     "data": {
      "text/plain": [
       "{'first': 'wile', 'middle': 'F', 'last': 'coyote'}"
      ]
     },
     "execution_count": 5,
     "metadata": {},
     "output_type": "execute_result"
    }
   ],
   "source": [
    "customer = dict(first='wile', middle='F', last='coyote')\n",
    "customer"
   ]
  },
  {
   "cell_type": "code",
   "execution_count": 2,
   "id": "89759afb-9c1b-488c-b6d9-fc7dc0c60358",
   "metadata": {},
   "outputs": [
    {
     "data": {
      "text/plain": [
       "{202201: ['제임스', '경영학과'], 202202: ['줄리엣', '아랍어과'], 202203: ['로버트', 'ELLT과']}"
      ]
     },
     "execution_count": 2,
     "metadata": {},
     "output_type": "execute_result"
    }
   ],
   "source": [
    "# 출석부 딕셔너리 만들기\n",
    "\"\"\"\n",
    "이름, 학번, 학과\n",
    "제임스 202201 경영학과\n",
    "줄리엣 202202 아랍어과\n",
    "로버트 202203 ELLT과\n",
    "\"\"\"\n",
    "\n",
    "# 학번을 키 값으로 만든 딕셔너리\n",
    "student_dict = {202201 : [\"제임스\", '경영학과'], 202202 : [\"줄리엣\", \"아랍어과\"], 202203 : [\"로버트\", \"ELLT과\"]}\n",
    "student_dict"
   ]
  },
  {
   "cell_type": "markdown",
   "id": "cc447f56-e4d3-4aef-b57d-8ef3faf0fdb1",
   "metadata": {},
   "source": [
    "#### 형변환"
   ]
  },
  {
   "cell_type": "code",
   "execution_count": 3,
   "id": "532a13d4-af43-4585-8a4d-df38ea5e5eda",
   "metadata": {},
   "outputs": [
    {
     "data": {
      "text/plain": [
       "{20221: [], 3: 4, 5: 6}"
      ]
     },
     "execution_count": 3,
     "metadata": {},
     "output_type": "execute_result"
    }
   ],
   "source": [
    "#dict()\n",
    "ex1 = [[20221, []], [3, 4], [5, 6]]\n",
    "dict(ex1)"
   ]
  },
  {
   "cell_type": "code",
   "execution_count": 4,
   "id": "18649d67-4ba0-4d7d-a34c-b53b905386d4",
   "metadata": {},
   "outputs": [
    {
     "data": {
      "text/plain": [
       "{1: 2, 3: 4, 5: 6}"
      ]
     },
     "execution_count": 4,
     "metadata": {},
     "output_type": "execute_result"
    }
   ],
   "source": [
    "ex2 = [(1, 2), (3, 4), (5, 6)]\n",
    "dict(ex2)"
   ]
  },
  {
   "cell_type": "code",
   "execution_count": 5,
   "id": "213165cd-af46-421e-b0bd-24d2c723a9e6",
   "metadata": {},
   "outputs": [
    {
     "ename": "ValueError",
     "evalue": "dictionary update sequence element #0 has length 4; 2 is required",
     "output_type": "error",
     "traceback": [
      "\u001b[0;31m---------------------------------------------------------------------------\u001b[0m",
      "\u001b[0;31mValueError\u001b[0m                                Traceback (most recent call last)",
      "\u001b[0;32m/var/folders/_b/6lz4nnpx49579btkl7_ctft80000gn/T/ipykernel_928/554988197.py\u001b[0m in \u001b[0;36m<module>\u001b[0;34m\u001b[0m\n\u001b[1;32m      1\u001b[0m \u001b[0mex3\u001b[0m \u001b[0;34m=\u001b[0m \u001b[0;34m[\u001b[0m\u001b[0;34m'abdd'\u001b[0m\u001b[0;34m,\u001b[0m \u001b[0;34m'bcdd'\u001b[0m\u001b[0;34m,\u001b[0m \u001b[0;34m'cddd'\u001b[0m\u001b[0;34m]\u001b[0m\u001b[0;34m\u001b[0m\u001b[0;34m\u001b[0m\u001b[0m\n\u001b[0;32m----> 2\u001b[0;31m \u001b[0mdict\u001b[0m\u001b[0;34m(\u001b[0m\u001b[0mex3\u001b[0m\u001b[0;34m)\u001b[0m \u001b[0;31m# 값이 많을 땐 안 됨\u001b[0m\u001b[0;34m\u001b[0m\u001b[0;34m\u001b[0m\u001b[0m\n\u001b[0m",
      "\u001b[0;31mValueError\u001b[0m: dictionary update sequence element #0 has length 4; 2 is required"
     ]
    }
   ],
   "source": [
    "ex3 = ['abdd', 'bcdd', 'cddd']\n",
    "dict(ex3) # 값이 많을 땐 안 됨"
   ]
  },
  {
   "cell_type": "markdown",
   "id": "e72219bd-718c-41f6-86f5-3412ae6a1c9b",
   "metadata": {
    "tags": []
   },
   "source": [
    "#### 항목 조회 & 변경"
   ]
  },
  {
   "cell_type": "code",
   "execution_count": 6,
   "id": "f612ce9e-4e3e-4132-88b2-3c9587db4d1d",
   "metadata": {},
   "outputs": [],
   "source": [
    "pythons = {\n",
    "    'Chapman' : 'Graham',\n",
    "    'Cleese': 'John',\n",
    "    'Idle' : 'Eric',\n",
    "    'Jones' : 'Terry',\n",
    "    'Parlin' : 'Michael'\n",
    "}"
   ]
  },
  {
   "cell_type": "code",
   "execution_count": 7,
   "id": "d82ce5eb-451f-47e9-8707-2be29422f13c",
   "metadata": {},
   "outputs": [
    {
     "data": {
      "text/plain": [
       "'Eric'"
      ]
     },
     "execution_count": 7,
     "metadata": {},
     "output_type": "execute_result"
    }
   ],
   "source": [
    "#idle\n",
    "pythons['Idle']"
   ]
  },
  {
   "cell_type": "code",
   "execution_count": 9,
   "id": "4ffd7ca2-aad9-4e1b-a0c1-266694591aef",
   "metadata": {},
   "outputs": [
    {
     "ename": "KeyError",
     "evalue": "0",
     "output_type": "error",
     "traceback": [
      "\u001b[0;31m---------------------------------------------------------------------------\u001b[0m",
      "\u001b[0;31mKeyError\u001b[0m                                  Traceback (most recent call last)",
      "\u001b[0;32m/var/folders/_b/6lz4nnpx49579btkl7_ctft80000gn/T/ipykernel_928/870325788.py\u001b[0m in \u001b[0;36m<module>\u001b[0;34m\u001b[0m\n\u001b[0;32m----> 1\u001b[0;31m \u001b[0mpythons\u001b[0m\u001b[0;34m[\u001b[0m\u001b[0;36m0\u001b[0m\u001b[0;34m]\u001b[0m \u001b[0;31m# index 사용 불가능. 순서가 없기 때문\u001b[0m\u001b[0;34m\u001b[0m\u001b[0;34m\u001b[0m\u001b[0m\n\u001b[0m",
      "\u001b[0;31mKeyError\u001b[0m: 0"
     ]
    }
   ],
   "source": [
    "pythons[0] # index 사용 불가능. 순서가 없기 때문"
   ]
  },
  {
   "cell_type": "code",
   "execution_count": 10,
   "id": "253fb093-1bae-474a-8275-b6fb14f5d068",
   "metadata": {},
   "outputs": [
    {
     "data": {
      "text/plain": [
       "{'Chapman': 'Graham',\n",
       " 'Cleese': 'John',\n",
       " 'Idle': 'Erica',\n",
       " 'Jones': 'Terry',\n",
       " 'Parlin': 'Michael'}"
      ]
     },
     "execution_count": 10,
     "metadata": {},
     "output_type": "execute_result"
    }
   ],
   "source": [
    "pythons['Idle'] = 'Erica' # value값 바뀜\n",
    "pythons"
   ]
  },
  {
   "cell_type": "code",
   "execution_count": 11,
   "id": "0a37a605-ae46-4c80-a112-6b4490a20e04",
   "metadata": {},
   "outputs": [
    {
     "data": {
      "text/plain": [
       "{'Chapman': 'Graham',\n",
       " 'Cleese': 'John',\n",
       " 'Idle': 'Erica',\n",
       " 'Jones': 'Terry',\n",
       " 'Parlin': 'Josh'}"
      ]
     },
     "execution_count": 11,
     "metadata": {},
     "output_type": "execute_result"
    }
   ],
   "source": [
    "pythons['Parlin'] = 'Josh'\n",
    "pythons"
   ]
  },
  {
   "cell_type": "code",
   "execution_count": 12,
   "id": "37a05d08-3446-4681-98cc-0701991b4e54",
   "metadata": {},
   "outputs": [
    {
     "data": {
      "text/plain": [
       "{'Chapman': 'Graham',\n",
       " 'Cleese': 'John',\n",
       " 'Idle': 'Erica',\n",
       " 'Jones': 'Terry',\n",
       " 'Parlin': 'Josh',\n",
       " 'Kim': 'Laura'}"
      ]
     },
     "execution_count": 12,
     "metadata": {},
     "output_type": "execute_result"
    }
   ],
   "source": [
    "pythons['Kim'] = 'Laura'\n",
    "pythons # 마지막에 추가됨"
   ]
  },
  {
   "cell_type": "code",
   "execution_count": 13,
   "id": "bc789a07-a735-4290-a89b-78885a38b954",
   "metadata": {},
   "outputs": [
    {
     "data": {
      "text/plain": [
       "False"
      ]
     },
     "execution_count": 13,
     "metadata": {},
     "output_type": "execute_result"
    }
   ],
   "source": [
    "'Lee' in pythons # 체크를 먼저"
   ]
  },
  {
   "cell_type": "code",
   "execution_count": 14,
   "id": "1e2335da-77c0-425f-b00d-17f5a43037e5",
   "metadata": {},
   "outputs": [
    {
     "data": {
      "text/plain": [
       "True"
      ]
     },
     "execution_count": 14,
     "metadata": {},
     "output_type": "execute_result"
    }
   ],
   "source": [
    "'Idle' in pythons # key값 체크 => 가능"
   ]
  },
  {
   "cell_type": "code",
   "execution_count": 15,
   "id": "d50e682a-322e-421e-8915-3c1520c2c475",
   "metadata": {},
   "outputs": [
    {
     "data": {
      "text/plain": [
       "False"
      ]
     },
     "execution_count": 15,
     "metadata": {},
     "output_type": "execute_result"
    }
   ],
   "source": [
    "'Erica' in pythons # value값 체크 => 불가능"
   ]
  },
  {
   "cell_type": "code",
   "execution_count": 16,
   "id": "e648d7b3-fb99-488e-a747-15a1b1c34d17",
   "metadata": {},
   "outputs": [
    {
     "data": {
      "text/plain": [
       "'Laura'"
      ]
     },
     "execution_count": 16,
     "metadata": {},
     "output_type": "execute_result"
    }
   ],
   "source": [
    "pythons.get('Kim', 0) # 값이 있으면 값 리턴, 없으면 0 리턴"
   ]
  },
  {
   "cell_type": "code",
   "execution_count": 17,
   "id": "593d1ddf-17e1-462a-9374-a712ad463721",
   "metadata": {},
   "outputs": [
    {
     "data": {
      "text/plain": [
       "0"
      ]
     },
     "execution_count": 17,
     "metadata": {},
     "output_type": "execute_result"
    }
   ],
   "source": [
    "pythons.get('Choi', 0) # 값이 없으면 0 리턴"
   ]
  },
  {
   "cell_type": "markdown",
   "id": "b946a398-cfc2-4719-9c64-17f09947d7be",
   "metadata": {},
   "source": [
    "#### keys(), values(), items()\n",
    "- keys()\n",
    "- values()\n",
    "- items() : key, value 둘 다 return"
   ]
  },
  {
   "cell_type": "code",
   "execution_count": 19,
   "id": "5f2c00d1-6e88-4054-a24b-71c5a16e0b2a",
   "metadata": {},
   "outputs": [
    {
     "data": {
      "text/plain": [
       "['Chapman', 'Cleese', 'Idle', 'Jones', 'Parlin', 'Kim']"
      ]
     },
     "execution_count": 19,
     "metadata": {},
     "output_type": "execute_result"
    }
   ],
   "source": [
    "list(pythons.keys())"
   ]
  },
  {
   "cell_type": "code",
   "execution_count": 20,
   "id": "0394a9df-f7d7-45d4-8cff-37d4e4436fc8",
   "metadata": {},
   "outputs": [
    {
     "data": {
      "text/plain": [
       "dict_values(['Graham', 'John', 'Erica', 'Terry', 'Josh', 'Laura'])"
      ]
     },
     "execution_count": 20,
     "metadata": {},
     "output_type": "execute_result"
    }
   ],
   "source": [
    "pythons.values()"
   ]
  },
  {
   "cell_type": "code",
   "execution_count": 21,
   "id": "fe84560d-ca80-4909-93f5-013cf3a852f9",
   "metadata": {},
   "outputs": [
    {
     "data": {
      "text/plain": [
       "dict_items([('Chapman', 'Graham'), ('Cleese', 'John'), ('Idle', 'Erica'), ('Jones', 'Terry'), ('Parlin', 'Josh'), ('Kim', 'Laura')])"
      ]
     },
     "execution_count": 21,
     "metadata": {},
     "output_type": "execute_result"
    }
   ],
   "source": [
    "pythons.items() # 리스트 안에 튜플 형식으로 들어가 있음. 순회 시 사용"
   ]
  },
  {
   "cell_type": "code",
   "execution_count": 22,
   "id": "99272293-c1c2-457c-b47f-56678f563288",
   "metadata": {},
   "outputs": [
    {
     "data": {
      "text/plain": [
       "[('Chapman', 'Graham'),\n",
       " ('Cleese', 'John'),\n",
       " ('Idle', 'Erica'),\n",
       " ('Jones', 'Terry'),\n",
       " ('Parlin', 'Josh'),\n",
       " ('Kim', 'Laura')]"
      ]
     },
     "execution_count": 22,
     "metadata": {},
     "output_type": "execute_result"
    }
   ],
   "source": [
    "[x for x in pythons.items()] # x[0]은 key, x[1] value"
   ]
  },
  {
   "cell_type": "code",
   "execution_count": 23,
   "id": "c72137d1-60d5-4afb-92c4-a4ddd0d091f9",
   "metadata": {},
   "outputs": [
    {
     "data": {
      "text/plain": [
       "['Chapman', 'Cleese', 'Idle', 'Jones', 'Parlin', 'Kim']"
      ]
     },
     "execution_count": 23,
     "metadata": {},
     "output_type": "execute_result"
    }
   ],
   "source": [
    "[x[0] for x in pythons.items()]"
   ]
  },
  {
   "cell_type": "code",
   "execution_count": 24,
   "id": "41b2402b-84a3-4f95-9f55-e80a08731fa6",
   "metadata": {},
   "outputs": [
    {
     "data": {
      "text/plain": [
       "['Graham', 'John', 'Erica', 'Terry', 'Josh', 'Laura']"
      ]
     },
     "execution_count": 24,
     "metadata": {},
     "output_type": "execute_result"
    }
   ],
   "source": [
    "[x[1] for x in pythons.items()]"
   ]
  },
  {
   "cell_type": "code",
   "execution_count": 25,
   "id": "dc8f3332-b560-425c-bd67-2aa386d2ddfc",
   "metadata": {},
   "outputs": [
    {
     "data": {
      "text/plain": [
       "{'cat': 4, 'snake': 0, 'monkey': 2, 'ant': 4, 'spider': 8}"
      ]
     },
     "execution_count": 25,
     "metadata": {},
     "output_type": "execute_result"
    }
   ],
   "source": [
    "animal = 'cat snake monkey ant spider'.split()\n",
    "legs = 4, 0, 2, 4, 8\n",
    "\n",
    "# 내 답안 => 굳이 리스트를 쓸 필요 없음.\n",
    "dict_items = []        \n",
    "for i in range(len(animal)):\n",
    "    key_value = [animal[i], legs[i]]\n",
    "    dict_items.append(key_value)\n",
    "\n",
    "dict(dict_items)"
   ]
  },
  {
   "cell_type": "code",
   "execution_count": 26,
   "id": "a07662d2-b26b-4250-83ae-91e5e7e8cf18",
   "metadata": {},
   "outputs": [
    {
     "data": {
      "text/plain": [
       "{'cat': 4, 'snake': 0, 'monkey': 2, 'ant': 4, 'spider': 8}"
      ]
     },
     "execution_count": 26,
     "metadata": {},
     "output_type": "execute_result"
    }
   ],
   "source": [
    "# 다른 사람 답안\n",
    "animals = {}\n",
    "for i in range(len(animal)):\n",
    "    animals[animal[i]] = legs[i]\n",
    "animals"
   ]
  },
  {
   "cell_type": "code",
   "execution_count": 27,
   "id": "e099dfe1-c659-4022-8dc1-e1c4a7d6f19b",
   "metadata": {},
   "outputs": [
    {
     "data": {
      "text/plain": [
       "[('C', 6), ('C', 4), ('I', 5), ('J', 5), ('P', 4), ('K', 5)]"
      ]
     },
     "execution_count": 27,
     "metadata": {},
     "output_type": "execute_result"
    }
   ],
   "source": [
    "#pythons에서 성 : 이름 => 리스트컴프리헨션 이용해서 성 앞글자 : 이름의 글자수\n",
    "\n",
    "[(x[0][0], len(x[1])) for x in pythons.items()]"
   ]
  },
  {
   "cell_type": "markdown",
   "id": "163d5364-4afb-4c92-b781-2f8d94967147",
   "metadata": {},
   "source": [
    "#### 값 수정, 삭제, 복제"
   ]
  },
  {
   "cell_type": "code",
   "execution_count": 28,
   "id": "0484a2d2-a174-4526-8782-b2d7f5d1ef25",
   "metadata": {},
   "outputs": [
    {
     "data": {
      "text/plain": [
       "{'Chapman': 'Graham',\n",
       " 'Cleese': 'John',\n",
       " 'Idle': 'Erica',\n",
       " 'Jones': 'Terry',\n",
       " 'Parlin': 'Josh',\n",
       " 'Kim': 'Laura'}"
      ]
     },
     "execution_count": 28,
     "metadata": {},
     "output_type": "execute_result"
    }
   ],
   "source": [
    "pythons"
   ]
  },
  {
   "cell_type": "code",
   "execution_count": 29,
   "id": "f9a51856-db2a-4009-afd3-4581b76d15b4",
   "metadata": {},
   "outputs": [],
   "source": [
    "others = {\n",
    "    'Marx' : 'Groucho',\n",
    "    'Howard' : 'Moe'\n",
    "}"
   ]
  },
  {
   "cell_type": "code",
   "execution_count": 30,
   "id": "7123c85f-a271-4606-b275-efbc86ddb938",
   "metadata": {},
   "outputs": [],
   "source": [
    "pythons.update(others)"
   ]
  },
  {
   "cell_type": "code",
   "execution_count": 31,
   "id": "e0df5039-bcc1-43a4-a62d-ac02eef4d8af",
   "metadata": {},
   "outputs": [
    {
     "data": {
      "text/plain": [
       "{'Chapman': 'Graham',\n",
       " 'Cleese': 'John',\n",
       " 'Idle': 'Erica',\n",
       " 'Jones': 'Terry',\n",
       " 'Parlin': 'Josh',\n",
       " 'Kim': 'Laura',\n",
       " 'Marx': 'Groucho',\n",
       " 'Howard': 'Moe'}"
      ]
     },
     "execution_count": 31,
     "metadata": {},
     "output_type": "execute_result"
    }
   ],
   "source": [
    "pythons"
   ]
  },
  {
   "cell_type": "code",
   "execution_count": 32,
   "id": "4a7b84c3-5a30-4798-9e78-b6dbd4b6133c",
   "metadata": {},
   "outputs": [
    {
     "data": {
      "text/plain": [
       "{'Marx': 'Groucho',\n",
       " 'Howard': 'Moe',\n",
       " 'Chapman': 'Graham',\n",
       " 'Cleese': 'John',\n",
       " 'Idle': 'Erica',\n",
       " 'Jones': 'Terry',\n",
       " 'Parlin': 'Josh',\n",
       " 'Kim': 'Laura'}"
      ]
     },
     "execution_count": 32,
     "metadata": {},
     "output_type": "execute_result"
    }
   ],
   "source": [
    "{**others, **pythons} # python3 가능"
   ]
  },
  {
   "cell_type": "code",
   "execution_count": 33,
   "id": "492257e0-07f0-4176-abc4-e1dad9f0b1a4",
   "metadata": {},
   "outputs": [],
   "source": [
    "# 삭제\n",
    "del pythons['Kim']"
   ]
  },
  {
   "cell_type": "code",
   "execution_count": 34,
   "id": "3fc7b818-5fdc-44b9-8ff1-4e275440dc9f",
   "metadata": {},
   "outputs": [
    {
     "data": {
      "text/plain": [
       "{'Chapman': 'Graham',\n",
       " 'Cleese': 'John',\n",
       " 'Idle': 'Erica',\n",
       " 'Jones': 'Terry',\n",
       " 'Parlin': 'Josh',\n",
       " 'Marx': 'Groucho',\n",
       " 'Howard': 'Moe'}"
      ]
     },
     "execution_count": 34,
     "metadata": {},
     "output_type": "execute_result"
    }
   ],
   "source": [
    "pythons"
   ]
  },
  {
   "cell_type": "code",
   "execution_count": 35,
   "id": "d661cb9a-f0ea-4010-8135-463125d6d698",
   "metadata": {},
   "outputs": [
    {
     "data": {
      "text/plain": [
       "'Groucho'"
      ]
     },
     "execution_count": 35,
     "metadata": {},
     "output_type": "execute_result"
    }
   ],
   "source": [
    "pythons.pop('Marx', 0) # 0: 없을 때의 값 // get과 비슷한 성질"
   ]
  },
  {
   "cell_type": "code",
   "execution_count": 36,
   "id": "7040e43d-6e10-4517-a2c8-86449f272d3f",
   "metadata": {},
   "outputs": [],
   "source": [
    "pythons.clear() # 다 삭제하고 싶을 때"
   ]
  },
  {
   "cell_type": "code",
   "execution_count": 38,
   "id": "c791499a-d2b3-4347-810d-f9e8cfb5f0c9",
   "metadata": {},
   "outputs": [],
   "source": [
    "pythons = {}"
   ]
  },
  {
   "cell_type": "code",
   "execution_count": 39,
   "id": "4ad0cf78-bbec-415c-96ca-3d4f6a72f0e4",
   "metadata": {},
   "outputs": [
    {
     "data": {
      "text/plain": [
       "{}"
      ]
     },
     "execution_count": 39,
     "metadata": {},
     "output_type": "execute_result"
    }
   ],
   "source": [
    "pythons"
   ]
  },
  {
   "cell_type": "code",
   "execution_count": 40,
   "id": "d19f501b-3394-4ba0-8340-74f0eb127d62",
   "metadata": {},
   "outputs": [],
   "source": [
    "# copy\n",
    "#1. 할당\n",
    "#2. 얕은 복사\n",
    "#3. 깊은 복사"
   ]
  },
  {
   "cell_type": "code",
   "execution_count": 41,
   "id": "a02051fe-49d7-4564-a9a9-67cda914ddc7",
   "metadata": {},
   "outputs": [
    {
     "data": {
      "text/plain": [
       "({1: 10, 2: 3, 3: 4}, {1: 10, 2: 3, 3: 4})"
      ]
     },
     "execution_count": 41,
     "metadata": {},
     "output_type": "execute_result"
    }
   ],
   "source": [
    "# 1. 할당\n",
    "a = {1:2, 2:3, 3:4}\n",
    "b = a\n",
    "a[1] = 10\n",
    "a, b # 둘 다 바뀜"
   ]
  },
  {
   "cell_type": "code",
   "execution_count": 42,
   "id": "a896e9aa-c1d7-4e4d-bcee-d96479ad5d80",
   "metadata": {},
   "outputs": [
    {
     "data": {
      "text/plain": [
       "({1: 100, 2: 3, 3: 4}, {1: 10, 2: 3, 3: 4})"
      ]
     },
     "execution_count": 42,
     "metadata": {},
     "output_type": "execute_result"
    }
   ],
   "source": [
    "# 2. 얕은 복사\n",
    "b = a.copy()\n",
    "a[1] = 100\n",
    "a, b # a의 value만 바뀜"
   ]
  },
  {
   "cell_type": "code",
   "execution_count": 43,
   "id": "6867eb9f-c48e-4646-9e26-b0356daeabfe",
   "metadata": {},
   "outputs": [
    {
     "data": {
      "text/plain": [
       "({1: [100, 2, 2], 2: [1, 1, 1]}, {1: [100, 2, 2], 2: [1, 1, 1]})"
      ]
     },
     "execution_count": 43,
     "metadata": {},
     "output_type": "execute_result"
    }
   ],
   "source": [
    "a = {1:[2, 2, 2], 2: [1, 1, 1]}\n",
    "b = a.copy()\n",
    "a[1][0] = 100\n",
    "a, b # 둘 다 바뀜"
   ]
  },
  {
   "cell_type": "code",
   "execution_count": 44,
   "id": "bd5e4c6c-b35b-4463-98aa-3a4a2417b57e",
   "metadata": {},
   "outputs": [
    {
     "data": {
      "text/plain": [
       "({1: [9, 2, 2], 2: [1, 1, 1]}, {1: [100, 2, 2], 2: [1, 1, 1]})"
      ]
     },
     "execution_count": 44,
     "metadata": {},
     "output_type": "execute_result"
    }
   ],
   "source": [
    "# 3. 깊은 복사\n",
    "import copy\n",
    "b = copy.deepcopy(a)\n",
    "a[1][0] = 9\n",
    "a, b"
   ]
  },
  {
   "cell_type": "code",
   "execution_count": 45,
   "id": "08a04c67-8492-408c-8339-98ac932b5679",
   "metadata": {},
   "outputs": [
    {
     "data": {
      "text/plain": [
       "False"
      ]
     },
     "execution_count": 45,
     "metadata": {},
     "output_type": "execute_result"
    }
   ],
   "source": [
    "# 값 비교 : 같고 다르고만 가능\n",
    "a = b\n",
    "a != b"
   ]
  },
  {
   "cell_type": "markdown",
   "id": "701df0fe-8f5e-42cb-b0d3-f0e34f6e9dba",
   "metadata": {},
   "source": [
    "### ex\n",
    "- 두 개 리스트를 딕셔너리로 만든다 : {한국어:영어}\n",
    "- 명왕성: pluto 추가하기\n",
    "- '성'으로 끝나지 않는 단어 삭제하기\n",
    "    del sdict['태양'] = 하드코딩 안됨\n",
    "- sorted i) kor ii) eng"
   ]
  },
  {
   "cell_type": "code",
   "execution_count": 46,
   "id": "9fc19790-bcc7-4c21-9bc7-e22582403376",
   "metadata": {},
   "outputs": [],
   "source": [
    "solar_kor = '태양 수성 금성 지구 화성 목성 토성 천왕성 해왕성'.split()\n",
    "solar_eng = 'sun mercury venus earth mars jupiter saturn uranus neptune'.split()"
   ]
  },
  {
   "cell_type": "code",
   "execution_count": 49,
   "id": "66024ac8-27c9-4745-b67a-ed77d12fc1ac",
   "metadata": {},
   "outputs": [
    {
     "data": {
      "text/plain": [
       "[('금성', 'venus'),\n",
       " ('명왕성', 'pluto'),\n",
       " ('목성', 'jupiter'),\n",
       " ('수성', 'mercury'),\n",
       " ('지구', 'earth'),\n",
       " ('천왕성', 'uranus'),\n",
       " ('태양', 'sun'),\n",
       " ('토성', 'saturn'),\n",
       " ('해왕성', 'neptune'),\n",
       " ('화성', 'mars')]"
      ]
     },
     "execution_count": 49,
     "metadata": {},
     "output_type": "execute_result"
    }
   ],
   "source": [
    "# 내 답안\n",
    "\n",
    "def function(s):\n",
    "    return s[0] # s[1]로 하면 영어 기준\n",
    "\n",
    "sdict = {}\n",
    "for i in range(len(solar_kor)):\n",
    "    sdict[solar_kor[i]] = solar_eng[i]\n",
    "\n",
    "sdict['명왕성'] = 'pluto'\n",
    "\n",
    "{k:v for k, v in sdict.items()}\n",
    "\n",
    "sorted(sdict.items(), key=function)"
   ]
  },
  {
   "cell_type": "code",
   "execution_count": 50,
   "id": "7ccff4b3-426e-40ae-ac12-582f8e28c6ad",
   "metadata": {},
   "outputs": [
    {
     "data": {
      "text/plain": [
       "[('지구', 'earth'),\n",
       " ('목성', 'jupiter'),\n",
       " ('화성', 'mars'),\n",
       " ('수성', 'mercury'),\n",
       " ('해왕성', 'neptune'),\n",
       " ('명왕성', 'pluto'),\n",
       " ('토성', 'saturn'),\n",
       " ('태양', 'sun'),\n",
       " ('천왕성', 'uranus'),\n",
       " ('금성', 'venus')]"
      ]
     },
     "execution_count": 50,
     "metadata": {},
     "output_type": "execute_result"
    }
   ],
   "source": [
    "sorted(sdict.items(), key=lambda x: x[1]) # lambda: 짧은 함수로 사용"
   ]
  },
  {
   "cell_type": "code",
   "execution_count": 51,
   "id": "d45eb8ff-d234-4deb-ac90-3b6db6df8a59",
   "metadata": {},
   "outputs": [
    {
     "name": "stdout",
     "output_type": "stream",
     "text": [
      "room has the contents ballroom\n",
      "weapon has the contents lead pipe\n",
      "person has the contents Col.Mustard\n"
     ]
    }
   ],
   "source": [
    "# 딕셔너리 컴프리헨션\n",
    "accusation = {'room': 'ballroom', 'weapon':'lead pipe', 'person':'Col.Mustard'}\n",
    "\n",
    "for k, v in accusation.items():\n",
    "    print(f'{k} has the contents {v}')"
   ]
  },
  {
   "cell_type": "code",
   "execution_count": 52,
   "id": "e4090ae0-c091-44eb-a221-45a0165504e5",
   "metadata": {},
   "outputs": [
    {
     "data": {
      "text/plain": [
       "{'e': 1, 'p': 2, 'a': 1, 'l': 1}"
      ]
     },
     "execution_count": 52,
     "metadata": {},
     "output_type": "execute_result"
    }
   ],
   "source": [
    "letter = 'apple'\n",
    "#{a:1, p:2, ...}\n",
    "{ch: letter.count(ch) for ch in set(letter)}"
   ]
  },
  {
   "cell_type": "code",
   "execution_count": 53,
   "id": "c1f24559-9808-4887-8c97-24249761c212",
   "metadata": {},
   "outputs": [
    {
     "data": {
      "text/plain": [
       "{'o': 1, 'u': 1, 'e': 1, 'i': 1, 'a': 1}"
      ]
     },
     "execution_count": 53,
     "metadata": {},
     "output_type": "execute_result"
    }
   ],
   "source": [
    "vowels = 'aeiou'\n",
    "word = 'onomatopoeia'\n",
    "\n",
    "# 주어진 단어의 모음 세기\n",
    "# vowels, word 각각 기준잡아서 딕셔너리 컴프리헨션 이용해서 만들기\n",
    "\n",
    "{v: vowels.count(v) for v in set(vowels)}"
   ]
  },
  {
   "cell_type": "code",
   "execution_count": 54,
   "id": "250b14f3-63b4-4062-9572-62bb2ec31b01",
   "metadata": {},
   "outputs": [
    {
     "data": {
      "text/plain": [
       "{'o': 4, 'e': 1, 'i': 1, 'a': 2}"
      ]
     },
     "execution_count": 54,
     "metadata": {},
     "output_type": "execute_result"
    }
   ],
   "source": [
    "# u까지 나오도록 하는 방법 생각해보고 복습파일에 올리기\n",
    "{ch: word.count(ch) for ch in set(word) if ch in vowels}"
   ]
  },
  {
   "cell_type": "code",
   "execution_count": 58,
   "id": "074bc216-1a70-40ab-9b3e-2b0b9ef59394",
   "metadata": {},
   "outputs": [
    {
     "data": {
      "text/plain": [
       "{'o': 4, 'u': 0, 'e': 1, 'i': 1, 'a': 2}"
      ]
     },
     "execution_count": 58,
     "metadata": {},
     "output_type": "execute_result"
    }
   ],
   "source": [
    "# set(word) => set(vowels)로 변경, if는 생략\n",
    "{ch: word.count(ch) for ch in set(vowels)}"
   ]
  },
  {
   "cell_type": "markdown",
   "id": "f2584e2d-74ac-4be5-9163-5ab72dc0e873",
   "metadata": {},
   "source": [
    "## Set\n",
    "- 딕셔너리의 키만 모아놓음 => 중복 없음!\n",
    "- 수학의 집합 개념 => 교집합, 합집합, 차집합, ...\n",
    "- 데이터 자루, 순서 없고, 인덱싱 없고"
   ]
  },
  {
   "cell_type": "code",
   "execution_count": 59,
   "id": "8ef015fa-c4e7-4298-9cbd-8d42e7637f53",
   "metadata": {},
   "outputs": [
    {
     "data": {
      "text/plain": [
       "(set(), {})"
      ]
     },
     "execution_count": 59,
     "metadata": {},
     "output_type": "execute_result"
    }
   ],
   "source": [
    "empty = set()\n",
    "empty1 = {} # dictionary\n",
    "empty, empty1"
   ]
  },
  {
   "cell_type": "code",
   "execution_count": 60,
   "id": "64b5f5b6-8b80-4fc4-81a1-61c14df53a2a",
   "metadata": {},
   "outputs": [
    {
     "data": {
      "text/plain": [
       "set"
      ]
     },
     "execution_count": 60,
     "metadata": {},
     "output_type": "execute_result"
    }
   ],
   "source": [
    "a = {1, 2, 3} # 값이 있을 때는 이렇게 넣어도 됨.\n",
    "type(a)"
   ]
  },
  {
   "cell_type": "code",
   "execution_count": 61,
   "id": "a3934c2b-6b0b-4bf1-b9e6-528c9172a21b",
   "metadata": {},
   "outputs": [
    {
     "ename": "TypeError",
     "evalue": "set expected at most 1 argument, got 3",
     "output_type": "error",
     "traceback": [
      "\u001b[0;31m---------------------------------------------------------------------------\u001b[0m",
      "\u001b[0;31mTypeError\u001b[0m                                 Traceback (most recent call last)",
      "\u001b[0;32m/var/folders/_b/6lz4nnpx49579btkl7_ctft80000gn/T/ipykernel_928/1986430688.py\u001b[0m in \u001b[0;36m<module>\u001b[0;34m\u001b[0m\n\u001b[0;32m----> 1\u001b[0;31m \u001b[0mb\u001b[0m \u001b[0;34m=\u001b[0m \u001b[0mset\u001b[0m\u001b[0;34m(\u001b[0m\u001b[0;36m1\u001b[0m\u001b[0;34m,\u001b[0m \u001b[0;36m2\u001b[0m\u001b[0;34m,\u001b[0m \u001b[0;36m3\u001b[0m\u001b[0;34m)\u001b[0m \u001b[0;31m# 에러 발생\u001b[0m\u001b[0;34m\u001b[0m\u001b[0;34m\u001b[0m\u001b[0m\n\u001b[0m",
      "\u001b[0;31mTypeError\u001b[0m: set expected at most 1 argument, got 3"
     ]
    }
   ],
   "source": [
    "b = set(1, 2, 3) # 에러 발생"
   ]
  },
  {
   "cell_type": "code",
   "execution_count": 62,
   "id": "13bda13f-9db1-4400-b791-304e465a9e01",
   "metadata": {},
   "outputs": [],
   "source": [
    "b = set((1, 2, 3, 3, 3, 3)) # 묶음으로 가져가야 set 나옴"
   ]
  },
  {
   "cell_type": "code",
   "execution_count": 64,
   "id": "946e5a5d-2657-499b-ad21-88e9d57fa1cc",
   "metadata": {},
   "outputs": [
    {
     "data": {
      "text/plain": [
       "{1, 2, 3}"
      ]
     },
     "execution_count": 64,
     "metadata": {},
     "output_type": "execute_result"
    }
   ],
   "source": [
    "b # 중복 없음"
   ]
  },
  {
   "cell_type": "code",
   "execution_count": 65,
   "id": "76977e6e-04fb-4cdd-bd98-9fa40c9d6f86",
   "metadata": {},
   "outputs": [
    {
     "data": {
      "text/plain": [
       "{1, 2, 3, 4}"
      ]
     },
     "execution_count": 65,
     "metadata": {},
     "output_type": "execute_result"
    }
   ],
   "source": [
    "# 추가하기\n",
    "a.add(4)\n",
    "a #마지막에 추가"
   ]
  },
  {
   "cell_type": "code",
   "execution_count": 66,
   "id": "6a42aac2-e6be-4c0f-b517-a47001441d43",
   "metadata": {},
   "outputs": [
    {
     "data": {
      "text/plain": [
       "{1, 2, 3}"
      ]
     },
     "execution_count": 66,
     "metadata": {},
     "output_type": "execute_result"
    }
   ],
   "source": [
    "# 삭제\n",
    "a.remove(4)\n",
    "a"
   ]
  },
  {
   "cell_type": "code",
   "execution_count": 67,
   "id": "f93eec32-c9d3-4006-b666-1f251cded39f",
   "metadata": {},
   "outputs": [
    {
     "data": {
      "text/plain": [
       "{1, 2}"
      ]
     },
     "execution_count": 67,
     "metadata": {},
     "output_type": "execute_result"
    }
   ],
   "source": [
    "a.discard(3)\n",
    "a"
   ]
  },
  {
   "cell_type": "code",
   "execution_count": 69,
   "id": "6fc52516-08f9-4077-90f3-1e75b667f43b",
   "metadata": {},
   "outputs": [
    {
     "name": "stdout",
     "output_type": "stream",
     "text": [
      "martini\n",
      "black russian\n",
      "white russian\n",
      "screwdriver\n",
      "black russian\n",
      "screwdriver\n"
     ]
    }
   ],
   "source": [
    "drinks = {\n",
    "    'martini' : {'vodka', 'vermouth'},\n",
    "    'black russian': {'vodka', 'kahlua'},\n",
    "    'white russian': {'cream', 'kahlua', 'vodka'},\n",
    "    'mahattan': {'rye', 'vermoouth', 'bitters'},\n",
    "    'screwdriver': {'orange juice', 'vodka'}   \n",
    "}\n",
    "\n",
    "# vodka가 있는 키 골라내기\n",
    "for k, v in drinks.items():\n",
    "    if 'vodka' in v:\n",
    "        print(k)\n",
    "\n",
    "#2. vodka는 있는데 크림이나 버무스가 있으면 프린트하지 않기\n",
    "for k, v in drinks.items():\n",
    "    if 'vodka' in v and not ('cream' in v or 'vermouth' in v):\n",
    "        print(k)"
   ]
  },
  {
   "cell_type": "code",
   "execution_count": 70,
   "id": "9c5730b1-e369-4275-86d0-15249c5e9335",
   "metadata": {},
   "outputs": [
    {
     "data": {
      "text/plain": [
       "{4}"
      ]
     },
     "execution_count": 70,
     "metadata": {},
     "output_type": "execute_result"
    }
   ],
   "source": [
    "a = {1, 2, 3}\n",
    "b = {2, 3, 4}\n",
    "\n",
    "# 교집합: intersection\n",
    "a.intersection(b) # a & b\n",
    "\n",
    "# 합집합: union\n",
    "a.union(b) # a | b\n",
    "\n",
    "# 차집합: difference\n",
    "a.difference(b) # a - b\n",
    "b - a"
   ]
  },
  {
   "cell_type": "code",
   "execution_count": 71,
   "id": "8dcc760a-495c-4ccc-be43-08e08832bc81",
   "metadata": {},
   "outputs": [
    {
     "name": "stdout",
     "output_type": "stream",
     "text": [
      "black russian\n",
      "screwdriver\n"
     ]
    }
   ],
   "source": [
    "for k, v in drinks.items():\n",
    "    if 'vodka' in v and not ('cream' in v or 'vermouth' in v):\n",
    "        # 각각의 집합 v & {'cream', 'vermouth'} 없으면\n",
    "    #if 'vodka' in v and not v & {'cream', 'vermouth'}\n",
    "        print(k)"
   ]
  },
  {
   "cell_type": "code",
   "execution_count": 72,
   "id": "d881e3e9-4f88-4590-8ad4-00cdff1cbfff",
   "metadata": {},
   "outputs": [
    {
     "data": {
      "text/plain": [
       "{1, 2, 3}"
      ]
     },
     "execution_count": 72,
     "metadata": {},
     "output_type": "execute_result"
    }
   ],
   "source": [
    "# comprehension\n",
    "{s for s in a}"
   ]
  },
  {
   "cell_type": "code",
   "execution_count": 73,
   "id": "d29176d1-a9dc-4322-be87-e17a5b79adbc",
   "metadata": {},
   "outputs": [],
   "source": [
    "# frozenset : 불변객체로 만듦 - 참고용\n",
    "\n",
    "fs = frozenset([1, 2, 3])"
   ]
  },
  {
   "cell_type": "code",
   "execution_count": null,
   "id": "a21d4695-17ff-409d-a7e0-264aba810f87",
   "metadata": {},
   "outputs": [],
   "source": [
    "# pylint -> 코드 리뷰\n",
    "# pydocstyle -> style 리뷰\n",
    "\n",
    "!pip install pylint\n",
    "!pylint (filename).py # 3 / 10점 만점\n",
    "\n",
    "!pip install pydocstyle\n",
    "!pydocstyle (filename).py"
   ]
  }
 ],
 "metadata": {
  "kernelspec": {
   "display_name": "Python 3 (ipykernel)",
   "language": "python",
   "name": "python3"
  },
  "language_info": {
   "codemirror_mode": {
    "name": "ipython",
    "version": 3
   },
   "file_extension": ".py",
   "mimetype": "text/x-python",
   "name": "python",
   "nbconvert_exporter": "python",
   "pygments_lexer": "ipython3",
   "version": "3.9.7"
  }
 },
 "nbformat": 4,
 "nbformat_minor": 5
}
