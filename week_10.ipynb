{
 "cells": [
  {
   "cell_type": "markdown",
   "id": "053390aa-e746-4872-8bca-8a8c2a633f0b",
   "metadata": {},
   "source": [
    "# Week_10 "
   ]
  },
  {
   "cell_type": "code",
   "execution_count": 1,
   "id": "e2a3c1aa-1da9-4c23-afa6-c0a40cdc629b",
   "metadata": {},
   "outputs": [],
   "source": [
    "from collections import defaultdict"
   ]
  },
  {
   "cell_type": "markdown",
   "id": "7df57495-c97f-4f9f-a6bf-8d65f173f595",
   "metadata": {},
   "source": [
    "### defaultdict\n",
    "- 값이 없으면 0으로 설정될 수 있게 해주는 딕셔너리\n",
    "- defaultdict(list) # []"
   ]
  },
  {
   "cell_type": "code",
   "execution_count": 2,
   "id": "b59a78f9-f8f4-468f-a852-5f3401f1085b",
   "metadata": {},
   "outputs": [],
   "source": [
    "letter = 'defaultdict'\n",
    "empty = {}\n",
    "for ch in letter:\n",
    "    #if empty[ch] = 0\n",
    "    #else 값을 넣어라\n",
    "    empty.setdefault(ch, 0) # a가 없으면 기본값으로 0을 넣어라\n",
    "    empty[ch] += 1"
   ]
  },
  {
   "cell_type": "code",
   "execution_count": 3,
   "id": "c65138b5-5004-4ab6-a4bf-fe084bc6e12e",
   "metadata": {},
   "outputs": [
    {
     "data": {
      "text/plain": [
       "{'d': 2, 'e': 1, 'f': 1, 'a': 1, 'u': 1, 'l': 1, 't': 2, 'i': 1, 'c': 1}"
      ]
     },
     "execution_count": 3,
     "metadata": {},
     "output_type": "execute_result"
    }
   ],
   "source": [
    "empty"
   ]
  },
  {
   "cell_type": "code",
   "execution_count": 4,
   "id": "46aa2594-c659-4c19-8c05-47f8bfe91d8b",
   "metadata": {},
   "outputs": [
    {
     "data": {
      "text/plain": [
       "defaultdict(int,\n",
       "            {'d': 2,\n",
       "             'e': 1,\n",
       "             'f': 1,\n",
       "             'a': 1,\n",
       "             'u': 1,\n",
       "             'l': 1,\n",
       "             't': 2,\n",
       "             'i': 1,\n",
       "             'c': 1})"
      ]
     },
     "execution_count": 4,
     "metadata": {},
     "output_type": "execute_result"
    }
   ],
   "source": [
    "empty2 = defaultdict(int)\n",
    "for ch in letter:\n",
    "    empty2[ch] += 1\n",
    "    \n",
    "empty2"
   ]
  },
  {
   "cell_type": "markdown",
   "id": "63f7c151-8f3c-4adc-8b40-8c8803a7e599",
   "metadata": {},
   "source": [
    "## Object & Class\n",
    "- 객체? 실체적인 물건, 개념\n",
    "- 속성, 행동을 가지는 개념\n",
    "- 자동차\n",
    "    - 속성 : 엔진, 브랜드, 가격, 색상, 이름, .. => 변수\n",
    "    - 행동 : 나가다, 정지하다, 좌회전, 우회전    => 메서드(함수)\n",
    "- 고양이\n",
    "    - 속성 : 종, 이름, 컬러, 몸무게, 성별, ..\n",
    "    - 행동 : 짖다, 뛰다, 걷다, 때려보다, ...\n",
    "- 사전\n",
    "    - 속성 : 글자 수, 시작 글자, 출현 빈도수, ..\n",
    "    - 행동 : 추가하다, 제외하다, ..\n",
    "    \n",
    "- 사용 이유? 서로 관련을 시키기 위해서\n",
    "    - 객체 사용하는 이유 : 코드 재사용 수월\n",
    "\n",
    "- 관련 짓는 방법\n",
    "    - 사람                 상점                     물건\n",
    "    - 이름, 돈,            재고, 이익, 고객명단,       브랜드, 이름, 가격\n",
    "    - 사다, 등록하다         회원등록, 팔다, 수익계산"
   ]
  },
  {
   "cell_type": "markdown",
   "id": "4ff49c81-f724-424f-90e6-30048443b2a3",
   "metadata": {},
   "source": [
    "### 클래스\n",
    "- 객체가 가져야 할 기본 정보를 담은 코드\n",
    "- 설계도, 툴, 프레임워크\n",
    "- 붕어빵의 툴\n",
    "- 붕어빵 == 인스턴스\n",
    "- `class Car:`\n",
    "    - 클래스명은 언더바를 쓰지 않고 카멜표기법을 주로 사용 (ex : nice_car (x) NiceCar(o))"
   ]
  },
  {
   "cell_type": "code",
   "execution_count": 6,
   "id": "85b22adc-bea1-4d59-8d47-a676c82381c8",
   "metadata": {},
   "outputs": [
    {
     "data": {
      "text/plain": [
       "<__main__.Car at 0x7f9a185a75b0>"
      ]
     },
     "execution_count": 6,
     "metadata": {},
     "output_type": "execute_result"
    }
   ],
   "source": [
    "# 정의\n",
    "class Car:\n",
    "    pass\n",
    "\n",
    "car1 = Car()\n",
    "car1 # <__main__.Car at 0x7ffcd0810eb0> : main에 있는 Car라는 객체, 주소값"
   ]
  },
  {
   "cell_type": "code",
   "execution_count": 7,
   "id": "1d5a5115-9343-4461-b09f-e57b4f5b0618",
   "metadata": {},
   "outputs": [],
   "source": [
    "car2 = Car()"
   ]
  },
  {
   "cell_type": "code",
   "execution_count": 8,
   "id": "8a16e6f6-400c-4c17-918b-1dd368566e2e",
   "metadata": {},
   "outputs": [
    {
     "data": {
      "text/plain": [
       "<__main__.Car at 0x7f9a2956d580>"
      ]
     },
     "execution_count": 8,
     "metadata": {},
     "output_type": "execute_result"
    }
   ],
   "source": [
    "car2 # 타입은 같지만 주소값은 다름"
   ]
  },
  {
   "cell_type": "code",
   "execution_count": 9,
   "id": "9a86d8a1-4c59-47f5-809f-252fba12f809",
   "metadata": {},
   "outputs": [
    {
     "data": {
      "text/plain": [
       "__main__.Car"
      ]
     },
     "execution_count": 9,
     "metadata": {},
     "output_type": "execute_result"
    }
   ],
   "source": [
    "type(car2)"
   ]
  },
  {
   "cell_type": "code",
   "execution_count": 10,
   "id": "14c3e03d-c22c-4d6b-b504-5d097ce42396",
   "metadata": {},
   "outputs": [],
   "source": [
    "car1.brand = 'mercedes'\n",
    "car2.brand = 'kia'"
   ]
  },
  {
   "cell_type": "code",
   "execution_count": 11,
   "id": "bbc7e97c-05d2-48b5-a46d-b2b07d40f47a",
   "metadata": {},
   "outputs": [
    {
     "name": "stdout",
     "output_type": "stream",
     "text": [
      "mercedes\n",
      "kia\n"
     ]
    }
   ],
   "source": [
    "for car in [car1, car2]:\n",
    "    print(car.brand) # 마치 딕셔너리 같은 역할"
   ]
  },
  {
   "cell_type": "code",
   "execution_count": 12,
   "id": "070bab7d-8eec-4f9f-97c8-ee020e89f8a8",
   "metadata": {},
   "outputs": [],
   "source": [
    "class Car:\n",
    "    # 속성 정해짐\n",
    "    brand = 'mercedes'\n",
    "    \n",
    "car3 = Car()"
   ]
  },
  {
   "cell_type": "code",
   "execution_count": 13,
   "id": "dc9c8689-d90a-4514-ad1d-0803b8ffc7a3",
   "metadata": {},
   "outputs": [
    {
     "data": {
      "text/plain": [
       "'mercedes'"
      ]
     },
     "execution_count": 13,
     "metadata": {},
     "output_type": "execute_result"
    }
   ],
   "source": [
    "car3.brand"
   ]
  },
  {
   "cell_type": "code",
   "execution_count": 1,
   "id": "59fa04c9-794d-477f-be8d-d85045414a62",
   "metadata": {},
   "outputs": [],
   "source": [
    "# 다양한 속성을 원한다.\n",
    "class Car:\n",
    "    def __init__(self, brand, model=None, color='orange'): # 생성자 : 속성을 초기화하는 함수 (self == my_car)\n",
    "        self.brand = brand # self == instance\n",
    "        # self.brand = 어떤 객체가 만들어지더라도 가져갈 브랜드\n",
    "        # brand = 객체 생성 시 설정되는 브랜드명 (처음에 들어오는 값)\n",
    "        self.color = color # color가 들어오면 들어온 값으로, 아니면 'orange'로\n",
    "        self.model = model\n",
    "        \n",
    "        # model 입력받지 않게 만들기 mode = None\n",
    "        \n",
    "        \n",
    "    # action 정의하기\n",
    "    def drive(self):\n",
    "        # 출력 : 내차 (브랜드={})이 움직인다.\n",
    "        print(f'내 차 (브랜드={self.brand})가 움직인다.')\n",
    "    \n",
    "    def stop(self):\n",
    "        print('차가 멈춘다.')\n",
    "        \n",
    "    def change_color(self, color):\n",
    "        # 원하는 컬러로 컬러 바꾸기\n",
    "        self.color = color\n",
    "        "
   ]
  },
  {
   "cell_type": "code",
   "execution_count": 2,
   "id": "b211ddf7-01aa-4f36-905b-1ae13862ae96",
   "metadata": {},
   "outputs": [
    {
     "data": {
      "text/plain": [
       "'toyota'"
      ]
     },
     "execution_count": 2,
     "metadata": {},
     "output_type": "execute_result"
    }
   ],
   "source": [
    "my_car = Car(brand='toyota')\n",
    "my_car.brand"
   ]
  },
  {
   "cell_type": "code",
   "execution_count": 16,
   "id": "c40b93ef-1fe5-48ec-8a25-3d34ac18ef8c",
   "metadata": {},
   "outputs": [],
   "source": [
    "# color, model 속성 초기화하기\n",
    "# 인스턴스 만들기"
   ]
  },
  {
   "cell_type": "code",
   "execution_count": 3,
   "id": "47c5cca0-0869-48f8-b988-3f568d532730",
   "metadata": {},
   "outputs": [],
   "source": [
    "my_morning = Car('kia', 'morning', 'black')"
   ]
  },
  {
   "cell_type": "code",
   "execution_count": 4,
   "id": "2c5f123c-5d63-44f8-beca-adb9574949b5",
   "metadata": {},
   "outputs": [
    {
     "name": "stdout",
     "output_type": "stream",
     "text": [
      "black\n"
     ]
    },
    {
     "data": {
      "text/plain": [
       "'green'"
      ]
     },
     "execution_count": 4,
     "metadata": {},
     "output_type": "execute_result"
    }
   ],
   "source": [
    "print(my_morning.color)\n",
    "my_morning.change_color('green') # 차 컬러 바뀜\n",
    "my_morning.color"
   ]
  },
  {
   "cell_type": "code",
   "execution_count": 5,
   "id": "ba4a12f4-66f2-46bc-92e3-f116a6849572",
   "metadata": {},
   "outputs": [
    {
     "name": "stdout",
     "output_type": "stream",
     "text": [
      "내 차 (브랜드=kia)가 움직인다.\n"
     ]
    }
   ],
   "source": [
    "my_morning.drive()"
   ]
  },
  {
   "cell_type": "code",
   "execution_count": 6,
   "id": "9e4da93a-0819-4bfb-97ff-aea113af3d46",
   "metadata": {},
   "outputs": [
    {
     "data": {
      "text/plain": [
       "'kia'"
      ]
     },
     "execution_count": 6,
     "metadata": {},
     "output_type": "execute_result"
    }
   ],
   "source": [
    "my_morning.brand"
   ]
  },
  {
   "cell_type": "code",
   "execution_count": 8,
   "id": "c4919b89-b346-4ac9-a357-47fe6b533a3f",
   "metadata": {},
   "outputs": [
    {
     "data": {
      "text/plain": [
       "'green'"
      ]
     },
     "execution_count": 8,
     "metadata": {},
     "output_type": "execute_result"
    }
   ],
   "source": [
    "my_morning.color"
   ]
  },
  {
   "cell_type": "code",
   "execution_count": 7,
   "id": "f1d90758-4bee-454b-91da-411222060db7",
   "metadata": {},
   "outputs": [
    {
     "data": {
      "text/plain": [
       "'morning'"
      ]
     },
     "execution_count": 7,
     "metadata": {},
     "output_type": "execute_result"
    }
   ],
   "source": [
    "my_morning.model"
   ]
  },
  {
   "cell_type": "code",
   "execution_count": 23,
   "id": "2280429d-3ef2-4c4d-804b-6bfc8f13f145",
   "metadata": {},
   "outputs": [],
   "source": [
    "my_morning.color = 'white' # 이 객체에 대해서만 속성 바꾸기"
   ]
  },
  {
   "cell_type": "code",
   "execution_count": 24,
   "id": "ceef1a1b-50bf-4201-acc1-f44618724aab",
   "metadata": {},
   "outputs": [
    {
     "data": {
      "text/plain": [
       "'white'"
      ]
     },
     "execution_count": 24,
     "metadata": {},
     "output_type": "execute_result"
    }
   ],
   "source": [
    "my_morning.color"
   ]
  },
  {
   "cell_type": "code",
   "execution_count": 25,
   "id": "e15467f6-9fd4-423b-b2a6-8376d2e816cb",
   "metadata": {},
   "outputs": [
    {
     "data": {
      "text/plain": [
       "'yellow'"
      ]
     },
     "execution_count": 25,
     "metadata": {},
     "output_type": "execute_result"
    }
   ],
   "source": [
    "my_sorento = Car('kia', 'sorento', 'yellow')\n",
    "my_sorento.color"
   ]
  },
  {
   "cell_type": "code",
   "execution_count": 26,
   "id": "5dc8013f-86f6-46b0-a914-81376833ad43",
   "metadata": {},
   "outputs": [
    {
     "name": "stdout",
     "output_type": "stream",
     "text": [
      "내 차 (브랜드=kia)가 움직인다.\n"
     ]
    }
   ],
   "source": [
    "my_sorento.drive()"
   ]
  },
  {
   "cell_type": "code",
   "execution_count": 27,
   "id": "14c86597-1a53-4c05-9050-c931bcd606d1",
   "metadata": {},
   "outputs": [
    {
     "name": "stdout",
     "output_type": "stream",
     "text": [
      "차가 멈춘다.\n"
     ]
    }
   ],
   "source": [
    "my_sorento.stop()"
   ]
  },
  {
   "cell_type": "markdown",
   "id": "867cfb6d-fa96-4125-a4b0-5e827b1f12b7",
   "metadata": {},
   "source": [
    "### getter, setter\n",
    "- 캡슐화, 정보 온닉\n",
    "- 클래스 외부에서 변수 접근을 용이하지 못하게 하는 것\n",
    "- public -> private (JAVA 개념)"
   ]
  },
  {
   "cell_type": "code",
   "execution_count": 28,
   "id": "09a2febe-ba24-4f17-9b66-9c359510906a",
   "metadata": {},
   "outputs": [],
   "source": [
    "#1. 틀에서 변수를 바꾸는 것\n",
    "\n",
    "#2. 인스턴스에서 변수를 바꾸는 것"
   ]
  },
  {
   "cell_type": "code",
   "execution_count": 29,
   "id": "975ef1b3-24de-43d4-b222-f48500f23c46",
   "metadata": {},
   "outputs": [],
   "source": [
    "class Fruit:\n",
    "    color = 'red'"
   ]
  },
  {
   "cell_type": "code",
   "execution_count": 31,
   "id": "d69d7671-f689-4393-9775-56e3f71fc635",
   "metadata": {},
   "outputs": [
    {
     "data": {
      "text/plain": [
       "'red'"
      ]
     },
     "execution_count": 31,
     "metadata": {},
     "output_type": "execute_result"
    }
   ],
   "source": [
    "apple = Fruit()\n",
    "apple.color"
   ]
  },
  {
   "cell_type": "code",
   "execution_count": 32,
   "id": "cfadab79-fdfa-4359-83b8-c0ad7b83d038",
   "metadata": {},
   "outputs": [],
   "source": [
    "Fruit.color = 'purple' # 클래스의 color를 바꿔버림."
   ]
  },
  {
   "cell_type": "code",
   "execution_count": 33,
   "id": "3bec2152-505f-4d5c-8471-e481b8a9a3fe",
   "metadata": {},
   "outputs": [
    {
     "data": {
      "text/plain": [
       "'purple'"
      ]
     },
     "execution_count": 33,
     "metadata": {},
     "output_type": "execute_result"
    }
   ],
   "source": [
    "orange = Fruit()\n",
    "orange.color"
   ]
  },
  {
   "cell_type": "code",
   "execution_count": 34,
   "id": "36968ebf-5051-47ea-b03e-82e846ebcf4f",
   "metadata": {},
   "outputs": [],
   "source": [
    "class Car:\n",
    "    def __init__(self, input_brand):\n",
    "        self.brand = input_brand\n",
    "        \n",
    "    def get_brand(self):\n",
    "        # 원래 변수명에 접근하도록\n",
    "        print('from the getter')\n",
    "        return self.brand\n",
    "    \n",
    "    def set_brand(self, input_brand):\n",
    "        # 변수명을 바꾸는 작업\n",
    "        print('from the setter')\n",
    "        self.brand = input_brand"
   ]
  },
  {
   "cell_type": "code",
   "execution_count": 35,
   "id": "4db5777e-d81d-4fc4-84bb-3f75d17f296b",
   "metadata": {},
   "outputs": [
    {
     "data": {
      "text/plain": [
       "'toyota'"
      ]
     },
     "execution_count": 35,
     "metadata": {},
     "output_type": "execute_result"
    }
   ],
   "source": [
    "ex = Car('toyota')\n",
    "ex.brand"
   ]
  },
  {
   "cell_type": "code",
   "execution_count": 36,
   "id": "65cb625f-b23b-4970-9942-d17aecfd81f6",
   "metadata": {},
   "outputs": [
    {
     "name": "stdout",
     "output_type": "stream",
     "text": [
      "from the getter\n"
     ]
    },
    {
     "data": {
      "text/plain": [
       "'toyota'"
      ]
     },
     "execution_count": 36,
     "metadata": {},
     "output_type": "execute_result"
    }
   ],
   "source": [
    "ex.get_brand()"
   ]
  },
  {
   "cell_type": "code",
   "execution_count": 37,
   "id": "93b0baeb-9074-4bc2-9ad8-ef95013c8f33",
   "metadata": {},
   "outputs": [
    {
     "name": "stdout",
     "output_type": "stream",
     "text": [
      "from the setter\n"
     ]
    }
   ],
   "source": [
    "ex.set_brand('mazuda')"
   ]
  },
  {
   "cell_type": "code",
   "execution_count": 38,
   "id": "664a260c-4404-4944-b307-76171f9ad7e6",
   "metadata": {},
   "outputs": [
    {
     "data": {
      "text/plain": [
       "'mazuda'"
      ]
     },
     "execution_count": 38,
     "metadata": {},
     "output_type": "execute_result"
    }
   ],
   "source": [
    "ex.brand"
   ]
  },
  {
   "cell_type": "code",
   "execution_count": 39,
   "id": "f252dce4-b9a9-4e19-88b9-426608fa2deb",
   "metadata": {},
   "outputs": [
    {
     "name": "stdout",
     "output_type": "stream",
     "text": [
      "from the getter\n"
     ]
    },
    {
     "data": {
      "text/plain": [
       "'mazuda'"
      ]
     },
     "execution_count": 39,
     "metadata": {},
     "output_type": "execute_result"
    }
   ],
   "source": [
    "ex.get_brand()"
   ]
  },
  {
   "cell_type": "code",
   "execution_count": 40,
   "id": "c96396cb-628b-4775-bbe7-2e0a7791dc79",
   "metadata": {},
   "outputs": [],
   "source": [
    "Car.brand = 'bmw'"
   ]
  },
  {
   "cell_type": "code",
   "execution_count": 41,
   "id": "001b8746-df7a-4854-a4dd-217b78c2e164",
   "metadata": {},
   "outputs": [
    {
     "data": {
      "text/plain": [
       "'toyota'"
      ]
     },
     "execution_count": 41,
     "metadata": {},
     "output_type": "execute_result"
    }
   ],
   "source": [
    "a = Car('toyota')\n",
    "a.brand"
   ]
  },
  {
   "cell_type": "markdown",
   "id": "6bbc2fe3-7666-42a0-9384-4d05f628821e",
   "metadata": {},
   "source": [
    "### 2."
   ]
  },
  {
   "cell_type": "code",
   "execution_count": 53,
   "id": "074fa045-5437-4fd2-84db-6bc4e594b803",
   "metadata": {},
   "outputs": [
    {
     "data": {
      "text/plain": [
       "'kia'"
      ]
     },
     "execution_count": 53,
     "metadata": {},
     "output_type": "execute_result"
    }
   ],
   "source": [
    "class Car:\n",
    "    def __init__(self, input_brand):\n",
    "        self.hidden_brand = input_brand\n",
    "        \n",
    "    def get_brand(self):\n",
    "        return self.hidden_brand\n",
    "    \n",
    "    def set_brand(self, input_brand):\n",
    "        self.hidden_brand = input_brand\n",
    "        \n",
    "    # 내가 사용할 변수명\n",
    "    brand= property(get_brand, set_brand)\n",
    "    \n",
    "c = Car('kia')\n",
    "c.brand"
   ]
  },
  {
   "cell_type": "code",
   "execution_count": 54,
   "id": "23599d3f-cd36-403d-bb10-20b722516c29",
   "metadata": {},
   "outputs": [],
   "source": [
    "c.brand = 'hyundai'"
   ]
  },
  {
   "cell_type": "code",
   "execution_count": 55,
   "id": "7abcb67e-890a-44ee-98e4-15ddc65ebda5",
   "metadata": {},
   "outputs": [
    {
     "data": {
      "text/plain": [
       "('hyundai', 'hyundai')"
      ]
     },
     "execution_count": 55,
     "metadata": {},
     "output_type": "execute_result"
    }
   ],
   "source": [
    "c.brand, c.hidden_brand"
   ]
  },
  {
   "cell_type": "code",
   "execution_count": 56,
   "id": "177d0869-8006-4297-883a-55585a42b11b",
   "metadata": {},
   "outputs": [],
   "source": [
    "Car.hidden_brand = 'toyota'"
   ]
  },
  {
   "cell_type": "code",
   "execution_count": 57,
   "id": "2f22857d-9e4d-4830-ac31-2731ed7eb123",
   "metadata": {},
   "outputs": [
    {
     "data": {
      "text/plain": [
       "('hyundai', 'hyundai')"
      ]
     },
     "execution_count": 57,
     "metadata": {},
     "output_type": "execute_result"
    }
   ],
   "source": [
    "c.brand, c.hidden_brand"
   ]
  },
  {
   "cell_type": "code",
   "execution_count": 58,
   "id": "3a64355e-c0a4-4905-a3d0-49bdf3015128",
   "metadata": {},
   "outputs": [],
   "source": [
    "Car.brand = 'aa'"
   ]
  },
  {
   "cell_type": "code",
   "execution_count": 60,
   "id": "a18b98f2-2ea4-4273-b500-7b1cec9dc618",
   "metadata": {},
   "outputs": [
    {
     "data": {
      "text/plain": [
       "('aa', 'hyundai')"
      ]
     },
     "execution_count": 60,
     "metadata": {},
     "output_type": "execute_result"
    }
   ],
   "source": [
    "c.brand, c.hidden_brand"
   ]
  },
  {
   "cell_type": "markdown",
   "id": "6c706695-92b3-45b2-8ba1-cd8424d0250a",
   "metadata": {},
   "source": [
    "### 3."
   ]
  },
  {
   "cell_type": "code",
   "execution_count": 61,
   "id": "1cbaf55f-7c23-4a2a-b55f-b57a7d8b4aa1",
   "metadata": {},
   "outputs": [
    {
     "data": {
      "text/plain": [
       "'aa'"
      ]
     },
     "execution_count": 61,
     "metadata": {},
     "output_type": "execute_result"
    }
   ],
   "source": [
    "# decorator : @...\n",
    "class Car:\n",
    "    def __init__(self, input_brand):\n",
    "        self.hidden_brand = input_brand\n",
    "    \n",
    "    @property\n",
    "    def brand(self):\n",
    "        return self.hidden_brand\n",
    "    \n",
    "    @brand.setter\n",
    "    def brand(self, input_brand):\n",
    "        self.hidden_brand = input_brand\n",
    "        \n",
    "c = Car('aa')\n",
    "c.brand"
   ]
  },
  {
   "cell_type": "markdown",
   "id": "5f63e0fe-af09-45ad-b024-f84673a02f25",
   "metadata": {},
   "source": [
    "### 4."
   ]
  },
  {
   "cell_type": "code",
   "execution_count": 77,
   "id": "0389ef01-6c32-4a97-9a97-8295d47432a0",
   "metadata": {},
   "outputs": [
    {
     "ename": "AttributeError",
     "evalue": "'Car' object has no attribute '__brand'",
     "output_type": "error",
     "traceback": [
      "\u001b[0;31m---------------------------------------------------------------------------\u001b[0m",
      "\u001b[0;31mAttributeError\u001b[0m                            Traceback (most recent call last)",
      "\u001b[0;32m/var/folders/_b/6lz4nnpx49579btkl7_ctft80000gn/T/ipykernel_2433/808193787.py\u001b[0m in \u001b[0;36m<module>\u001b[0;34m\u001b[0m\n\u001b[1;32m     12\u001b[0m \u001b[0;34m\u001b[0m\u001b[0m\n\u001b[1;32m     13\u001b[0m \u001b[0mc\u001b[0m \u001b[0;34m=\u001b[0m \u001b[0mCar\u001b[0m\u001b[0;34m(\u001b[0m\u001b[0;34m'bb'\u001b[0m\u001b[0;34m)\u001b[0m\u001b[0;34m\u001b[0m\u001b[0;34m\u001b[0m\u001b[0m\n\u001b[0;32m---> 14\u001b[0;31m \u001b[0mc\u001b[0m\u001b[0;34m.\u001b[0m\u001b[0m__brand\u001b[0m \u001b[0;31m# 안 뜸. 아예 접근 안 됨. 쉽게 바꿀 수 없도록\u001b[0m\u001b[0;34m\u001b[0m\u001b[0;34m\u001b[0m\u001b[0m\n\u001b[0m",
      "\u001b[0;31mAttributeError\u001b[0m: 'Car' object has no attribute '__brand'"
     ]
    }
   ],
   "source": [
    "class Car:\n",
    "    def __init__(self, input_brand):\n",
    "        self.__brand = input_brand\n",
    "    \n",
    "    @property\n",
    "    def brand(self):\n",
    "        return self.__brand\n",
    "    \n",
    "    @brand.setter\n",
    "    def brand(self, input_brand):\n",
    "        self.__brand = input_brand\n",
    "        \n",
    "c = Car('bb')\n",
    "c.__brand # 안 뜸. 아예 접근 안 됨. 쉽게 바꿀 수 없도록"
   ]
  },
  {
   "cell_type": "code",
   "execution_count": 78,
   "id": "8c381e26-9f72-41a6-a89b-39d579b59b7c",
   "metadata": {},
   "outputs": [
    {
     "data": {
      "text/plain": [
       "'bb'"
      ]
     },
     "execution_count": 78,
     "metadata": {},
     "output_type": "execute_result"
    }
   ],
   "source": [
    "c.brand"
   ]
  },
  {
   "cell_type": "code",
   "execution_count": 65,
   "id": "ed94f73d-654c-459f-a40b-38f5e86290ab",
   "metadata": {},
   "outputs": [
    {
     "data": {
      "text/plain": [
       "10"
      ]
     },
     "execution_count": 65,
     "metadata": {},
     "output_type": "execute_result"
    }
   ],
   "source": [
    "class Circle:\n",
    "    def __init__(self, radius):\n",
    "        self.radius = radius\n",
    "    \n",
    "    @property\n",
    "    def diameter(self):\n",
    "        return self.radius * 2\n",
    "    \n",
    "c = Circle(5)\n",
    "c.diameter"
   ]
  },
  {
   "cell_type": "markdown",
   "id": "7890a7a6-9655-4720-a5db-8707882b6280",
   "metadata": {},
   "source": [
    "### 실습\n",
    "- 객체 : 메모장 (노트), 메모              메모\n",
    "- 변수 : 제목, 페이지 번호, 메모           글귀 \n",
    "- 메서드 : 추가, 삭제, 페이지 번호         쓰기, 지우기\n",
    "\n",
    "- getter, setter 메모장 제목에 설정하기\n",
    "- '메모' 객체에 글귀를 추가한다\n",
    "- '메모장' 객체에 메모 추가\n",
    "- 페이지 번호가 늘어난다.\n",
    "- 메모를 삭제하면 페이지 번호가 줄어들고\n",
    "- 페이지가 300을 넘으면 메모 추가 못하게 막기\n",
    "- 페이지 번호로 메모 찾기"
   ]
  },
  {
   "cell_type": "code",
   "execution_count": 10,
   "id": "381f9fbe-024e-4bc9-85bf-a19f6c8c410a",
   "metadata": {},
   "outputs": [],
   "source": [
    "class Notebook:\n",
    "    def __init__(self):\n",
    "        self.title = 'title'\n",
    "        self.page_num = 0\n",
    "        self.memolist = []\n",
    "        # 제목, 페이지번호, 메모*** == Note (예)\n",
    "        \n",
    "    @property\n",
    "    def title(self):\n",
    "        return self.__title\n",
    "    \n",
    "    @title.setter\n",
    "    def title(self, new_title):\n",
    "        self.__title = new_title\n",
    "\n",
    "    def add_note(self, note):\n",
    "        if self.page_num < 300:\n",
    "            self.memolist.append(note)\n",
    "            self.page_num += 1\n",
    "        else:\n",
    "            print(\"메모장이 다 차 더 이상 메모를 추가할 수 없습니다.\")\n",
    "    \n",
    "    def remove_note(self, note):\n",
    "        self.memolist.remove(note)\n",
    "        self.page_num -= 1\n",
    "    \n",
    "    def get_page_num(self, note):\n",
    "        return self.memolist.index(note)+1\n",
    "    \n",
    "    def get_memo(self, page_num):\n",
    "        return self.memolist[page_num-1]\n",
    "\n",
    "class Note:\n",
    "    def __init__(self):\n",
    "        self.memo = '' # 글귀\n",
    "        \n",
    "    def write(self, memo):\n",
    "        self.memo += (' '+ memo)\n",
    "        self.memo = self.memo.strip()\n",
    "    \n",
    "    def erase(self):\n",
    "        self.memo = ''\n",
    "              "
   ]
  },
  {
   "cell_type": "code",
   "execution_count": 11,
   "id": "cb794937-bb0b-47a6-a9fa-69e4f7c26dac",
   "metadata": {},
   "outputs": [],
   "source": [
    "# 메모 추가하기\n",
    "memo1 = '꿈을 이루고자 하는 용기만 있다면 모든 꿈을 이룰 수 있다.'\n",
    "memo2 = '웃음이 없는 하루는 버린 하루다.'\n",
    "memo3 = '승리는 가장 끈기 있는 사람에게 돌아간다.'\n",
    "\n",
    "note1 = Note()\n",
    "note2 = Note()\n",
    "note3 = Note()\n",
    "note4 = Note()"
   ]
  },
  {
   "cell_type": "code",
   "execution_count": 12,
   "id": "a68afe96-e35f-46ba-bf27-de50589e05fe",
   "metadata": {},
   "outputs": [],
   "source": [
    "# 메모 쓰기\n",
    "note1.write(memo1)\n",
    "\n",
    "note2.write(memo2)\n",
    "\n",
    "note3.write(memo3)\n",
    "\n",
    "note4.write(memo1)\n",
    "note4.write(memo2)"
   ]
  },
  {
   "cell_type": "code",
   "execution_count": 13,
   "id": "e5da88ac-c51a-4713-a016-6c387a7bdd81",
   "metadata": {},
   "outputs": [],
   "source": [
    "# 메모장 만들기\n",
    "my_book = Notebook()\n",
    "\n",
    "# 메모장에 메모 추가하기\n",
    "my_book.add_note(note1.memo)\n",
    "my_book.add_note(note2.memo)\n",
    "my_book.add_note(note3.memo)\n",
    "my_book.add_note(note4.memo)"
   ]
  },
  {
   "cell_type": "code",
   "execution_count": 14,
   "id": "be0e511a-9c3b-42f7-a51c-726fb10ec9ac",
   "metadata": {},
   "outputs": [
    {
     "name": "stdout",
     "output_type": "stream",
     "text": [
      "3\n"
     ]
    }
   ],
   "source": [
    "# 페이지 번호 확인하기\n",
    "print(my_book.get_page_num(note3.memo))"
   ]
  },
  {
   "cell_type": "code",
   "execution_count": 15,
   "id": "f868ee46-7b85-43d2-a4d3-7b895b041eaf",
   "metadata": {},
   "outputs": [
    {
     "name": "stdout",
     "output_type": "stream",
     "text": [
      "2\n"
     ]
    }
   ],
   "source": [
    "# 메모 삭제하기\n",
    "my_book.remove_note(note2.memo)\n",
    "print(my_book.get_page_num(note3.memo)) # note2가 삭제됨에 따라 note3의 페이지 번호 바뀜"
   ]
  },
  {
   "cell_type": "code",
   "execution_count": 16,
   "id": "722cf2db-b5aa-40b4-9115-3eb9d6910597",
   "metadata": {},
   "outputs": [
    {
     "name": "stdout",
     "output_type": "stream",
     "text": [
      "new title\n"
     ]
    }
   ],
   "source": [
    "# 메모장 제목 getter, setter로 설정\n",
    "my_book.title = 'new title'\n",
    "print(my_book.title)"
   ]
  },
  {
   "cell_type": "code",
   "execution_count": 17,
   "id": "a762e7ca-ceb0-4aac-b2e7-41618e2746e3",
   "metadata": {},
   "outputs": [
    {
     "data": {
      "text/plain": [
       "'꿈을 이루고자 하는 용기만 있다면 모든 꿈을 이룰 수 있다.'"
      ]
     },
     "execution_count": 17,
     "metadata": {},
     "output_type": "execute_result"
    }
   ],
   "source": [
    "# 페이지 번호로 메모 찾기\n",
    "my_book.get_memo(1)"
   ]
  }
 ],
 "metadata": {
  "kernelspec": {
   "display_name": "Python 3 (ipykernel)",
   "language": "python",
   "name": "python3"
  },
  "language_info": {
   "codemirror_mode": {
    "name": "ipython",
    "version": 3
   },
   "file_extension": ".py",
   "mimetype": "text/x-python",
   "name": "python",
   "nbconvert_exporter": "python",
   "pygments_lexer": "ipython3",
   "version": "3.9.7"
  }
 },
 "nbformat": 4,
 "nbformat_minor": 5
}
