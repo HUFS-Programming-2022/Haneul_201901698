{
 "cells": [
  {
   "cell_type": "markdown",
   "id": "c214ecf3-a9e2-44e3-8e37-cc62d38cb49e",
   "metadata": {},
   "source": [
    "# Week_11"
   ]
  },
  {
   "cell_type": "markdown",
   "id": "2a9f8de0-7acc-4eaa-9138-84683bffb442",
   "metadata": {
    "tags": []
   },
   "source": [
    "### 상속 | inheritance\n",
    "- 이전 클래스의 내용을 추가, 변경해야 할 경우\n",
    "- 코드 재사용에 유용함!\n",
    "- 기준 : vehicle. parent, super, base * 가장 많이 사용 되는 것 : 부모클래스\n",
    "- 상속 받는 클래스 : child, sub, derived(유래된) * 자식 클래스\n",
    "- Vehicle <- Car\n",
    "    - 부모클래스를 자식클래스가 구체화시킨다.\n",
    "    - Car is-a-Vehicle\n",
    "    - has-a: Notebook has-a-Note\n"
   ]
  },
  {
   "cell_type": "code",
   "execution_count": 1,
   "id": "1b4e6e99-04c2-48cb-ba4a-721bcf333659",
   "metadata": {},
   "outputs": [],
   "source": [
    "class Vehicle:\n",
    "    def __init__(self, speed):\n",
    "        self.speed = speed\n",
    "        \n",
    "    def go(self):\n",
    "        print(f'{self.speed}의 속력으로 달린다.')\n",
    "        \n",
    "# 자식 클래스\n",
    "class Car(Vehicle):\n",
    "    pass"
   ]
  },
  {
   "cell_type": "code",
   "execution_count": 2,
   "id": "4f40a763-3159-4ae2-9a3a-089a5b068535",
   "metadata": {},
   "outputs": [],
   "source": [
    "car = Car('15km/h')"
   ]
  },
  {
   "cell_type": "code",
   "execution_count": 3,
   "id": "7189b292-aee7-4a23-8182-f428e3d084e9",
   "metadata": {},
   "outputs": [
    {
     "name": "stdout",
     "output_type": "stream",
     "text": [
      "15km/h의 속력으로 달린다.\n"
     ]
    }
   ],
   "source": [
    "car.go()"
   ]
  },
  {
   "cell_type": "markdown",
   "id": "d48da48a-c64f-4539-864a-9383acd2ed44",
   "metadata": {},
   "source": [
    "### 추가, 변경\n",
    "- 속성 (변수)"
   ]
  },
  {
   "cell_type": "code",
   "execution_count": 4,
   "id": "820b5cda-478b-496e-89ba-6fbb4825bf8b",
   "metadata": {},
   "outputs": [],
   "source": [
    "class Car(Vehicle):\n",
    "    def __init__(self, speed, brand):\n",
    "        #self.speed = speed\n",
    "        super().__init__(speed) # 선택적 인수 설정하기\n",
    "        self.brand = brand # 추가한 변수\n",
    "        # self == 나 자신, super() == 부모\n",
    "        "
   ]
  },
  {
   "cell_type": "code",
   "execution_count": 5,
   "id": "71d06d17-cf1f-4f9c-9aa0-3f45e94acc6a",
   "metadata": {},
   "outputs": [],
   "source": [
    "car2 = Car('14km/h', 'kia')"
   ]
  },
  {
   "cell_type": "code",
   "execution_count": 6,
   "id": "ec375ad2-027a-49ec-bb62-7aa41c348f72",
   "metadata": {},
   "outputs": [
    {
     "data": {
      "text/plain": [
       "'kia'"
      ]
     },
     "execution_count": 6,
     "metadata": {},
     "output_type": "execute_result"
    }
   ],
   "source": [
    "car2.brand"
   ]
  },
  {
   "cell_type": "code",
   "execution_count": 7,
   "id": "2509a8b7-491a-4f01-9831-fa98f6a167c0",
   "metadata": {},
   "outputs": [
    {
     "data": {
      "text/plain": [
       "'14km/h'"
      ]
     },
     "execution_count": 7,
     "metadata": {},
     "output_type": "execute_result"
    }
   ],
   "source": [
    "car2.speed"
   ]
  },
  {
   "cell_type": "code",
   "execution_count": 8,
   "id": "8d17946e-73e0-48ef-bb2a-ca2589348814",
   "metadata": {},
   "outputs": [
    {
     "name": "stdout",
     "output_type": "stream",
     "text": [
      "14km/h의 속력으로 달린다.\n"
     ]
    }
   ],
   "source": [
    "car2.go()"
   ]
  },
  {
   "cell_type": "markdown",
   "id": "99e38a44-4dc5-4445-b36d-f5df9c04b4c4",
   "metadata": {},
   "source": [
    "- 메소드 변경 => 오버라이드 (overide), 재정의"
   ]
  },
  {
   "cell_type": "code",
   "execution_count": 9,
   "id": "f3ba0252-03f9-4d98-bcee-e1836b6bad9b",
   "metadata": {},
   "outputs": [],
   "source": [
    "class Car(Vehicle): # 부모 클래스와 차별성을 가지게 되는 부분에 주목할 것!\n",
    "    def __init__(self, speed, brand):\n",
    "        super().__init__(speed)\n",
    "        self.brand = brand\n",
    "        \n",
    "    def go(self): # overide\n",
    "        super().go() # 부모의 go도 같이 타고 싶다.\n",
    "        print(f'차종은 {self.brand}')\n",
    "        \n",
    "    def stop(self): # 부모 클래스에 없는 메소드\n",
    "        print('차가 멈춘다.')"
   ]
  },
  {
   "cell_type": "code",
   "execution_count": 10,
   "id": "40c9e008-f826-45bc-a401-5ff5ada2c46e",
   "metadata": {},
   "outputs": [
    {
     "name": "stdout",
     "output_type": "stream",
     "text": [
      "15km/h의 속력으로 달린다.\n",
      "차종은 nissan\n",
      "차가 멈춘다.\n"
     ]
    }
   ],
   "source": [
    "car3 = Car('15km/h', 'nissan')\n",
    "car3.go()\n",
    "car3.stop()"
   ]
  },
  {
   "cell_type": "markdown",
   "id": "66c3ca16-9b44-478d-b6f7-5cdf3c7ad678",
   "metadata": {},
   "source": [
    "### 실습:"
   ]
  },
  {
   "cell_type": "code",
   "execution_count": 11,
   "id": "7335bacf-8c7c-4b0e-8055-9315c9cd7339",
   "metadata": {},
   "outputs": [],
   "source": [
    "class Person:\n",
    "    def __init__(self, name):\n",
    "        self.name = name\n",
    "    # name\n",
    "    \n",
    "class Doctor(Person):\n",
    "    def __init__(self, name):\n",
    "        super().__init__('Dr. ' + name)\n",
    "\n",
    "class Male(Person):\n",
    "    def __init__(self, name):\n",
    "        super().__init__('Mr. ' + name)\n",
    "\n",
    "class Female(Person):\n",
    "    def __init__(self, name):\n",
    "        super().__init__('Mrs. ' + name)"
   ]
  },
  {
   "cell_type": "code",
   "execution_count": 12,
   "id": "2fc3fb2a-0a42-4782-b082-c5d7295af5b9",
   "metadata": {},
   "outputs": [
    {
     "data": {
      "text/plain": [
       "'Dr. son'"
      ]
     },
     "execution_count": 12,
     "metadata": {},
     "output_type": "execute_result"
    }
   ],
   "source": [
    "Doctor('son').name"
   ]
  },
  {
   "cell_type": "markdown",
   "id": "c698803b-c8d6-422e-bd40-50407c4273d4",
   "metadata": {
    "tags": []
   },
   "source": [
    "### 다중 상속\n",
    "- method resolution order (MRO)\n",
    "Animal <- Horse\n",
    "        <- Donkey\n",
    "                <- Mule (donkey > horse)\n",
    "                <- Hinny (horse > donkey)"
   ]
  },
  {
   "cell_type": "code",
   "execution_count": 13,
   "id": "aad58174-103a-4a62-af33-a705fb3f3e34",
   "metadata": {},
   "outputs": [],
   "source": [
    "class Animal:\n",
    "    def says(self):\n",
    "        return '동물이 운다'\n",
    "    \n",
    "#--------------------- child\n",
    "class Horse(Animal):\n",
    "    def says(self):\n",
    "        return '히히힝'\n",
    "    \n",
    "class Donkey(Animal):\n",
    "    def says(self):\n",
    "        return '히이호'\n",
    "    \n",
    "#--------------------- grandchild\n",
    "class Mule(Donkey, Horse):\n",
    "    pass\n",
    "\n",
    "class Hinny(Horse, Donkey):\n",
    "    pass"
   ]
  },
  {
   "cell_type": "code",
   "execution_count": 14,
   "id": "8d311094-c5a7-4cc9-8312-59e7c47e6e83",
   "metadata": {},
   "outputs": [
    {
     "data": {
      "text/plain": [
       "'히이호'"
      ]
     },
     "execution_count": 14,
     "metadata": {},
     "output_type": "execute_result"
    }
   ],
   "source": [
    "Mule().says() # 히이호"
   ]
  },
  {
   "cell_type": "code",
   "execution_count": 15,
   "id": "a3eb58d8-d1d1-4f95-bc3d-77ec27ff6f13",
   "metadata": {},
   "outputs": [
    {
     "data": {
      "text/plain": [
       "'히히힝'"
      ]
     },
     "execution_count": 15,
     "metadata": {},
     "output_type": "execute_result"
    }
   ],
   "source": [
    "Hinny().says()"
   ]
  },
  {
   "cell_type": "code",
   "execution_count": 16,
   "id": "a7ee1c93-3d63-4a50-a8ad-7b279ee1e8f2",
   "metadata": {},
   "outputs": [
    {
     "data": {
      "text/plain": [
       "[__main__.Mule, __main__.Donkey, __main__.Horse, __main__.Animal, object]"
      ]
     },
     "execution_count": 16,
     "metadata": {},
     "output_type": "execute_result"
    }
   ],
   "source": [
    "Mule.mro()"
   ]
  },
  {
   "cell_type": "markdown",
   "id": "156bd736-b9a0-4bce-a8a7-b9f55b6724e3",
   "metadata": {},
   "source": [
    "### 다형성, duck typing"
   ]
  },
  {
   "cell_type": "code",
   "execution_count": 17,
   "id": "5c262cc6-bc28-4dd3-b113-8f7793bf0429",
   "metadata": {},
   "outputs": [
    {
     "name": "stdout",
     "output_type": "stream",
     "text": [
      "동물이 운다\n",
      "히히힝\n",
      "히이호\n"
     ]
    }
   ],
   "source": [
    "for animal in [Animal(), Horse(), Mule()]:\n",
    "    print(animal.says())"
   ]
  },
  {
   "cell_type": "markdown",
   "id": "9f74a39a-e0db-4b6c-9707-7b8192f1c16d",
   "metadata": {},
   "source": [
    "### 메서드\n",
    "- 인스턴스 메서드 :\n",
    "    - 첫 번째 인수가 self인 메서드\n",
    "    - 우리가 지금까지 배운 메서드\n",
    "    - 객체 생성 -> 사용 가능\n",
    "- 클래스 메서드:\n",
    "    - 객체마다 달라지지 않음\n",
    "    - 모든 객체가 공유하는 (클래스) 변수, 메소드\n",
    "    - cls\n",
    "    - 데코레이터 @classmethod 사용한다.\n",
    "    - 객체 생성하지 않고 메서드에 접근 가능!!\n",
    "- 정적 메서드\n",
    "    - 1번째 인수가 self 아님\n",
    "    - 클래스나 인스턴스에 접근하지 않는 메서드\n",
    "    - 비슷한 유틸리티라서 클래스 내에 묶어둘 때 사용한다.\n",
    "    - 객체 생성하지 않고 메서드 접근 가능!\n",
    "    - @staticmethod\n",
    "- 추상 메서드\n",
    "    - abstract\n",
    "    - @abstractmethod"
   ]
  },
  {
   "cell_type": "code",
   "execution_count": 18,
   "id": "68a63d8f-cee9-4200-9c9b-acce627befc4",
   "metadata": {},
   "outputs": [
    {
     "data": {
      "text/plain": [
       "'히히힝'"
      ]
     },
     "execution_count": 18,
     "metadata": {},
     "output_type": "execute_result"
    }
   ],
   "source": [
    "h = Hinny()\n",
    "h.says()"
   ]
  },
  {
   "cell_type": "code",
   "execution_count": 19,
   "id": "51b7bc34-5f52-43da-b222-fd63a6d2d2e0",
   "metadata": {},
   "outputs": [],
   "source": [
    "class A:\n",
    "    cnt = 0\n",
    "    \n",
    "    @classmethod\n",
    "    def move(cls): # self, super(), cls()\n",
    "        print(cls.cnt)\n",
    "        \n",
    "    "
   ]
  },
  {
   "cell_type": "code",
   "execution_count": 20,
   "id": "87d0a444-44c7-45c1-870a-fa22d9481971",
   "metadata": {},
   "outputs": [
    {
     "name": "stdout",
     "output_type": "stream",
     "text": [
      "0\n"
     ]
    }
   ],
   "source": [
    "A().move()"
   ]
  },
  {
   "cell_type": "code",
   "execution_count": 64,
   "id": "100c33ac-2f3b-48da-b9b4-d958746529ac",
   "metadata": {},
   "outputs": [],
   "source": [
    "class B:\n",
    "    cnt = 0\n",
    "    def __init__(self):\n",
    "        B.cnt += 1 # self 아님. 예외\n",
    "    \n",
    "    @classmethod\n",
    "    def count(cls):\n",
    "        print(cls.cnt)\n",
    "        \n",
    "    def minus(self):\n",
    "        # 인스턴스 메서드로 만들면 어떻게 될까?\n",
    "        B.cnt -= 1"
   ]
  },
  {
   "cell_type": "code",
   "execution_count": 65,
   "id": "0901dde6-97a7-4670-85ad-2fb615d4f6db",
   "metadata": {},
   "outputs": [
    {
     "name": "stdout",
     "output_type": "stream",
     "text": [
      "3\n"
     ]
    }
   ],
   "source": [
    "B()\n",
    "B()\n",
    "B()\n",
    "B.count()"
   ]
  },
  {
   "cell_type": "code",
   "execution_count": null,
   "id": "c2dbe0d3-e203-4c34-b701-a167ef25e1db",
   "metadata": {},
   "outputs": [],
   "source": [
    "b = B()"
   ]
  },
  {
   "cell_type": "code",
   "execution_count": 23,
   "id": "8dd4dd28-e78b-4685-8ad2-5f9b66c87ab6",
   "metadata": {},
   "outputs": [],
   "source": [
    "class Person:\n",
    "    def __init__(self, name, age):\n",
    "        self.name = name\n",
    "        self.age = age\n",
    "        \n",
    "    @classmethod\n",
    "    def tuple_object(cls, args):\n",
    "        # 튜플로 인자를 받아서 객체 생성하는 메서드 만들기\n",
    "        return cls(args[0], args[1])\n",
    "\n",
    "name = 'hong'\n",
    "age = 24\n",
    "        \n",
    "#p = Person(name, age)\n",
    "\n",
    "info = name, age\n",
    "p = Person.tuple_object(info) # Person() 아님. 괄호 없음!"
   ]
  },
  {
   "cell_type": "code",
   "execution_count": 24,
   "id": "7ab260ec-a8ca-4028-bb8a-d9d01e71521e",
   "metadata": {},
   "outputs": [
    {
     "data": {
      "text/plain": [
       "'hong'"
      ]
     },
     "execution_count": 24,
     "metadata": {},
     "output_type": "execute_result"
    }
   ],
   "source": [
    "p.name"
   ]
  },
  {
   "cell_type": "code",
   "execution_count": 25,
   "id": "fd19b11f-0a83-4bb1-8004-7a7902dfa47f",
   "metadata": {},
   "outputs": [
    {
     "data": {
      "text/plain": [
       "24"
      ]
     },
     "execution_count": 25,
     "metadata": {},
     "output_type": "execute_result"
    }
   ],
   "source": [
    "p.age"
   ]
  },
  {
   "cell_type": "code",
   "execution_count": 28,
   "id": "38805578-c0b7-4378-afec-833f9464feae",
   "metadata": {},
   "outputs": [
    {
     "data": {
      "text/plain": [
       "'hi'"
      ]
     },
     "execution_count": 28,
     "metadata": {},
     "output_type": "execute_result"
    }
   ],
   "source": [
    "#@staticmethod\n",
    "class Coyote:\n",
    "    \n",
    "    @staticmethod\n",
    "    def says(): # self 없음\n",
    "        return 'hi'\n",
    "    \n",
    "Coyote.says() # 객체를 생성하지 않고도 쓸 수 있음"
   ]
  },
  {
   "cell_type": "code",
   "execution_count": 61,
   "id": "7d6b94cc-2bb0-4218-b953-c129a39201f5",
   "metadata": {},
   "outputs": [],
   "source": [
    "from abc import *\n",
    "\n",
    "class Vehicle(metaclass = ABCMeta): # 추상클래스\n",
    "    # 변수에 뭘 넣을지 정의\n",
    "    speed = '속도'\n",
    "    \n",
    "    # 자식 클래스가 오버라이드해야 하는 메서드 정의, but 구체화하지 않는다.\n",
    "    @abstractmethod\n",
    "    def drive(self):\n",
    "        print('교통수단에 관하여') # 보통은 pass\n",
    "        \n",
    "    def stop(self):\n",
    "        pass\n",
    "    \n",
    "    def go(self):\n",
    "        pass\n",
    "    \n",
    "#------    \n",
    "class Car(Vehicle):\n",
    "    def drive(self):\n",
    "        return super().speed # 재정의 필요"
   ]
  },
  {
   "cell_type": "code",
   "execution_count": 62,
   "id": "545ad17a-caa1-4ce7-94f6-6e1cc5e24891",
   "metadata": {},
   "outputs": [
    {
     "ename": "TypeError",
     "evalue": "Can't instantiate abstract class Vehicle with abstract method drive",
     "output_type": "error",
     "traceback": [
      "\u001b[0;31m---------------------------------------------------------------------------\u001b[0m",
      "\u001b[0;31mTypeError\u001b[0m                                 Traceback (most recent call last)",
      "\u001b[0;32m/var/folders/_b/6lz4nnpx49579btkl7_ctft80000gn/T/ipykernel_4273/2976630902.py\u001b[0m in \u001b[0;36m<module>\u001b[0;34m\u001b[0m\n\u001b[0;32m----> 1\u001b[0;31m \u001b[0mmy_car\u001b[0m \u001b[0;34m=\u001b[0m \u001b[0mVehicle\u001b[0m\u001b[0;34m(\u001b[0m\u001b[0;34m)\u001b[0m\u001b[0;34m\u001b[0m\u001b[0;34m\u001b[0m\u001b[0m\n\u001b[0m",
      "\u001b[0;31mTypeError\u001b[0m: Can't instantiate abstract class Vehicle with abstract method drive"
     ]
    }
   ],
   "source": [
    "my_car = Vehicle() # 추상클래스로는 객체를 생성할 수 없음"
   ]
  },
  {
   "cell_type": "code",
   "execution_count": 30,
   "id": "cd2283c3-e189-4831-9594-3706ee1a4adb",
   "metadata": {},
   "outputs": [
    {
     "data": {
      "text/plain": [
       "'속도'"
      ]
     },
     "execution_count": 30,
     "metadata": {},
     "output_type": "execute_result"
    }
   ],
   "source": [
    "Car().drive()"
   ]
  },
  {
   "cell_type": "markdown",
   "id": "bf087d75-387a-4192-94e9-ef06562c708e",
   "metadata": {},
   "source": [
    "### 매직메소드\n",
    "- __init__ : special method\n",
    "- object 클래스 메서드 재정의하는 것\n",
    "    - __str__\n",
    "    - __repr__"
   ]
  },
  {
   "cell_type": "code",
   "execution_count": 54,
   "id": "9f8fb312-e859-431e-a403-3402024b4364",
   "metadata": {},
   "outputs": [],
   "source": [
    "class Person:\n",
    "    def __init__(self, name):\n",
    "        self.name = name\n",
    "        \n",
    "    def print_name(self):\n",
    "        # 그냥 self.name을 return 하면 어떻게 될까?\n",
    "        return self.name\n",
    "    \n",
    "    def __str__(self):\n",
    "        # 인스턴스를 스트링으로 출력: 이름, 주소, 메모리주소\n",
    "        # print(인스턴스)했을 때 출력되는 값\n",
    "        return self.name\n",
    "    \n",
    "    def __repr__(self):\n",
    "        # 사용자 이해할 수 있게 객체를 출력하고 싶을 때 사용한다.\n",
    "        return f'Person({self.name})'"
   ]
  },
  {
   "cell_type": "code",
   "execution_count": 55,
   "id": "6c3400bd-81f0-4b17-b74e-62e4f0b50ea3",
   "metadata": {},
   "outputs": [],
   "source": [
    "p = Person('lee')"
   ]
  },
  {
   "cell_type": "code",
   "execution_count": 56,
   "id": "969307e3-7c58-4116-9d6c-34c298dbfafa",
   "metadata": {},
   "outputs": [
    {
     "name": "stdout",
     "output_type": "stream",
     "text": [
      "lee\n"
     ]
    }
   ],
   "source": [
    "print(p)"
   ]
  },
  {
   "cell_type": "code",
   "execution_count": 57,
   "id": "a37c77d0-aebb-46b0-821f-1cfc4573adef",
   "metadata": {},
   "outputs": [
    {
     "data": {
      "text/plain": [
       "'lee'"
      ]
     },
     "execution_count": 57,
     "metadata": {},
     "output_type": "execute_result"
    }
   ],
   "source": [
    "p.print_name()"
   ]
  },
  {
   "cell_type": "code",
   "execution_count": 58,
   "id": "cbffea9f-0f14-40d0-b306-cb1f1b2083bf",
   "metadata": {},
   "outputs": [
    {
     "data": {
      "text/plain": [
       "Person(lee)"
      ]
     },
     "execution_count": 58,
     "metadata": {},
     "output_type": "execute_result"
    }
   ],
   "source": [
    "p"
   ]
  },
  {
   "cell_type": "code",
   "execution_count": 59,
   "id": "a781f642-5794-4c5f-9bd5-e123b282e21a",
   "metadata": {},
   "outputs": [
    {
     "data": {
      "text/plain": [
       "'lee'"
      ]
     },
     "execution_count": 59,
     "metadata": {},
     "output_type": "execute_result"
    }
   ],
   "source": [
    "str(p)"
   ]
  },
  {
   "cell_type": "code",
   "execution_count": 60,
   "id": "e2a88098-e44d-4690-a97e-758680d11574",
   "metadata": {},
   "outputs": [
    {
     "data": {
      "text/plain": [
       "'Person(lee)'"
      ]
     },
     "execution_count": 60,
     "metadata": {},
     "output_type": "execute_result"
    }
   ],
   "source": [
    "repr(p)"
   ]
  },
  {
   "cell_type": "markdown",
   "id": "9a46d384-2ad5-4b8a-bd77-b9654c6e7f02",
   "metadata": {},
   "source": [
    "### namedtuple, dataclass\n",
    "- 변수만 있는 클래스 설정할 때 더 효율적으로 사용하는 수단\n",
    "- 딕셔너리 키와 같은 기능\n",
    "- 불변 객체"
   ]
  },
  {
   "cell_type": "code",
   "execution_count": 37,
   "id": "69cc47ff-b29d-42f0-b3eb-dbea14bb99bf",
   "metadata": {},
   "outputs": [
    {
     "data": {
      "text/plain": [
       "Person(name='kim', age=33)"
      ]
     },
     "execution_count": 37,
     "metadata": {},
     "output_type": "execute_result"
    }
   ],
   "source": [
    "from collections import namedtuple\n",
    "\n",
    "Person = namedtuple('Person', 'name age')\n",
    "a = Person('kim', 33)\n",
    "a"
   ]
  },
  {
   "cell_type": "code",
   "execution_count": 38,
   "id": "133a1f74-e575-44c5-9945-f324c858875e",
   "metadata": {},
   "outputs": [
    {
     "data": {
      "text/plain": [
       "'kim'"
      ]
     },
     "execution_count": 38,
     "metadata": {},
     "output_type": "execute_result"
    }
   ],
   "source": [
    "a.name"
   ]
  },
  {
   "cell_type": "code",
   "execution_count": 39,
   "id": "ebb54274-dd09-4036-a970-a6bf286ac93d",
   "metadata": {},
   "outputs": [
    {
     "data": {
      "text/plain": [
       "33"
      ]
     },
     "execution_count": 39,
     "metadata": {},
     "output_type": "execute_result"
    }
   ],
   "source": [
    "a.age"
   ]
  },
  {
   "cell_type": "code",
   "execution_count": 40,
   "id": "9e1f0931-8b2b-4cc5-b146-090dc7ab016f",
   "metadata": {},
   "outputs": [],
   "source": [
    "b = a._replace(name = 'lee')"
   ]
  },
  {
   "cell_type": "code",
   "execution_count": 41,
   "id": "86db21b5-6081-47bf-9ee9-3c44a1b5001c",
   "metadata": {},
   "outputs": [
    {
     "data": {
      "text/plain": [
       "'lee'"
      ]
     },
     "execution_count": 41,
     "metadata": {},
     "output_type": "execute_result"
    }
   ],
   "source": [
    "b.name"
   ]
  },
  {
   "cell_type": "code",
   "execution_count": 42,
   "id": "dec1e994-7842-45c8-852e-345f0e2dff55",
   "metadata": {},
   "outputs": [],
   "source": [
    "from dataclasses import dataclass\n",
    "\n",
    "@dataclass\n",
    "class Person:\n",
    "    name: str\n",
    "    age: int"
   ]
  },
  {
   "cell_type": "code",
   "execution_count": 43,
   "id": "c2396d20-ecbf-401a-a6d3-1e524da6b3d1",
   "metadata": {},
   "outputs": [
    {
     "data": {
      "text/plain": [
       "Person(name='kim', age=33)"
      ]
     },
     "execution_count": 43,
     "metadata": {},
     "output_type": "execute_result"
    }
   ],
   "source": [
    "a = Person('kim', 33)\n",
    "a"
   ]
  },
  {
   "cell_type": "code",
   "execution_count": 44,
   "id": "a38cf6b4-2459-41a0-a748-76d61ca81db1",
   "metadata": {},
   "outputs": [
    {
     "data": {
      "text/plain": [
       "33"
      ]
     },
     "execution_count": 44,
     "metadata": {},
     "output_type": "execute_result"
    }
   ],
   "source": [
    "a.age"
   ]
  },
  {
   "cell_type": "code",
   "execution_count": 45,
   "id": "b8bfe949-ae34-406a-bddd-d2c7e78ab62d",
   "metadata": {},
   "outputs": [
    {
     "data": {
      "text/plain": [
       "'kim'"
      ]
     },
     "execution_count": 45,
     "metadata": {},
     "output_type": "execute_result"
    }
   ],
   "source": [
    "a.name"
   ]
  }
 ],
 "metadata": {
  "kernelspec": {
   "display_name": "Python 3 (ipykernel)",
   "language": "python",
   "name": "python3"
  },
  "language_info": {
   "codemirror_mode": {
    "name": "ipython",
    "version": 3
   },
   "file_extension": ".py",
   "mimetype": "text/x-python",
   "name": "python",
   "nbconvert_exporter": "python",
   "pygments_lexer": "ipython3",
   "version": "3.9.7"
  }
 },
 "nbformat": 4,
 "nbformat_minor": 5
}
