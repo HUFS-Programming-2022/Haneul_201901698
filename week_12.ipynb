{
 "cells": [
  {
   "cell_type": "markdown",
   "id": "15fb3cec-146b-44e9-bd9b-3f2277de1b17",
   "metadata": {},
   "source": [
    "# Week_12"
   ]
  },
  {
   "cell_type": "markdown",
   "id": "c9cca95d-e99b-41f5-b3de-b404512ff9db",
   "metadata": {},
   "source": [
    "### 함수 II"
   ]
  },
  {
   "cell_type": "markdown",
   "id": "bd0c3814-9942-4f7d-8491-98fb59964b8b",
   "metadata": {},
   "source": [
    "#### asterisk(stars) *, **"
   ]
  },
  {
   "cell_type": "code",
   "execution_count": 4,
   "id": "89b2a9bb-c461-4519-9073-aba2a227716d",
   "metadata": {},
   "outputs": [
    {
     "name": "stdout",
     "output_type": "stream",
     "text": [
      "hey hello hi\n"
     ]
    }
   ],
   "source": [
    "def print_arg(*args): # 1. 패킹 (튜플로 묶기)\n",
    "    # 인자를 튜플로 묶어서 활용하는 역할\n",
    "    print(*args) # 2. 언패킹 (튜플 -> 인자로)\n",
    "    \n",
    "print_arg('hey', 'hello', 'hi')"
   ]
  },
  {
   "cell_type": "code",
   "execution_count": 12,
   "id": "493994fe-c88a-4224-8231-4e95ba1ae757",
   "metadata": {},
   "outputs": [
    {
     "name": "stdout",
     "output_type": "stream",
     "text": [
      "obligatory book\n",
      "1 2 3 4\n",
      "\n",
      "obligatory book\n",
      "(1, 2, 3, 4)\n",
      "obligatory book\n",
      "1 2 3 4\n"
     ]
    }
   ],
   "source": [
    "def print_arg2(name, *args):\n",
    "    # *args : 필요 없지만 있으면 출력하겠다\n",
    "    print('obligatory', name)\n",
    "    print(*args)\n",
    "    \n",
    "print_arg2('book', 1, 2, 3, 4)\n",
    "nums = (1, 2, 3, 4)\n",
    "print()\n",
    "print_arg2('book', nums)\n",
    "print_arg('book', *nums)"
   ]
  },
  {
   "cell_type": "markdown",
   "id": "db014ca4-c007-4552-8e6f-4cad0b215213",
   "metadata": {},
   "source": [
    "#### 외부에서 활용하기\n",
    "- 컬렉션 자료형 언패킹 출력 시\n",
    "- zip()과 많이 활용\n",
    "- 키워드 전용 인수 선언\n",
    "    - 별 뒤에 오는 매개변수들은 반드시 키워드 인수로 들어오도록 설정하는 역할\n",
    "    - kargs와 혼선을 빚지 않기 위해"
   ]
  },
  {
   "cell_type": "code",
   "execution_count": 8,
   "id": "763205b1-3834-4878-bc67-a648693f7b04",
   "metadata": {},
   "outputs": [
    {
     "name": "stdout",
     "output_type": "stream",
     "text": [
      "0 1 2 3 4\n"
     ]
    }
   ],
   "source": [
    "nums = list(range(5))\n",
    "print(*nums) # 함수 안에서만 되는 것은 아님. 유용하게 활용 가능해보임"
   ]
  },
  {
   "cell_type": "code",
   "execution_count": 10,
   "id": "21acfb65-1af4-45b9-85fc-030f1f8eb097",
   "metadata": {},
   "outputs": [
    {
     "name": "stdout",
     "output_type": "stream",
     "text": [
      "(1, 3, 5)\n",
      "(2, 4, 6)\n"
     ]
    }
   ],
   "source": [
    "a = [\n",
    "    [1, 2],\n",
    "    [3, 4],\n",
    "    [5, 6]\n",
    "]\n",
    "# 1, 3, 5 / 2, 4, 6 열을 순회\n",
    "\n",
    "for row in zip(*a):\n",
    "    # *a : 감싼 []가 없어진 상태.\n",
    "    print(row)"
   ]
  },
  {
   "cell_type": "code",
   "execution_count": 13,
   "id": "76a2ee3e-e75c-472b-8503-359e30275382",
   "metadata": {},
   "outputs": [
    {
     "name": "stdout",
     "output_type": "stream",
     "text": [
      "2\n",
      "3\n"
     ]
    }
   ],
   "source": [
    "def print_data(data, *, start, end): # start, end -> start = 0\n",
    "    for value in data[start:end]:\n",
    "        print(value)\n",
    "        \n",
    "print_data(nums, start=1, end=3)"
   ]
  },
  {
   "cell_type": "code",
   "execution_count": 7,
   "id": "bd4dde2d-7572-425d-8ead-7e3d81849bb6",
   "metadata": {},
   "outputs": [
    {
     "name": "stdout",
     "output_type": "stream",
     "text": [
      "I\n",
      "want\n",
      "to\n",
      "eat\n",
      "apple\n",
      "\n",
      "I want to eat apple\n",
      "\n",
      "I want to eat apple\n"
     ]
    }
   ],
   "source": [
    "# 연습\n",
    "words = ['I', 'want', 'to', 'eat', 'apple']\n",
    "for word in words:\n",
    "    print(word)\n",
    "\n",
    "print()\n",
    "print(' '.join(words))\n",
    "print()\n",
    "print(*words) # 띄어쓰기로 각 요소를 구분하여 출력해줌."
   ]
  },
  {
   "cell_type": "markdown",
   "id": "ce719559-876f-411b-bcaf-c758106c6648",
   "metadata": {
    "tags": []
   },
   "source": [
    "#### ** (keyword args)"
   ]
  },
  {
   "cell_type": "code",
   "execution_count": 17,
   "id": "5e921eb2-5d36-4e0c-a7eb-a5883f2554e6",
   "metadata": {},
   "outputs": [
    {
     "name": "stdout",
     "output_type": "stream",
     "text": [
      "{'wine': 'merlot', 'dessert': 'cake'}\n"
     ]
    }
   ],
   "source": [
    "def print_kargs(**kargs): # 딕셔너리로 묶는 기능\n",
    "    print(kargs) # **kargs로 하면 안 됨. *args와 다름. 언패킹 기능 없음\n",
    "    # print(kargs['wine'], 'is semi-sweet') \n",
    "\n",
    "print_kargs(wine = 'merlot', dessert='cake')"
   ]
  },
  {
   "cell_type": "code",
   "execution_count": 18,
   "id": "af11d8f2-2f05-435e-949f-e0baacc36ec9",
   "metadata": {},
   "outputs": [
    {
     "name": "stdout",
     "output_type": "stream",
     "text": [
      "{'wine': 'merlot', 'dessert': 'scone'}\n",
      "{'wine': 'cabernet', 'dessert': 'scone'}\n",
      "{'wine': 'crianza', 'dessert': 'scone'}\n"
     ]
    }
   ],
   "source": [
    "wine_list = 'merlot cabernet crianza'.split()\n",
    "for wine in wine_list:\n",
    "    print_kargs(wine=wine, dessert='scone')"
   ]
  },
  {
   "cell_type": "code",
   "execution_count": 24,
   "id": "1dce8a5c-be37-4e6c-875f-ddcbcb7e1f91",
   "metadata": {},
   "outputs": [
    {
     "name": "stdout",
     "output_type": "stream",
     "text": [
      "15\n",
      "{'first': 1, 'second': 2}\n"
     ]
    }
   ],
   "source": [
    "def print_both(one, two, *args, **kargs): # 위치인수 > args > kargs 순서 중요!\n",
    "    print(one + two + sum(args))\n",
    "    print(kargs)\n",
    "    \n",
    "print_both(1, 2, 3, 4, 5, first=1, second=2)"
   ]
  },
  {
   "cell_type": "markdown",
   "id": "19624e3e-1371-407c-bba6-a3a2da791399",
   "metadata": {},
   "source": [
    "#### 딕셔너리 결합할 때 사용할 수 있다 (3.5 이상)"
   ]
  },
  {
   "cell_type": "code",
   "execution_count": 27,
   "id": "a3f78a0e-9134-4acc-ada9-50f73467889e",
   "metadata": {},
   "outputs": [
    {
     "data": {
      "text/plain": [
       "{1: 'a', 2: 'c', 3: 'd'}"
      ]
     },
     "execution_count": 27,
     "metadata": {},
     "output_type": "execute_result"
    }
   ],
   "source": [
    "x = {1: 'a', 2: 'b'}\n",
    "y = {2: 'c', 3: 'd'}\n",
    "{**x, **y}"
   ]
  },
  {
   "cell_type": "markdown",
   "id": "a1a84625-0605-4270-98f5-3b69c70b673b",
   "metadata": {
    "tags": []
   },
   "source": [
    "### 일급객체\n",
    "- first class object / first class citizen\n",
    "- 함수도 객체다.\n",
    "- 함수의 인자로 전달 가능\n",
    "- 반환값이 될 수 있다\n",
    "- 수정, 할당될 수 있다."
   ]
  },
  {
   "cell_type": "code",
   "execution_count": 31,
   "id": "9edd68e0-5ece-43ca-846a-2b3545622fe7",
   "metadata": {},
   "outputs": [
    {
     "name": "stdout",
     "output_type": "stream",
     "text": [
      "43\n",
      "43\n"
     ]
    }
   ],
   "source": [
    "def answer():\n",
    "    print(43)\n",
    "\n",
    "def run_something(func): ## 파이썬에서만, 함수가 객체이므로\n",
    "    func()\n",
    "    \n",
    "run_something(answer)\n",
    "\n",
    "def run_anything(func):\n",
    "    return func\n",
    "\n",
    "run_anything(answer)() # 괄호 => 실행"
   ]
  },
  {
   "cell_type": "code",
   "execution_count": 34,
   "id": "2c3cd074-2883-4093-b75a-d9ab03ed1b7e",
   "metadata": {},
   "outputs": [
    {
     "data": {
      "text/plain": [
       "13"
      ]
     },
     "execution_count": 34,
     "metadata": {},
     "output_type": "execute_result"
    }
   ],
   "source": [
    "def sum_args(*args):\n",
    "    return sum(args)\n",
    "\n",
    "def run_with_positional_args(func, *args):\n",
    "    return func(*args)\n",
    "\n",
    "run_with_positional_args(sum_args, 1, 3, 4, 5)"
   ]
  },
  {
   "cell_type": "code",
   "execution_count": 36,
   "id": "3c6a3a04-e97a-4f31-8db5-2e0ae544a21d",
   "metadata": {},
   "outputs": [],
   "source": [
    "# 가변 인자일 때 => 초기화하지 않으면 변수 내용이 변할 수 있음\n",
    "\n",
    "def func(num_list):\n",
    "    # 변할 수 있음을 문서화 할 것, 혹은 다른 방법 찾아볼 것 (copy하거나 새로 만들거나)\n",
    "    sum_num = sum(num_list)\n",
    "    num_list.append(sum_num)\n",
    "    \n",
    "a = [1, 3, 5]\n",
    "func(a)"
   ]
  },
  {
   "cell_type": "code",
   "execution_count": 37,
   "id": "7a6aa711-6f8a-468b-bde7-139cea3bdb2a",
   "metadata": {},
   "outputs": [
    {
     "data": {
      "text/plain": [
       "[1, 3, 5, 9]"
      ]
     },
     "execution_count": 37,
     "metadata": {},
     "output_type": "execute_result"
    }
   ],
   "source": [
    "a"
   ]
  },
  {
   "cell_type": "code",
   "execution_count": 38,
   "id": "e7db015e-c01e-4bbd-b88e-8a74f5981a9d",
   "metadata": {},
   "outputs": [],
   "source": [
    "func(a)"
   ]
  },
  {
   "cell_type": "code",
   "execution_count": 39,
   "id": "5adbe3a9-bd5a-4adf-9f68-6c507231b9c0",
   "metadata": {},
   "outputs": [
    {
     "data": {
      "text/plain": [
       "[1, 3, 5, 9, 18]"
      ]
     },
     "execution_count": 39,
     "metadata": {},
     "output_type": "execute_result"
    }
   ],
   "source": [
    "a"
   ]
  },
  {
   "cell_type": "code",
   "execution_count": 21,
   "id": "74cbabf8-f31b-4edf-ac12-2da203cb85c6",
   "metadata": {},
   "outputs": [
    {
     "data": {
      "text/plain": [
       "[1, 3, 5, 9]"
      ]
     },
     "execution_count": 21,
     "metadata": {},
     "output_type": "execute_result"
    }
   ],
   "source": [
    "# 가변 인자일 때 copy 이용해보기\n",
    "\n",
    "def func2(num_list):\n",
    "    temp = num_list.copy() # shallow copy를 이용하여 temp라는 변수에 할당\n",
    "    sum_num = sum(temp)\n",
    "    temp.append(sum_num)\n",
    "    return temp\n",
    "    \n",
    "b = [1, 3, 5]\n",
    "func2(b) # 1, 3, 5의 합이 추가된 리스트 반환"
   ]
  },
  {
   "cell_type": "code",
   "execution_count": 22,
   "id": "14375e7d-50a4-44f7-8498-7f3a4758a3b9",
   "metadata": {},
   "outputs": [
    {
     "data": {
      "text/plain": [
       "[1, 3, 5]"
      ]
     },
     "execution_count": 22,
     "metadata": {},
     "output_type": "execute_result"
    }
   ],
   "source": [
    "b # 원래 리스트 b는 변하지 않음"
   ]
  },
  {
   "cell_type": "markdown",
   "id": "5c1e1f5f-718d-454c-8522-a0f6a594342b",
   "metadata": {},
   "source": [
    "### 내부함수 => 다음주 "
   ]
  },
  {
   "cell_type": "markdown",
   "id": "2edb23a8-175e-4c97-9ab5-4edcdc66cfd8",
   "metadata": {},
   "source": [
    "### 익명함수 (람다)\n",
    "- lambda\n",
    "- 함수인데 이름 없음 (def, return)\n",
    "- 왜? 단순한 함수를 사용할 때\n",
    "- lambda x: <x를 요리할 코드>"
   ]
  },
  {
   "cell_type": "code",
   "execution_count": 40,
   "id": "a1a69d12-36f4-43b1-a8a9-f15e33f20aeb",
   "metadata": {},
   "outputs": [
    {
     "data": {
      "text/plain": [
       "'ok'"
      ]
     },
     "execution_count": 40,
     "metadata": {},
     "output_type": "execute_result"
    }
   ],
   "source": [
    "# lambda x : x.lower()\n",
    "\n",
    "def f(x):\n",
    "    return x.lower()\n",
    "\n",
    "f2 = lambda x: x.lower()\n",
    "f2('OK')"
   ]
  },
  {
   "cell_type": "code",
   "execution_count": 42,
   "id": "f5cfcc2a-f2c0-42a3-b364-eb1393fdc07a",
   "metadata": {},
   "outputs": [
    {
     "data": {
      "text/plain": [
       "'ok'"
      ]
     },
     "execution_count": 42,
     "metadata": {},
     "output_type": "execute_result"
    }
   ],
   "source": [
    "(lambda x: x.lower())('OK') # 이름 없이 사용 가능"
   ]
  },
  {
   "cell_type": "code",
   "execution_count": 43,
   "id": "77e8851a-e21b-414d-85b3-78f1b4cb9d7c",
   "metadata": {},
   "outputs": [
    {
     "data": {
      "text/plain": [
       "10"
      ]
     },
     "execution_count": 43,
     "metadata": {},
     "output_type": "execute_result"
    }
   ],
   "source": [
    "f3 = lambda x, y: x + y\n",
    "f3(5, 5)"
   ]
  },
  {
   "cell_type": "code",
   "execution_count": 45,
   "id": "2df42ae6-db67-49cf-9679-5ca8856c904a",
   "metadata": {},
   "outputs": [
    {
     "data": {
      "text/plain": [
       "'Hi!'"
      ]
     },
     "execution_count": 45,
     "metadata": {},
     "output_type": "execute_result"
    }
   ],
   "source": [
    "# abc -> Abc!\n",
    "\n",
    "a = lambda string: string.title() + '!'\n",
    "a('hi')"
   ]
  },
  {
   "cell_type": "code",
   "execution_count": 25,
   "id": "b1380b90-1585-458e-8f0f-a71d335f3aa1",
   "metadata": {},
   "outputs": [
    {
     "data": {
      "text/plain": [
       "4"
      ]
     },
     "execution_count": 25,
     "metadata": {},
     "output_type": "execute_result"
    }
   ],
   "source": [
    "# lambda 활용해보기 1\n",
    "(lambda x: x-1)(5)"
   ]
  },
  {
   "cell_type": "code",
   "execution_count": 26,
   "id": "1ba9fb73-0662-4509-b4ff-366a07f6957a",
   "metadata": {},
   "outputs": [
    {
     "data": {
      "text/plain": [
       "10"
      ]
     },
     "execution_count": 26,
     "metadata": {},
     "output_type": "execute_result"
    }
   ],
   "source": [
    "# lambda 활용해보기 2\n",
    "test = lambda x, y: x * y\n",
    "test(2, 5)"
   ]
  }
 ],
 "metadata": {
  "kernelspec": {
   "display_name": "Python 3 (ipykernel)",
   "language": "python",
   "name": "python3"
  },
  "language_info": {
   "codemirror_mode": {
    "name": "ipython",
    "version": 3
   },
   "file_extension": ".py",
   "mimetype": "text/x-python",
   "name": "python",
   "nbconvert_exporter": "python",
   "pygments_lexer": "ipython3",
   "version": "3.9.7"
  }
 },
 "nbformat": 4,
 "nbformat_minor": 5
}
