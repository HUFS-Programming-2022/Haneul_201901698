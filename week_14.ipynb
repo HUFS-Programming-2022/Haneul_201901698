{
 "cells": [
  {
   "cell_type": "markdown",
   "id": "539af43d-fcd9-4f73-b41f-71e28076214c",
   "metadata": {},
   "source": [
    "# Week_14"
   ]
  },
  {
   "cell_type": "markdown",
   "id": "1ee3d4f8-7f6e-4b01-9b7e-58ec375a4ffc",
   "metadata": {},
   "source": [
    "### 함수 II\n",
    "- 중첩함수\n",
    "    - 캡슐화 목적\n",
    "        - 변수 범위를 제한할 수 있다.\n",
    "        - 책임, 관리 명확해짐\n",
    "- 제너레이터\n",
    "- 재귀함수"
   ]
  },
  {
   "cell_type": "code",
   "execution_count": 1,
   "id": "047d4f34-062a-43d9-aee1-9871022fce8c",
   "metadata": {},
   "outputs": [
    {
     "data": {
      "text/plain": [
       "4"
      ]
     },
     "execution_count": 1,
     "metadata": {},
     "output_type": "execute_result"
    }
   ],
   "source": [
    "def outer(a, b): # 외부함수\n",
    "    def inner(c, d): # 내부함수\n",
    "        return c + d\n",
    "    return inner(a, b)\n",
    "\n",
    "outer(2, 2)"
   ]
  },
  {
   "cell_type": "code",
   "execution_count": 2,
   "id": "2048954b-8453-4be3-8f06-0b78836b1c3b",
   "metadata": {},
   "outputs": [
    {
     "ename": "NameError",
     "evalue": "name 'inner' is not defined",
     "output_type": "error",
     "traceback": [
      "\u001b[0;31m---------------------------------------------------------------------------\u001b[0m",
      "\u001b[0;31mNameError\u001b[0m                                 Traceback (most recent call last)",
      "\u001b[0;32m/var/folders/_b/6lz4nnpx49579btkl7_ctft80000gn/T/ipykernel_1998/1979987873.py\u001b[0m in \u001b[0;36m<module>\u001b[0;34m\u001b[0m\n\u001b[0;32m----> 1\u001b[0;31m \u001b[0minner\u001b[0m\u001b[0;34m(\u001b[0m\u001b[0;36m2\u001b[0m\u001b[0;34m,\u001b[0m \u001b[0;36m2\u001b[0m\u001b[0;34m)\u001b[0m \u001b[0;31m# error => 선언한 적이 없다는 에러. (중첩함수를 쓰는 이유. 가리기 위해)\u001b[0m\u001b[0;34m\u001b[0m\u001b[0;34m\u001b[0m\u001b[0m\n\u001b[0m",
      "\u001b[0;31mNameError\u001b[0m: name 'inner' is not defined"
     ]
    }
   ],
   "source": [
    "inner(2, 2) # error => 선언한 적이 없다는 에러. (중첩함수를 쓰는 이유. 가리기 위해)"
   ]
  },
  {
   "cell_type": "code",
   "execution_count": 3,
   "id": "e2440005-3f60-4e72-8bec-505d883a292d",
   "metadata": {},
   "outputs": [
    {
     "ename": "NameError",
     "evalue": "name 'inner' is not defined",
     "output_type": "error",
     "traceback": [
      "\u001b[0;31m---------------------------------------------------------------------------\u001b[0m",
      "\u001b[0;31mNameError\u001b[0m                                 Traceback (most recent call last)",
      "\u001b[0;32m/var/folders/_b/6lz4nnpx49579btkl7_ctft80000gn/T/ipykernel_1998/2278219153.py\u001b[0m in \u001b[0;36m<module>\u001b[0;34m\u001b[0m\n\u001b[1;32m      4\u001b[0m     \u001b[0;32mreturn\u001b[0m \u001b[0minner\u001b[0m\u001b[0;34m(\u001b[0m\u001b[0msaying\u001b[0m\u001b[0;34m)\u001b[0m\u001b[0;34m\u001b[0m\u001b[0;34m\u001b[0m\u001b[0m\n\u001b[1;32m      5\u001b[0m \u001b[0;34m\u001b[0m\u001b[0m\n\u001b[0;32m----> 6\u001b[0;31m \u001b[0minner\u001b[0m\u001b[0;34m(\u001b[0m\u001b[0;34m'yes'\u001b[0m\u001b[0;34m)\u001b[0m \u001b[0;31m# 에러 발생\u001b[0m\u001b[0;34m\u001b[0m\u001b[0;34m\u001b[0m\u001b[0m\n\u001b[0m",
      "\u001b[0;31mNameError\u001b[0m: name 'inner' is not defined"
     ]
    }
   ],
   "source": [
    "def knights(saying):\n",
    "    def inner(quote):\n",
    "        return f'we are knights who say : {quote}'\n",
    "    return inner(saying)\n",
    "\n",
    "inner('yes') # 에러 발생"
   ]
  },
  {
   "cell_type": "code",
   "execution_count": 4,
   "id": "7eda6f89-ccc2-4516-b55d-a080cde0cbdc",
   "metadata": {},
   "outputs": [
    {
     "data": {
      "text/plain": [
       "'we are knights who say : Ni!'"
      ]
     },
     "execution_count": 4,
     "metadata": {},
     "output_type": "execute_result"
    }
   ],
   "source": [
    "knights('Ni!')"
   ]
  },
  {
   "cell_type": "code",
   "execution_count": 5,
   "id": "f91729e5-8fae-410e-826a-a68cafc2cf32",
   "metadata": {},
   "outputs": [
    {
     "data": {
      "text/plain": [
       "'we are knights who say : Ni!'"
      ]
     },
     "execution_count": 5,
     "metadata": {},
     "output_type": "execute_result"
    }
   ],
   "source": [
    "case1 = knights('Ni!') # 변수에 할당해서 사용 가능\n",
    "case1"
   ]
  },
  {
   "cell_type": "markdown",
   "id": "0f6f5476-a7ab-4e07-ae92-ebe0bbf5e691",
   "metadata": {},
   "source": [
    "클로저\n",
    "- 자신을 둘러싼 scope (name space)의 상태값을 기억하는 함수\n",
    "- 메모리 효율적 사용 (함수 호출 시 꺼내쓸 수 있다)\n",
    "- 조건\n",
    "    - 중첩함수여야 함\n",
    "    - 외부함수의 상태값 참조해야 함\n",
    "    - 외부함수가 내부함수를 반환해야 함"
   ]
  },
  {
   "cell_type": "code",
   "execution_count": 6,
   "id": "d5e4d269-5b0b-4657-9d42-c29b2bcd995c",
   "metadata": {},
   "outputs": [
    {
     "data": {
      "text/plain": [
       "<function __main__.multiply(x)>"
      ]
     },
     "execution_count": 6,
     "metadata": {},
     "output_type": "execute_result"
    }
   ],
   "source": [
    "def multiply(x): # 클로저 (closure)\n",
    "    def inner(y):\n",
    "        return x * y # 외부 함수의 인자를 사용\n",
    "    return inner # 함수 실행되기 전\n",
    "\n",
    "multiply # 반환값 함수 (function)"
   ]
  },
  {
   "cell_type": "code",
   "execution_count": 7,
   "id": "a30d1676-2397-4bbe-a2b1-a83a15bb7228",
   "metadata": {},
   "outputs": [],
   "source": [
    "m5 = multiply(5) # x = 5\n",
    "m6 = multiply(6) # x = 6"
   ]
  },
  {
   "cell_type": "code",
   "execution_count": 8,
   "id": "55d025b9-7891-4c42-a9b2-6546530fa828",
   "metadata": {},
   "outputs": [
    {
     "data": {
      "text/plain": [
       "(30, 75)"
      ]
     },
     "execution_count": 8,
     "metadata": {},
     "output_type": "execute_result"
    }
   ],
   "source": [
    "m5(6), m5(15)"
   ]
  },
  {
   "cell_type": "code",
   "execution_count": 9,
   "id": "bb90d812-9ecc-473e-a43c-8ce5c8b9cad8",
   "metadata": {},
   "outputs": [],
   "source": [
    "del(multiply) # 지우기 가능"
   ]
  },
  {
   "cell_type": "code",
   "execution_count": 10,
   "id": "869d5fa2-8ef5-44df-8d85-2482d963e201",
   "metadata": {},
   "outputs": [
    {
     "ename": "NameError",
     "evalue": "name 'multiply' is not defined",
     "output_type": "error",
     "traceback": [
      "\u001b[0;31m---------------------------------------------------------------------------\u001b[0m",
      "\u001b[0;31mNameError\u001b[0m                                 Traceback (most recent call last)",
      "\u001b[0;32m/var/folders/_b/6lz4nnpx49579btkl7_ctft80000gn/T/ipykernel_1998/3816184247.py\u001b[0m in \u001b[0;36m<module>\u001b[0;34m\u001b[0m\n\u001b[0;32m----> 1\u001b[0;31m \u001b[0mmultiply\u001b[0m \u001b[0;31m# 함수를 지정한 적이 없다는 에러 발생\u001b[0m\u001b[0;34m\u001b[0m\u001b[0;34m\u001b[0m\u001b[0m\n\u001b[0m",
      "\u001b[0;31mNameError\u001b[0m: name 'multiply' is not defined"
     ]
    }
   ],
   "source": [
    "multiply # 함수를 지정한 적이 없다는 에러 발생"
   ]
  },
  {
   "cell_type": "code",
   "execution_count": 11,
   "id": "4c64efd0-5e51-4aa9-9c92-9a66655f25cd",
   "metadata": {},
   "outputs": [
    {
     "data": {
      "text/plain": [
       "50"
      ]
     },
     "execution_count": 11,
     "metadata": {},
     "output_type": "execute_result"
    }
   ],
   "source": [
    "m5(10) # 메모리는 사용하지 않으면서 inner 함수 사용 가능"
   ]
  },
  {
   "cell_type": "markdown",
   "id": "3075c2b3-e1eb-4255-9b3f-c7b0be8c93ee",
   "metadata": {},
   "source": [
    "### 데코레이터\n",
    "- 메인 함수에 또 다른 함수를 데코레이터로 선언하여 사용할 수 있음\n",
    "- 목적:\n",
    "    - 재사용, 가독성, 직관적임"
   ]
  },
  {
   "cell_type": "code",
   "execution_count": 12,
   "id": "0326c2ad-6fa0-49c5-87b1-f81594b8ecc2",
   "metadata": {},
   "outputs": [],
   "source": [
    "def document_it(func):\n",
    "    def new_func(*args, **kargs):\n",
    "        print('arguments: ', args)\n",
    "        print('key arguments: ', kargs)\n",
    "        return func(*args, **kargs)\n",
    "    \n",
    "    return new_func\n",
    "\n",
    "@document_it\n",
    "def add(a, b): # @document_it의 기능이 빨려들어가 있다.\n",
    "    return a + b\n",
    "\n",
    "@document_it\n",
    "def substract(a, b):\n",
    "    return a - b"
   ]
  },
  {
   "cell_type": "code",
   "execution_count": 13,
   "id": "44a58bd3-5bb0-4133-aa86-16ea40687d1c",
   "metadata": {},
   "outputs": [
    {
     "name": "stdout",
     "output_type": "stream",
     "text": [
      "arguments:  (1, 3)\n",
      "key arguments:  {}\n"
     ]
    },
    {
     "data": {
      "text/plain": [
       "4"
      ]
     },
     "execution_count": 13,
     "metadata": {},
     "output_type": "execute_result"
    }
   ],
   "source": [
    "add(1, 3)"
   ]
  },
  {
   "cell_type": "markdown",
   "id": "46d4d52b-7bfc-49a9-a0f1-d7f463723d2e",
   "metadata": {},
   "source": [
    "#### add를 활용할 중첩함수 만들기\n",
    "- 결과값의 제곱 값을 반환하는 클로저 함수 만들기"
   ]
  },
  {
   "cell_type": "code",
   "execution_count": 14,
   "id": "4ab1778b-6b17-4c4c-b8b1-2fe0d6f18a1e",
   "metadata": {},
   "outputs": [],
   "source": [
    "def square(func):\n",
    "    def inner(*args):\n",
    "        result = func(*args)\n",
    "        return result * result\n",
    "    return inner"
   ]
  },
  {
   "cell_type": "code",
   "execution_count": 15,
   "id": "5c4d4721-fcbd-4315-9544-61345b96523a",
   "metadata": {},
   "outputs": [],
   "source": [
    "@square\n",
    "def add(a, b):\n",
    "    return a + b"
   ]
  },
  {
   "cell_type": "code",
   "execution_count": 16,
   "id": "c78597fa-a42b-4847-981d-1cd846d9a320",
   "metadata": {},
   "outputs": [
    {
     "data": {
      "text/plain": [
       "49"
      ]
     },
     "execution_count": 16,
     "metadata": {},
     "output_type": "execute_result"
    }
   ],
   "source": [
    "add(3, 4) # 7 * 7"
   ]
  },
  {
   "cell_type": "markdown",
   "id": "6de576c4-43bf-441d-8142-b537a63100c0",
   "metadata": {},
   "source": [
    "#### scope: global, local, nonlocal\n",
    "- 내부함수는 외부함수의 인자를 \"참조\"만 할 수 있다. (읽기만 가능)\n",
    "- nonlocal 예약어를 활용"
   ]
  },
  {
   "cell_type": "code",
   "execution_count": 18,
   "id": "e4f7941d-63ca-4e62-86b9-cf13d6264caa",
   "metadata": {},
   "outputs": [],
   "source": [
    "# 전역 (global)\n",
    "a = 4\n",
    "\n",
    "def square(func):\n",
    "    # 지역 (local)\n",
    "    def inner(*args):\n",
    "        # 지역 내의 지역?\n",
    "        result = func(*args)\n",
    "        return result * result\n",
    "    return inner"
   ]
  },
  {
   "cell_type": "code",
   "execution_count": 19,
   "id": "e4d7c396-6214-4255-9530-2f92d31b513d",
   "metadata": {},
   "outputs": [
    {
     "data": {
      "text/plain": [
       "11"
      ]
     },
     "execution_count": 19,
     "metadata": {},
     "output_type": "execute_result"
    }
   ],
   "source": [
    "z = 3\n",
    "def outer(x): # x값 \"참조\" -> 연산은 불가능. \n",
    "    y = 4\n",
    "    def inner():\n",
    "        nonlocal x\n",
    "        # x = 1000\n",
    "        x += 1\n",
    "        return x\n",
    "    return inner()\n",
    "\n",
    "outer(10) # ?"
   ]
  },
  {
   "cell_type": "code",
   "execution_count": 20,
   "id": "c9a00a16-5ecc-461f-af85-a959e7a0bfe7",
   "metadata": {},
   "outputs": [],
   "source": [
    "def my_func(nums:list): # 가변인자 -> 리턴 없이도 리턴 얻음\n",
    "    # 문서화 => 사용자가 알 수 있게\n",
    "    nums.append(sum(nums))\n",
    "    \n",
    "a = [1, 2, 3]\n",
    "my_func(a)"
   ]
  },
  {
   "cell_type": "code",
   "execution_count": 21,
   "id": "f9c17de5-fefb-40fe-813c-156b182a6cdd",
   "metadata": {},
   "outputs": [
    {
     "data": {
      "text/plain": [
       "[1, 2, 3, 6]"
      ]
     },
     "execution_count": 21,
     "metadata": {},
     "output_type": "execute_result"
    }
   ],
   "source": [
    "a"
   ]
  },
  {
   "cell_type": "code",
   "execution_count": 22,
   "id": "e5eda12d-033b-433c-a6fa-e23a9cef9fc6",
   "metadata": {},
   "outputs": [],
   "source": [
    "my_func(a)\n",
    "my_func(a)\n",
    "my_func(a)"
   ]
  },
  {
   "cell_type": "code",
   "execution_count": 23,
   "id": "f772e663-697e-425d-9c22-ec220d4ac766",
   "metadata": {},
   "outputs": [
    {
     "data": {
      "text/plain": [
       "[1, 2, 3, 6, 12, 24, 48]"
      ]
     },
     "execution_count": 23,
     "metadata": {},
     "output_type": "execute_result"
    }
   ],
   "source": [
    "a"
   ]
  },
  {
   "cell_type": "markdown",
   "id": "38607717-ce3c-4814-acb9-85404309ed8b",
   "metadata": {},
   "source": [
    "### 실습\n",
    "1. 함수 : 차 속도, 제한 속도를 비교해서 true/false\n",
    "\n",
    "2. 데코레이터 함수\n",
    "- 만약 제한 속도를 초과했다면 얼마나 초과했는지 프린트하는 함수\n",
    "- 예ㅣ 100, 80\n",
    "- \"20 km/h 초과\""
   ]
  },
  {
   "cell_type": "code",
   "execution_count": 24,
   "id": "8e30fb65-e945-436d-afb7-fdff3cbf8718",
   "metadata": {},
   "outputs": [
    {
     "data": {
      "text/plain": [
       "True"
      ]
     },
     "execution_count": 24,
     "metadata": {},
     "output_type": "execute_result"
    }
   ],
   "source": [
    "def is_speeding(speed, limit):\n",
    "    return speed > limit\n",
    "\n",
    "is_speeding(100, 80)"
   ]
  },
  {
   "cell_type": "code",
   "execution_count": 25,
   "id": "2837264d-a94d-400d-adac-3be13118b26e",
   "metadata": {},
   "outputs": [
    {
     "data": {
      "text/plain": [
       "'초과 속도 : 20 km/h'"
      ]
     },
     "execution_count": 25,
     "metadata": {},
     "output_type": "execute_result"
    }
   ],
   "source": [
    "def calc_speed(func):\n",
    "    def inner(speed, limit):\n",
    "        if func(speed, limit):\n",
    "            return f'초과 속도 : {speed-limit} km/h'\n",
    "        else:\n",
    "            return '정상 속도'\n",
    "        return \n",
    "    return inner\n",
    "\n",
    "@calc_speed\n",
    "def is_speeding(speed, limit):\n",
    "    return speed > limit\n",
    "\n",
    "is_speeding(100, 80)"
   ]
  },
  {
   "cell_type": "markdown",
   "id": "4d720ab7-1e72-40dc-9408-8908f47b6a50",
   "metadata": {},
   "source": [
    "### 제너레이터\n",
    "- return -> yield\n",
    "- 순회의 리턴값을 하나씩 반환\n",
    "- 시퀸스를 생성하는 객체\n",
    "- 메모리 효율성 증대\n",
    "    - 한번 사용되고 메모리에서 사라짐"
   ]
  },
  {
   "cell_type": "code",
   "execution_count": 26,
   "id": "f9cb0104-20ad-4153-b45d-11ca6939a14f",
   "metadata": {},
   "outputs": [],
   "source": [
    "def test():\n",
    "    for i in range(5):\n",
    "        yield i"
   ]
  },
  {
   "cell_type": "code",
   "execution_count": 27,
   "id": "b4f7d83d-f3de-499f-8f63-61b8cc6c2ca3",
   "metadata": {},
   "outputs": [
    {
     "name": "stdout",
     "output_type": "stream",
     "text": [
      "0\n",
      "1\n",
      "2\n",
      "3\n",
      "4\n"
     ]
    }
   ],
   "source": [
    "for i in test():\n",
    "    print(i)"
   ]
  },
  {
   "cell_type": "code",
   "execution_count": 28,
   "id": "4e836c17-80d1-4e43-9690-0be6f126f7a9",
   "metadata": {},
   "outputs": [
    {
     "data": {
      "text/plain": [
       "<generator object test at 0x7ff9099aaeb0>"
      ]
     },
     "execution_count": 28,
     "metadata": {},
     "output_type": "execute_result"
    }
   ],
   "source": [
    "test()"
   ]
  },
  {
   "cell_type": "code",
   "execution_count": 29,
   "id": "2de427f9-c63c-4cde-bb42-3a7c4125aa98",
   "metadata": {},
   "outputs": [],
   "source": [
    "names = 'Kevin Michael Juliette Laura'.split()\n",
    "\n",
    "def printing(name_list:list):\n",
    "    for name in name_list:\n",
    "        yield name\n",
    "    \n",
    "name_list = printing(names) # 변수로 지정하고 쓰면 두 번째에 안 돌아감\n"
   ]
  },
  {
   "cell_type": "code",
   "execution_count": 30,
   "id": "f8c2a1be-38e1-4aac-9961-9955abd5e779",
   "metadata": {},
   "outputs": [
    {
     "name": "stdout",
     "output_type": "stream",
     "text": [
      "Kevin\n",
      "Michael\n",
      "Juliette\n",
      "Laura\n"
     ]
    }
   ],
   "source": [
    "for i in name_list:\n",
    "    print(i)"
   ]
  },
  {
   "cell_type": "code",
   "execution_count": 31,
   "id": "0a02d2a4-697c-4e3d-8091-f017b103bc6f",
   "metadata": {},
   "outputs": [
    {
     "name": "stdout",
     "output_type": "stream",
     "text": [
      "Kevin\n",
      "Michael\n",
      "Juliette\n",
      "Laura\n"
     ]
    }
   ],
   "source": [
    "for i in printing(names):\n",
    "    print(i)"
   ]
  },
  {
   "cell_type": "code",
   "execution_count": 32,
   "id": "8ff3c6e2-0009-430b-833d-bc57bd685792",
   "metadata": {},
   "outputs": [],
   "source": [
    "for i in name_list: # 안 돌아감\n",
    "    print(i)"
   ]
  },
  {
   "cell_type": "code",
   "execution_count": 33,
   "id": "9eafb7a1-e1c6-4b45-a476-8ae1f001541f",
   "metadata": {},
   "outputs": [
    {
     "name": "stdout",
     "output_type": "stream",
     "text": [
      "Kevin\n",
      "Michael\n",
      "Juliette\n",
      "Laura\n"
     ]
    }
   ],
   "source": [
    "for i in printing(names): # 2번째 사용에도 확인 가능 (변수에 담아 사용하지 않을 경우)\n",
    "    print(i)"
   ]
  },
  {
   "cell_type": "code",
   "execution_count": 34,
   "id": "bb14d93e-90f0-4439-9f60-24f827a50ff2",
   "metadata": {},
   "outputs": [],
   "source": [
    "# 실습  : range 함수 구현하기\n",
    "def my_range(start, end, step=1):\n",
    "    value = start\n",
    "    \n",
    "    while value < end:\n",
    "        yield value\n",
    "        value += step\n",
    "\n",
    "    \n",
    "ranger = my_range(1, 10)"
   ]
  },
  {
   "cell_type": "code",
   "execution_count": 35,
   "id": "25c29ed7-97ff-40d8-9bb3-73af772a08ef",
   "metadata": {},
   "outputs": [
    {
     "name": "stdout",
     "output_type": "stream",
     "text": [
      "1\n",
      "2\n",
      "3\n",
      "4\n",
      "5\n",
      "6\n",
      "7\n",
      "8\n",
      "9\n"
     ]
    }
   ],
   "source": [
    "for i in ranger:\n",
    "    print(i)"
   ]
  },
  {
   "cell_type": "code",
   "execution_count": 36,
   "id": "ad5a908c-2115-4ec6-854c-8b12e2ec92de",
   "metadata": {},
   "outputs": [
    {
     "data": {
      "text/plain": [
       "[0, 1, 2, 3, 4, 5, 6, 7, 8, 9]"
      ]
     },
     "execution_count": 36,
     "metadata": {},
     "output_type": "execute_result"
    }
   ],
   "source": [
    "[i for i in range(10)]"
   ]
  },
  {
   "cell_type": "code",
   "execution_count": 37,
   "id": "6dbf9974-742c-4859-9034-d1b70942416f",
   "metadata": {},
   "outputs": [
    {
     "data": {
      "text/plain": [
       "<generator object <genexpr> at 0x7ff9099b2ba0>"
      ]
     },
     "execution_count": 37,
     "metadata": {},
     "output_type": "execute_result"
    }
   ],
   "source": [
    "(i for i in range(10)) # generator"
   ]
  },
  {
   "cell_type": "code",
   "execution_count": 38,
   "id": "4f36bb38-bdc1-4540-aec7-aeb3205189ee",
   "metadata": {},
   "outputs": [],
   "source": [
    "ranger = (i for i in range(10))"
   ]
  },
  {
   "cell_type": "code",
   "execution_count": 39,
   "id": "9fb8f85a-cf16-48cb-aa0e-a239111764b2",
   "metadata": {},
   "outputs": [
    {
     "name": "stdout",
     "output_type": "stream",
     "text": [
      "K0\n",
      "K1\n",
      "K2\n",
      "K3\n",
      "K4\n",
      "K5\n",
      "K6\n",
      "K7\n",
      "K8\n",
      "K9\n"
     ]
    }
   ],
   "source": [
    "for i in ranger:\n",
    "    print(f'K{i}')"
   ]
  },
  {
   "cell_type": "code",
   "execution_count": 40,
   "id": "164180e3-16b2-4b94-a256-9ccfa79eaa37",
   "metadata": {},
   "outputs": [],
   "source": [
    "for i in ranger: # 한 번 더 사용 불가\n",
    "    print(f'K{i}')"
   ]
  },
  {
   "cell_type": "markdown",
   "id": "b177275e-5348-4f66-ad0b-a90e5d72a94e",
   "metadata": {},
   "source": [
    "### 재귀함수\n",
    "- 자기 자신을 호출하는 함수\n",
    "- 재귀가 너무 깊어지면 예외 발생. 주의해야 함\n",
    "- [[a, b], [[[a, b, c,], b], b, c]]\n",
    "=> 모든 요소의 차원을 단일화시킬 때 [a, b, a, b, c, ...]"
   ]
  },
  {
   "cell_type": "code",
   "execution_count": 41,
   "id": "33731746-dab6-442f-ab32-2af1266937a1",
   "metadata": {},
   "outputs": [],
   "source": [
    "def flatten(sent):\n",
    "    for word in sent:\n",
    "        if isinstance(word, list):\n",
    "            # 리스트가 맞다\n",
    "            for sub_word in flatten(word):\n",
    "                yield sub_word\n",
    "            # yield from altten(word) // 재귀함수를 이렇게 쓸 수도 있음.\n",
    "        else:\n",
    "            yield word\n",
    "            \n",
    "a = [1, 2, [2, 3, 4], [[[1, 2]]]]"
   ]
  },
  {
   "cell_type": "code",
   "execution_count": 42,
   "id": "6310a4d1-3608-4152-8b94-47e254517104",
   "metadata": {},
   "outputs": [
    {
     "name": "stdout",
     "output_type": "stream",
     "text": [
      "1\n",
      "2\n",
      "2\n",
      "3\n",
      "4\n",
      "1\n",
      "2\n"
     ]
    }
   ],
   "source": [
    "for i in flatten(a):\n",
    "    print(i)"
   ]
  },
  {
   "cell_type": "code",
   "execution_count": 43,
   "id": "ec19192d-0561-44f2-9610-9df5ad9857e4",
   "metadata": {},
   "outputs": [
    {
     "data": {
      "text/plain": [
       "False"
      ]
     },
     "execution_count": 43,
     "metadata": {},
     "output_type": "execute_result"
    }
   ],
   "source": [
    "isinstance('word', int)"
   ]
  },
  {
   "cell_type": "markdown",
   "id": "66cc6e5b-53c5-4b81-9394-a55817e3215e",
   "metadata": {
    "tags": []
   },
   "source": [
    "### 예외처리 | exception handling\n",
    "- 프로그램 동작 중 예외가 발생했을 때 대처하기 위함\n",
    "- 사용자에게 예외를 알리고, 원하는 조치를 설정한다.\n",
    "- 프로그램이 정상적으로 종료가 될 수 있다."
   ]
  },
  {
   "cell_type": "code",
   "execution_count": 47,
   "id": "51893a18-dfff-4c0d-9aa8-b676de65e8e3",
   "metadata": {},
   "outputs": [
    {
     "ename": "ZeroDivisionError",
     "evalue": "division by zero",
     "output_type": "error",
     "traceback": [
      "\u001b[0;31m---------------------------------------------------------------------------\u001b[0m",
      "\u001b[0;31mZeroDivisionError\u001b[0m                         Traceback (most recent call last)",
      "\u001b[0;32m/var/folders/_b/6lz4nnpx49579btkl7_ctft80000gn/T/ipykernel_1998/2219314525.py\u001b[0m in \u001b[0;36m<module>\u001b[0;34m\u001b[0m\n\u001b[0;32m----> 1\u001b[0;31m \u001b[0;36m5\u001b[0m \u001b[0;34m/\u001b[0m \u001b[0;36m0\u001b[0m\u001b[0;34m\u001b[0m\u001b[0;34m\u001b[0m\u001b[0m\n\u001b[0m",
      "\u001b[0;31mZeroDivisionError\u001b[0m: division by zero"
     ]
    }
   ],
   "source": [
    "5 / 0"
   ]
  },
  {
   "cell_type": "code",
   "execution_count": 48,
   "id": "50fae8ac-10db-4413-8543-7741d12e844a",
   "metadata": {},
   "outputs": [
    {
     "ename": "IndexError",
     "evalue": "list index out of range",
     "output_type": "error",
     "traceback": [
      "\u001b[0;31m---------------------------------------------------------------------------\u001b[0m",
      "\u001b[0;31mIndexError\u001b[0m                                Traceback (most recent call last)",
      "\u001b[0;32m/var/folders/_b/6lz4nnpx49579btkl7_ctft80000gn/T/ipykernel_1998/2277038320.py\u001b[0m in \u001b[0;36m<module>\u001b[0;34m\u001b[0m\n\u001b[1;32m      1\u001b[0m \u001b[0ma\u001b[0m \u001b[0;34m=\u001b[0m \u001b[0;34m[\u001b[0m\u001b[0;36m1\u001b[0m\u001b[0;34m,\u001b[0m \u001b[0;36m2\u001b[0m\u001b[0;34m,\u001b[0m \u001b[0;36m3\u001b[0m\u001b[0;34m]\u001b[0m\u001b[0;34m\u001b[0m\u001b[0;34m\u001b[0m\u001b[0m\n\u001b[0;32m----> 2\u001b[0;31m \u001b[0ma\u001b[0m\u001b[0;34m[\u001b[0m\u001b[0;36m5\u001b[0m\u001b[0;34m]\u001b[0m\u001b[0;34m\u001b[0m\u001b[0;34m\u001b[0m\u001b[0m\n\u001b[0m",
      "\u001b[0;31mIndexError\u001b[0m: list index out of range"
     ]
    }
   ],
   "source": [
    "a = [1, 2, 3]\n",
    "a[5]"
   ]
  },
  {
   "cell_type": "code",
   "execution_count": 49,
   "id": "fdb7f19f-d922-4c00-a05e-cccfd4a43e03",
   "metadata": {},
   "outputs": [
    {
     "ename": "ValueError",
     "evalue": "invalid literal for int() with base 10: 'hello'",
     "output_type": "error",
     "traceback": [
      "\u001b[0;31m---------------------------------------------------------------------------\u001b[0m",
      "\u001b[0;31mValueError\u001b[0m                                Traceback (most recent call last)",
      "\u001b[0;32m/var/folders/_b/6lz4nnpx49579btkl7_ctft80000gn/T/ipykernel_1998/1136785238.py\u001b[0m in \u001b[0;36m<module>\u001b[0;34m\u001b[0m\n\u001b[0;32m----> 1\u001b[0;31m \u001b[0mint\u001b[0m\u001b[0;34m(\u001b[0m\u001b[0;34m'hello'\u001b[0m\u001b[0;34m)\u001b[0m\u001b[0;34m\u001b[0m\u001b[0;34m\u001b[0m\u001b[0m\n\u001b[0m",
      "\u001b[0;31mValueError\u001b[0m: invalid literal for int() with base 10: 'hello'"
     ]
    }
   ],
   "source": [
    "int('hello')"
   ]
  },
  {
   "cell_type": "code",
   "execution_count": 50,
   "id": "a4daed2b-10e1-4128-95da-d4cacdb112a9",
   "metadata": {},
   "outputs": [
    {
     "ename": "NameError",
     "evalue": "name 'k' is not defined",
     "output_type": "error",
     "traceback": [
      "\u001b[0;31m---------------------------------------------------------------------------\u001b[0m",
      "\u001b[0;31mNameError\u001b[0m                                 Traceback (most recent call last)",
      "\u001b[0;32m/var/folders/_b/6lz4nnpx49579btkl7_ctft80000gn/T/ipykernel_1998/2542369611.py\u001b[0m in \u001b[0;36m<module>\u001b[0;34m\u001b[0m\n\u001b[0;32m----> 1\u001b[0;31m \u001b[0mk\u001b[0m \u001b[0;34m+=\u001b[0m \u001b[0;36m1\u001b[0m\u001b[0;34m\u001b[0m\u001b[0;34m\u001b[0m\u001b[0m\n\u001b[0m",
      "\u001b[0;31mNameError\u001b[0m: name 'k' is not defined"
     ]
    }
   ],
   "source": [
    "k += 1"
   ]
  },
  {
   "cell_type": "code",
   "execution_count": 44,
   "id": "35377b55-a81a-4f92-ada3-89b2a239292f",
   "metadata": {},
   "outputs": [
    {
     "name": "stdout",
     "output_type": "stream",
     "text": [
      "0으로 냐눌 수 없음\n"
     ]
    }
   ],
   "source": [
    "try:\n",
    "    # 예외가 발생할 수도 있는 코드 블럭\n",
    "    5/0\n",
    "except ZeroDivisionError:\n",
    "    # 예외 시 행할 행동\n",
    "    print('0으로 냐눌 수 없음')"
   ]
  },
  {
   "cell_type": "code",
   "execution_count": 45,
   "id": "b9f140cd-1e6e-4a21-8316-1ea9050059f0",
   "metadata": {},
   "outputs": [
    {
     "name": "stdout",
     "output_type": "stream",
     "text": [
      "0으로 냐눌 수 없음\n"
     ]
    }
   ],
   "source": [
    "try:\n",
    "    for i in range(10):\n",
    "        print(10 / i)\n",
    "except ZeroDivisionError:\n",
    "    # 예외 시 행할 행동\n",
    "    print('0으로 냐눌 수 없음')"
   ]
  },
  {
   "cell_type": "code",
   "execution_count": 46,
   "id": "2b9202dc-6287-418d-8c2d-03c5cb3d18c6",
   "metadata": {},
   "outputs": [
    {
     "name": "stdout",
     "output_type": "stream",
     "text": [
      "0으로 냐눌 수 없음\n",
      "10.0\n",
      "5.0\n",
      "3.3333333333333335\n",
      "2.5\n",
      "2.0\n",
      "1.6666666666666667\n",
      "1.4285714285714286\n",
      "1.25\n",
      "1.1111111111111112\n"
     ]
    }
   ],
   "source": [
    "for i in range(10):\n",
    "    try:\n",
    "        print(10 / i)\n",
    "    except ZeroDivisionError:\n",
    "        # 예외 시 행할 행동\n",
    "        print('0으로 냐눌 수 없음')"
   ]
  },
  {
   "cell_type": "code",
   "execution_count": 56,
   "id": "9f3477cc-b45a-4ad7-beda-db09f3a1b294",
   "metadata": {},
   "outputs": [
    {
     "name": "stdin",
     "output_type": "stream",
     "text": [
      "인덱스를 입력하세요 >> 3\n"
     ]
    },
    {
     "name": "stdout",
     "output_type": "stream",
     "text": [
      "l\n"
     ]
    },
    {
     "name": "stdin",
     "output_type": "stream",
     "text": [
      "인덱스를 입력하세요 >> 5\n"
     ]
    },
    {
     "name": "stdout",
     "output_type": "stream",
     "text": [
      "string index out of range\n"
     ]
    },
    {
     "name": "stdin",
     "output_type": "stream",
     "text": [
      "인덱스를 입력하세요 >> 7\n"
     ]
    },
    {
     "name": "stdout",
     "output_type": "stream",
     "text": [
      "string index out of range\n"
     ]
    },
    {
     "name": "stdin",
     "output_type": "stream",
     "text": [
      "인덱스를 입력하세요 >> q\n"
     ]
    }
   ],
   "source": [
    "word = 'hello'\n",
    "\n",
    "while True:\n",
    "    index = input('인덱스를 입력하세요 >>')\n",
    "    \n",
    "    if index == 'q':\n",
    "        break\n",
    "    try:\n",
    "        index = int(index) # ValueError, IndexError 2개  ### 다른 사람 리뷰 참고해서 word / index 확인\n",
    "        print(word[index])\n",
    "    except ValueError as e1: # 예외 핸들러\n",
    "        print(e1) # 에러 메시지\n",
    "    except IndexError as e2:\n",
    "        print(e2)"
   ]
  },
  {
   "cell_type": "markdown",
   "id": "7972ed78-e2c1-49e8-8b92-52b2dbf66d14",
   "metadata": {},
   "source": [
    "#### 예외 일으키기\n",
    "- 프로그램을 강제 종료시키기 위해 사용함\n",
    "- raise, assert\n",
    "- AssertionError\n"
   ]
  },
  {
   "cell_type": "code",
   "execution_count": 57,
   "id": "ed77776f-97ed-4bec-ae61-45f1ad7d6889",
   "metadata": {},
   "outputs": [
    {
     "name": "stdin",
     "output_type": "stream",
     "text": [
      "숫자 >>  z\n"
     ]
    },
    {
     "ename": "ValueError",
     "evalue": "숫자가 아닙니다!",
     "output_type": "error",
     "traceback": [
      "\u001b[0;31m---------------------------------------------------------------------------\u001b[0m",
      "\u001b[0;31mValueError\u001b[0m                                Traceback (most recent call last)",
      "\u001b[0;32m/var/folders/_b/6lz4nnpx49579btkl7_ctft80000gn/T/ipykernel_1998/1466288470.py\u001b[0m in \u001b[0;36m<module>\u001b[0;34m\u001b[0m\n\u001b[1;32m      2\u001b[0m     \u001b[0mnum\u001b[0m \u001b[0;34m=\u001b[0m \u001b[0minput\u001b[0m\u001b[0;34m(\u001b[0m\u001b[0;34m'숫자 >> '\u001b[0m\u001b[0;34m)\u001b[0m\u001b[0;34m\u001b[0m\u001b[0;34m\u001b[0m\u001b[0m\n\u001b[1;32m      3\u001b[0m     \u001b[0;32mif\u001b[0m \u001b[0;32mnot\u001b[0m \u001b[0mnum\u001b[0m\u001b[0;34m.\u001b[0m\u001b[0misdigit\u001b[0m\u001b[0;34m(\u001b[0m\u001b[0;34m)\u001b[0m\u001b[0;34m:\u001b[0m\u001b[0;34m\u001b[0m\u001b[0;34m\u001b[0m\u001b[0m\n\u001b[0;32m----> 4\u001b[0;31m         \u001b[0;32mraise\u001b[0m \u001b[0mValueError\u001b[0m\u001b[0;34m(\u001b[0m\u001b[0;34m'숫자가 아닙니다!'\u001b[0m\u001b[0;34m)\u001b[0m\u001b[0;34m\u001b[0m\u001b[0;34m\u001b[0m\u001b[0m\n\u001b[0m\u001b[1;32m      5\u001b[0m     \u001b[0;32melse\u001b[0m\u001b[0;34m:\u001b[0m\u001b[0;34m\u001b[0m\u001b[0;34m\u001b[0m\u001b[0m\n\u001b[1;32m      6\u001b[0m         \u001b[0mprint\u001b[0m\u001b[0;34m(\u001b[0m\u001b[0mint\u001b[0m\u001b[0;34m(\u001b[0m\u001b[0mnum\u001b[0m\u001b[0;34m)\u001b[0m \u001b[0;34m+\u001b[0m \u001b[0;36m5\u001b[0m\u001b[0;34m)\u001b[0m\u001b[0;34m\u001b[0m\u001b[0;34m\u001b[0m\u001b[0m\n",
      "\u001b[0;31mValueError\u001b[0m: 숫자가 아닙니다!"
     ]
    }
   ],
   "source": [
    "while True:\n",
    "    num = input('숫자 >> ')\n",
    "    if not num.isdigit():\n",
    "        raise ValueError('숫자가 아닙니다!')\n",
    "    else:\n",
    "        print(int(num) + 5)"
   ]
  },
  {
   "cell_type": "markdown",
   "id": "97fd5fcd-7ade-40d6-a628-1e1af985db14",
   "metadata": {},
   "source": [
    "#### assert <참인 조건>, <False일 경우 내보낼 메시지>"
   ]
  },
  {
   "cell_type": "code",
   "execution_count": 58,
   "id": "2756a46e-6805-4622-9946-8c7ad3e86857",
   "metadata": {},
   "outputs": [
    {
     "ename": "AssertionError",
     "evalue": "정수 아님",
     "output_type": "error",
     "traceback": [
      "\u001b[0;31m---------------------------------------------------------------------------\u001b[0m",
      "\u001b[0;31mAssertionError\u001b[0m                            Traceback (most recent call last)",
      "\u001b[0;32m/var/folders/_b/6lz4nnpx49579btkl7_ctft80000gn/T/ipykernel_1998/2294291567.py\u001b[0m in \u001b[0;36m<module>\u001b[0;34m\u001b[0m\n\u001b[1;32m      3\u001b[0m     \u001b[0;32mreturn\u001b[0m \u001b[0mbin\u001b[0m\u001b[0;34m(\u001b[0m\u001b[0mnum\u001b[0m\u001b[0;34m)\u001b[0m\u001b[0;34m\u001b[0m\u001b[0;34m\u001b[0m\u001b[0m\n\u001b[1;32m      4\u001b[0m \u001b[0;34m\u001b[0m\u001b[0m\n\u001b[0;32m----> 5\u001b[0;31m \u001b[0mget_binary\u001b[0m\u001b[0;34m(\u001b[0m\u001b[0;34m'10'\u001b[0m\u001b[0;34m)\u001b[0m\u001b[0;34m\u001b[0m\u001b[0;34m\u001b[0m\u001b[0m\n\u001b[0m",
      "\u001b[0;32m/var/folders/_b/6lz4nnpx49579btkl7_ctft80000gn/T/ipykernel_1998/2294291567.py\u001b[0m in \u001b[0;36mget_binary\u001b[0;34m(num)\u001b[0m\n\u001b[1;32m      1\u001b[0m \u001b[0;32mdef\u001b[0m \u001b[0mget_binary\u001b[0m\u001b[0;34m(\u001b[0m\u001b[0mnum\u001b[0m\u001b[0;34m)\u001b[0m\u001b[0;34m:\u001b[0m\u001b[0;34m\u001b[0m\u001b[0;34m\u001b[0m\u001b[0m\n\u001b[0;32m----> 2\u001b[0;31m     \u001b[0;32massert\u001b[0m \u001b[0misinstance\u001b[0m\u001b[0;34m(\u001b[0m\u001b[0mnum\u001b[0m\u001b[0;34m,\u001b[0m \u001b[0mint\u001b[0m\u001b[0;34m)\u001b[0m\u001b[0;34m,\u001b[0m \u001b[0;34m'정수 아님'\u001b[0m\u001b[0;34m\u001b[0m\u001b[0;34m\u001b[0m\u001b[0m\n\u001b[0m\u001b[1;32m      3\u001b[0m     \u001b[0;32mreturn\u001b[0m \u001b[0mbin\u001b[0m\u001b[0;34m(\u001b[0m\u001b[0mnum\u001b[0m\u001b[0;34m)\u001b[0m\u001b[0;34m\u001b[0m\u001b[0;34m\u001b[0m\u001b[0m\n\u001b[1;32m      4\u001b[0m \u001b[0;34m\u001b[0m\u001b[0m\n\u001b[1;32m      5\u001b[0m \u001b[0mget_binary\u001b[0m\u001b[0;34m(\u001b[0m\u001b[0;34m'10'\u001b[0m\u001b[0;34m)\u001b[0m\u001b[0;34m\u001b[0m\u001b[0;34m\u001b[0m\u001b[0m\n",
      "\u001b[0;31mAssertionError\u001b[0m: 정수 아님"
     ]
    }
   ],
   "source": [
    "def get_binary(num):\n",
    "    assert isinstance(num, int), '정수 아님'\n",
    "    return bin(num)\n",
    "\n",
    "get_binary('10')"
   ]
  },
  {
   "cell_type": "markdown",
   "id": "a6e014e3-3fe9-454c-b0f9-15757c12ce06",
   "metadata": {},
   "source": [
    "### 사용자 정의 예외 타입\n",
    "- class 선언, Exception 클래스를 상속 받는다."
   ]
  },
  {
   "cell_type": "code",
   "execution_count": 59,
   "id": "9f5c6e9b-d0b6-4370-8178-7adc220eef51",
   "metadata": {},
   "outputs": [],
   "source": [
    "class MyException(Exception):\n",
    "    pass"
   ]
  },
  {
   "cell_type": "code",
   "execution_count": 60,
   "id": "693bde86-baf2-4795-a892-cfae9d04fdc8",
   "metadata": {},
   "outputs": [
    {
     "name": "stdout",
     "output_type": "stream",
     "text": [
      "dublin\n",
      "newyork\n",
      "seoul\n"
     ]
    },
    {
     "ename": "NameError",
     "evalue": "name 'UppercaseException' is not defined",
     "output_type": "error",
     "traceback": [
      "\u001b[0;31m---------------------------------------------------------------------------\u001b[0m",
      "\u001b[0;31mNameError\u001b[0m                                 Traceback (most recent call last)",
      "\u001b[0;32m/var/folders/_b/6lz4nnpx49579btkl7_ctft80000gn/T/ipykernel_1998/3109887086.py\u001b[0m in \u001b[0;36m<module>\u001b[0;34m\u001b[0m\n\u001b[1;32m      4\u001b[0m     \u001b[0;32mif\u001b[0m \u001b[0mcity\u001b[0m\u001b[0;34m.\u001b[0m\u001b[0misupper\u001b[0m\u001b[0;34m(\u001b[0m\u001b[0;34m)\u001b[0m\u001b[0;34m:\u001b[0m\u001b[0;34m\u001b[0m\u001b[0;34m\u001b[0m\u001b[0m\n\u001b[1;32m      5\u001b[0m         \u001b[0;31m#MyException('대문자 안됨')\u001b[0m\u001b[0;34m\u001b[0m\u001b[0;34m\u001b[0m\u001b[0m\n\u001b[0;32m----> 6\u001b[0;31m         \u001b[0;32mraise\u001b[0m \u001b[0mUppercaseException\u001b[0m\u001b[0;34m\u001b[0m\u001b[0;34m\u001b[0m\u001b[0m\n\u001b[0m\u001b[1;32m      7\u001b[0m     \u001b[0;32melse\u001b[0m\u001b[0;34m:\u001b[0m\u001b[0;34m\u001b[0m\u001b[0;34m\u001b[0m\u001b[0m\n\u001b[1;32m      8\u001b[0m         \u001b[0mprint\u001b[0m\u001b[0;34m(\u001b[0m\u001b[0mcity\u001b[0m\u001b[0;34m)\u001b[0m\u001b[0;34m\u001b[0m\u001b[0;34m\u001b[0m\u001b[0m\n",
      "\u001b[0;31mNameError\u001b[0m: name 'UppercaseException' is not defined"
     ]
    }
   ],
   "source": [
    "cities = 'dublin newyork seoul TOKYO'.split()\n",
    "\n",
    "for city in cities:\n",
    "    if city.isupper():\n",
    "        #MyException('대문자 안됨')\n",
    "        raise UppercaseException\n",
    "    else:\n",
    "        print(city)"
   ]
  },
  {
   "cell_type": "code",
   "execution_count": 61,
   "id": "08fa7979-6964-47ae-a35a-31a6c7ca2b49",
   "metadata": {},
   "outputs": [],
   "source": [
    "class UppercaseException(Exception):\n",
    "    def __init__(self):\n",
    "        super().__init__('대문자 안된다구')"
   ]
  },
  {
   "cell_type": "code",
   "execution_count": 62,
   "id": "42a66dfc-82b4-47b2-a73c-0f7f0f594312",
   "metadata": {},
   "outputs": [],
   "source": [
    "# 매개변수의 타입을 따져서 에러를 발생시켜보기\n",
    "\n",
    "class InstanceError(Exception):\n",
    "    def __init__(self):\n",
    "        super().__init__('잘못된 자료형입니다.')"
   ]
  },
  {
   "cell_type": "code",
   "execution_count": 63,
   "id": "f5ecd0b9-c968-4da8-a6e4-6c9f0e78d324",
   "metadata": {},
   "outputs": [],
   "source": [
    "def substract(a):\n",
    "    if not isinstance(a, int):\n",
    "        raise InstanceError\n",
    "    return a-1"
   ]
  },
  {
   "cell_type": "code",
   "execution_count": 64,
   "id": "74666d15-16db-4b6a-8465-3a3daebd4c98",
   "metadata": {},
   "outputs": [
    {
     "ename": "InstanceError",
     "evalue": "잘못된 자료형입니다.",
     "output_type": "error",
     "traceback": [
      "\u001b[0;31m---------------------------------------------------------------------------\u001b[0m",
      "\u001b[0;31mInstanceError\u001b[0m                             Traceback (most recent call last)",
      "\u001b[0;32m/var/folders/_b/6lz4nnpx49579btkl7_ctft80000gn/T/ipykernel_1998/3033996920.py\u001b[0m in \u001b[0;36m<module>\u001b[0;34m\u001b[0m\n\u001b[0;32m----> 1\u001b[0;31m \u001b[0msubstract\u001b[0m\u001b[0;34m(\u001b[0m\u001b[0;34m'4'\u001b[0m\u001b[0;34m)\u001b[0m\u001b[0;34m\u001b[0m\u001b[0;34m\u001b[0m\u001b[0m\n\u001b[0m",
      "\u001b[0;32m/var/folders/_b/6lz4nnpx49579btkl7_ctft80000gn/T/ipykernel_1998/819620086.py\u001b[0m in \u001b[0;36msubstract\u001b[0;34m(a)\u001b[0m\n\u001b[1;32m      1\u001b[0m \u001b[0;32mdef\u001b[0m \u001b[0msubstract\u001b[0m\u001b[0;34m(\u001b[0m\u001b[0ma\u001b[0m\u001b[0;34m)\u001b[0m\u001b[0;34m:\u001b[0m\u001b[0;34m\u001b[0m\u001b[0;34m\u001b[0m\u001b[0m\n\u001b[1;32m      2\u001b[0m     \u001b[0;32mif\u001b[0m \u001b[0;32mnot\u001b[0m \u001b[0misinstance\u001b[0m\u001b[0;34m(\u001b[0m\u001b[0ma\u001b[0m\u001b[0;34m,\u001b[0m \u001b[0mint\u001b[0m\u001b[0;34m)\u001b[0m\u001b[0;34m:\u001b[0m\u001b[0;34m\u001b[0m\u001b[0;34m\u001b[0m\u001b[0m\n\u001b[0;32m----> 3\u001b[0;31m         \u001b[0;32mraise\u001b[0m \u001b[0mInstanceError\u001b[0m\u001b[0;34m\u001b[0m\u001b[0;34m\u001b[0m\u001b[0m\n\u001b[0m\u001b[1;32m      4\u001b[0m     \u001b[0;32mreturn\u001b[0m \u001b[0ma\u001b[0m\u001b[0;34m-\u001b[0m\u001b[0;36m1\u001b[0m\u001b[0;34m\u001b[0m\u001b[0;34m\u001b[0m\u001b[0m\n",
      "\u001b[0;31mInstanceError\u001b[0m: 잘못된 자료형입니다."
     ]
    }
   ],
   "source": [
    "substract('4')"
   ]
  },
  {
   "cell_type": "code",
   "execution_count": 65,
   "id": "4f7ae3ca-1c64-4b78-95e1-a8350b41cc41",
   "metadata": {},
   "outputs": [],
   "source": [
    "def substract(a):\n",
    "    assert isinstance(a, int), '매개변수는 int 자료형'\n",
    "    return a-1"
   ]
  },
  {
   "cell_type": "code",
   "execution_count": 66,
   "id": "f376e356-47a7-42f4-a389-5daddc7dc8b1",
   "metadata": {},
   "outputs": [
    {
     "ename": "AssertionError",
     "evalue": "매개변수는 int 자료형",
     "output_type": "error",
     "traceback": [
      "\u001b[0;31m---------------------------------------------------------------------------\u001b[0m",
      "\u001b[0;31mAssertionError\u001b[0m                            Traceback (most recent call last)",
      "\u001b[0;32m/var/folders/_b/6lz4nnpx49579btkl7_ctft80000gn/T/ipykernel_1998/2627358660.py\u001b[0m in \u001b[0;36m<module>\u001b[0;34m\u001b[0m\n\u001b[0;32m----> 1\u001b[0;31m \u001b[0msubstract\u001b[0m\u001b[0;34m(\u001b[0m\u001b[0;36m2.5\u001b[0m\u001b[0;34m)\u001b[0m\u001b[0;34m\u001b[0m\u001b[0;34m\u001b[0m\u001b[0m\n\u001b[0m",
      "\u001b[0;32m/var/folders/_b/6lz4nnpx49579btkl7_ctft80000gn/T/ipykernel_1998/3635425283.py\u001b[0m in \u001b[0;36msubstract\u001b[0;34m(a)\u001b[0m\n\u001b[1;32m      1\u001b[0m \u001b[0;32mdef\u001b[0m \u001b[0msubstract\u001b[0m\u001b[0;34m(\u001b[0m\u001b[0ma\u001b[0m\u001b[0;34m)\u001b[0m\u001b[0;34m:\u001b[0m\u001b[0;34m\u001b[0m\u001b[0;34m\u001b[0m\u001b[0m\n\u001b[0;32m----> 2\u001b[0;31m     \u001b[0;32massert\u001b[0m \u001b[0misinstance\u001b[0m\u001b[0;34m(\u001b[0m\u001b[0ma\u001b[0m\u001b[0;34m,\u001b[0m \u001b[0mint\u001b[0m\u001b[0;34m)\u001b[0m\u001b[0;34m,\u001b[0m \u001b[0;34m'매개변수는 int 자료형'\u001b[0m\u001b[0;34m\u001b[0m\u001b[0;34m\u001b[0m\u001b[0m\n\u001b[0m\u001b[1;32m      3\u001b[0m     \u001b[0;32mreturn\u001b[0m \u001b[0ma\u001b[0m\u001b[0;34m-\u001b[0m\u001b[0;36m1\u001b[0m\u001b[0;34m\u001b[0m\u001b[0;34m\u001b[0m\u001b[0m\n",
      "\u001b[0;31mAssertionError\u001b[0m: 매개변수는 int 자료형"
     ]
    }
   ],
   "source": [
    "substract(2.5)"
   ]
  }
 ],
 "metadata": {
  "kernelspec": {
   "display_name": "Python 3 (ipykernel)",
   "language": "python",
   "name": "python3"
  },
  "language_info": {
   "codemirror_mode": {
    "name": "ipython",
    "version": 3
   },
   "file_extension": ".py",
   "mimetype": "text/x-python",
   "name": "python",
   "nbconvert_exporter": "python",
   "pygments_lexer": "ipython3",
   "version": "3.9.7"
  }
 },
 "nbformat": 4,
 "nbformat_minor": 5
}
