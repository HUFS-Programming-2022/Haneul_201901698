{
 "cells": [
  {
   "cell_type": "markdown",
   "id": "a5cb3d4b-1d65-4037-8f39-dad2f502d16e",
   "metadata": {},
   "source": [
    "# Week_15"
   ]
  },
  {
   "cell_type": "markdown",
   "id": "f37cf7e4-b52a-4908-8cf0-cf1ab0ae3221",
   "metadata": {},
   "source": [
    "### 파일과 디렉터리\n",
    "- 파일 : 컴퓨터를 실행할 때 가장 기본이 되는 단위\n",
    "- 디렉터리 : 폴더, 파일을 논리적으로 묶어놓은 단위\n",
    "    - 지빠구리 : a, b, c, ...\n",
    "- 파일 = 파일명 + 확장자(.txt, .csv, ...)\n",
    "- 바이너리, 텍스트\n",
    "    - 바이너리: 엑셀, 워드, ...\n",
    "    - 텍스트: 바이너리 -> 문자로 변환\n",
    "        - 메모장, python, html, ...\n",
    "        - 기준 : 아스키코드, 유니코드 제정 (\"인코딩\")\n",
    "        - utf-8\n",
    "        - cp494\n",
    "- f = open(파일명, 모드)\n",
    "    - r : read (default)\n",
    "    - w : write (없으면 새로 만들고 있으면 덮어쓴다)\n",
    "    - a : add (기존 파일에 마지막에 추가)\n",
    "    - x : write (없을 때만 쓸 수 있게)\n",
    "    \n",
    "    - b : 바이너리로 작성 (특별히 필요하지 않는 한 잘 안 씀)\n",
    "    - t : (default) 텍스트 파일로 작성\n",
    "        - rb, rt, ..."
   ]
  },
  {
   "cell_type": "code",
   "execution_count": 5,
   "id": "f674c4fc-5890-43bd-87f5-bd32f89670ff",
   "metadata": {},
   "outputs": [],
   "source": [
    "f = open('test.txt', 'r')\n",
    "data = f.read() # read 안에 숫자 넣으면 그 개수만큼만 불러올 수 있음"
   ]
  },
  {
   "cell_type": "code",
   "execution_count": 6,
   "id": "2b6e24fd-9aa8-4950-ac69-70da94794061",
   "metadata": {},
   "outputs": [
    {
     "data": {
      "text/plain": [
       "'hello'"
      ]
     },
     "execution_count": 6,
     "metadata": {},
     "output_type": "execute_result"
    }
   ],
   "source": [
    "f = open('test.txt', 'r')\n",
    "f.read(5)"
   ]
  },
  {
   "cell_type": "code",
   "execution_count": 7,
   "id": "6a41417e-de0a-4780-871c-76c05f043ec6",
   "metadata": {},
   "outputs": [
    {
     "data": {
      "text/plain": [
       "\"hello world\\nI'm reading a book.\""
      ]
     },
     "execution_count": 7,
     "metadata": {},
     "output_type": "execute_result"
    }
   ],
   "source": [
    "data"
   ]
  },
  {
   "cell_type": "code",
   "execution_count": 8,
   "id": "34e0d7e4-db81-4c43-a1c2-f81dbb6ef558",
   "metadata": {},
   "outputs": [],
   "source": [
    "f.close()\n",
    "# 파일은 한 번 열면 꼭 닫아주기 // 자원 해제 -> 다른 프로그램에서 동시에 호출하면 에러"
   ]
  },
  {
   "cell_type": "markdown",
   "id": "3d758e00-dd1b-411f-846a-6bb43fa61778",
   "metadata": {},
   "source": [
    "with open(파일, 모드) as f:\n",
    "    .... open 함수 기능이 유지되는 블록\n",
    "    data = f.read()\n",
    "    \n",
    "자원 해제됨 (자동) / close를 명시하지 않아도 파일 닫힘"
   ]
  },
  {
   "cell_type": "code",
   "execution_count": 9,
   "id": "a3919eab-8551-4eec-ab91-9ae164d91f29",
   "metadata": {},
   "outputs": [
    {
     "data": {
      "text/plain": [
       "'hello world\\n'"
      ]
     },
     "execution_count": 9,
     "metadata": {},
     "output_type": "execute_result"
    }
   ],
   "source": [
    "with open('test.txt', 'r') as f:\n",
    "    data = f.readline()\n",
    "    \n",
    "data"
   ]
  },
  {
   "cell_type": "code",
   "execution_count": 10,
   "id": "02e423ec-2747-42be-8ae1-ed09aa444b9f",
   "metadata": {},
   "outputs": [
    {
     "data": {
      "text/plain": [
       "['hello world', \"I'm reading a book.\"]"
      ]
     },
     "execution_count": 10,
     "metadata": {},
     "output_type": "execute_result"
    }
   ],
   "source": [
    "with open('test.txt', 'r') as f:\n",
    "    data = f.readlines()\n",
    "    # 텍스트 정제\n",
    "    data = [line.strip() for line in data]\n",
    "    \n",
    "data"
   ]
  },
  {
   "cell_type": "code",
   "execution_count": 11,
   "id": "458050f1-6373-4864-aee5-7ca8cf1e19a7",
   "metadata": {},
   "outputs": [],
   "source": [
    "# read() : str\n",
    "# readline() : 한 줄 씩\n",
    "# readlines() : 전체를 한 줄 씩 str 담아서 리스트로"
   ]
  },
  {
   "cell_type": "code",
   "execution_count": 14,
   "id": "75ad6c89-2274-4d58-ba8f-cf930da62e31",
   "metadata": {},
   "outputs": [
    {
     "data": {
      "text/plain": [
       "\"hello world. I'm reading a book.\""
      ]
     },
     "execution_count": 14,
     "metadata": {},
     "output_type": "execute_result"
    }
   ],
   "source": [
    "# readlines()를 문자열로 만들면?\n",
    "with open('test.txt', 'r') as f:\n",
    "    data = f.readlines()\n",
    "    # 텍스트 정제\n",
    "    data = [line.strip() for line in data]\n",
    "    data = '. '.join(data)\n",
    "    \n",
    "data"
   ]
  },
  {
   "cell_type": "code",
   "execution_count": 17,
   "id": "cb342f4b-b554-43c3-8f31-0d515ceb5cb1",
   "metadata": {},
   "outputs": [
    {
     "ename": "FileNotFoundError",
     "evalue": "[Errno 2] No such file or directory: '../text22.txt'",
     "output_type": "error",
     "traceback": [
      "\u001b[0;31m---------------------------------------------------------------------------\u001b[0m",
      "\u001b[0;31mFileNotFoundError\u001b[0m                         Traceback (most recent call last)",
      "\u001b[0;32m/var/folders/_b/6lz4nnpx49579btkl7_ctft80000gn/T/ipykernel_1206/3285849906.py\u001b[0m in \u001b[0;36m<module>\u001b[0;34m\u001b[0m\n\u001b[1;32m      1\u001b[0m \u001b[0mfile\u001b[0m \u001b[0;34m=\u001b[0m \u001b[0;34m'../text22.txt'\u001b[0m\u001b[0;34m\u001b[0m\u001b[0;34m\u001b[0m\u001b[0m\n\u001b[1;32m      2\u001b[0m \u001b[0;34m\u001b[0m\u001b[0m\n\u001b[0;32m----> 3\u001b[0;31m \u001b[0;32mwith\u001b[0m \u001b[0mopen\u001b[0m\u001b[0;34m(\u001b[0m\u001b[0mfile\u001b[0m\u001b[0;34m)\u001b[0m \u001b[0;32mas\u001b[0m \u001b[0mf\u001b[0m\u001b[0;34m:\u001b[0m\u001b[0;34m\u001b[0m\u001b[0;34m\u001b[0m\u001b[0m\n\u001b[0m\u001b[1;32m      4\u001b[0m     \u001b[0mf\u001b[0m\u001b[0;34m.\u001b[0m\u001b[0mread\u001b[0m\u001b[0;34m(\u001b[0m\u001b[0;34m)\u001b[0m \u001b[0;31m# 이 위치에 없기 떄문에 에러 발생\u001b[0m\u001b[0;34m\u001b[0m\u001b[0;34m\u001b[0m\u001b[0m\n",
      "\u001b[0;31mFileNotFoundError\u001b[0m: [Errno 2] No such file or directory: '../text22.txt'"
     ]
    }
   ],
   "source": [
    "file = '../text22.txt'\n",
    "\n",
    "with open(file) as f:\n",
    "    f.read() # 이 위치에 없기 떄문에 에러 발생"
   ]
  },
  {
   "cell_type": "code",
   "execution_count": 18,
   "id": "971759db-c4c5-4c65-bfd9-5743650a2b45",
   "metadata": {},
   "outputs": [
    {
     "name": "stdout",
     "output_type": "stream",
     "text": [
      "/Users/parkhaneul/Advanced_Python/Review\n"
     ]
    }
   ],
   "source": [
    "!pwd"
   ]
  },
  {
   "cell_type": "code",
   "execution_count": 19,
   "id": "59d4a4bb-eb79-47d2-aee8-3fab8924217b",
   "metadata": {},
   "outputs": [],
   "source": [
    "# . : 현재 위치\n",
    "# .. : 상위 디렉터리"
   ]
  },
  {
   "cell_type": "markdown",
   "id": "2b9c661a-e5a8-4f8f-b068-d4370c1a6bb4",
   "metadata": {},
   "source": [
    "#### 쓰기"
   ]
  },
  {
   "cell_type": "code",
   "execution_count": 20,
   "id": "f2100ee3-2202-42ca-b3e8-2e4c09edce71",
   "metadata": {},
   "outputs": [],
   "source": [
    "file = 'test3.txt'\n",
    "f = open(file, 'w', encoding = 'utf-8')"
   ]
  },
  {
   "cell_type": "code",
   "execution_count": 21,
   "id": "18b77669-e9b1-41f1-9973-3cb885008403",
   "metadata": {},
   "outputs": [],
   "source": [
    "for i in range(10):\n",
    "    data = f'{i}번째 줄입니다.\\n'\n",
    "    f.write(data)"
   ]
  },
  {
   "cell_type": "code",
   "execution_count": 22,
   "id": "169d368f-12b2-425d-9ad9-66e2fb587e38",
   "metadata": {},
   "outputs": [],
   "source": [
    "f.close()"
   ]
  },
  {
   "cell_type": "code",
   "execution_count": 24,
   "id": "0d8758d3-cb28-43af-917d-4b4b5e74002a",
   "metadata": {},
   "outputs": [],
   "source": [
    "f = open(file, 'a')\n",
    "print('새로운 줄 추가', file=f) # 프린트에서도 간단하게 추가 가능"
   ]
  },
  {
   "cell_type": "code",
   "execution_count": 25,
   "id": "304f1fe6-41f0-4fad-a9de-cd795ef7d09b",
   "metadata": {},
   "outputs": [],
   "source": [
    "f.close()"
   ]
  },
  {
   "cell_type": "markdown",
   "id": "f43016f4-2bf4-4fee-b008-1b5797454efa",
   "metadata": {},
   "source": [
    "#### 다른 디렉토리에 파일 쓰기\n",
    "os"
   ]
  },
  {
   "cell_type": "code",
   "execution_count": 26,
   "id": "bb4636f5-1841-47ea-bd6f-45687870cad6",
   "metadata": {},
   "outputs": [],
   "source": [
    "import os"
   ]
  },
  {
   "cell_type": "code",
   "execution_count": 29,
   "id": "189653c2-0a56-474b-9d34-8181a3e04106",
   "metadata": {},
   "outputs": [],
   "source": [
    "file = './folder1/text3.txt'\n",
    "f = open(file, 'w', encoding = 'utf-8')\n",
    "f.close()"
   ]
  },
  {
   "cell_type": "code",
   "execution_count": 30,
   "id": "299d0b68-f8ab-4baf-b803-9cadd7f64169",
   "metadata": {},
   "outputs": [
    {
     "ename": "FileExistsError",
     "evalue": "[Errno 17] File exists: 'folder1'",
     "output_type": "error",
     "traceback": [
      "\u001b[0;31m---------------------------------------------------------------------------\u001b[0m",
      "\u001b[0;31mFileExistsError\u001b[0m                           Traceback (most recent call last)",
      "\u001b[0;32m/var/folders/_b/6lz4nnpx49579btkl7_ctft80000gn/T/ipykernel_1206/459203926.py\u001b[0m in \u001b[0;36m<module>\u001b[0;34m\u001b[0m\n\u001b[1;32m      1\u001b[0m \u001b[0;31m# folder 만들고\u001b[0m\u001b[0;34m\u001b[0m\u001b[0;34m\u001b[0m\u001b[0m\n\u001b[0;32m----> 2\u001b[0;31m \u001b[0mos\u001b[0m\u001b[0;34m.\u001b[0m\u001b[0mmkdir\u001b[0m\u001b[0;34m(\u001b[0m\u001b[0;34m'folder1'\u001b[0m\u001b[0;34m)\u001b[0m\u001b[0;34m\u001b[0m\u001b[0;34m\u001b[0m\u001b[0m\n\u001b[0m\u001b[1;32m      3\u001b[0m \u001b[0;31m# mkdir = make directory\u001b[0m\u001b[0;34m\u001b[0m\u001b[0;34m\u001b[0m\u001b[0m\n\u001b[1;32m      4\u001b[0m \u001b[0;31m# 파일 쓰기\u001b[0m\u001b[0;34m\u001b[0m\u001b[0;34m\u001b[0m\u001b[0m\n",
      "\u001b[0;31mFileExistsError\u001b[0m: [Errno 17] File exists: 'folder1'"
     ]
    }
   ],
   "source": [
    "# folder 만들고\n",
    "os.mkdir('folder1')\n",
    "# mkdir = make directory\n",
    "# 파일 쓰기"
   ]
  },
  {
   "cell_type": "code",
   "execution_count": 31,
   "id": "383d0c6d-9bb0-4d8f-b5cb-028ba61bb5fa",
   "metadata": {},
   "outputs": [
    {
     "ename": "FileExistsError",
     "evalue": "[Errno 17] File exists: 'folder1'",
     "output_type": "error",
     "traceback": [
      "\u001b[0;31m---------------------------------------------------------------------------\u001b[0m",
      "\u001b[0;31mFileExistsError\u001b[0m                           Traceback (most recent call last)",
      "\u001b[0;32m/var/folders/_b/6lz4nnpx49579btkl7_ctft80000gn/T/ipykernel_1206/2639601376.py\u001b[0m in \u001b[0;36m<module>\u001b[0;34m\u001b[0m\n\u001b[1;32m      1\u001b[0m \u001b[0;31m# 없을 때 만들어라\u001b[0m\u001b[0;34m\u001b[0m\u001b[0;34m\u001b[0m\u001b[0m\n\u001b[1;32m      2\u001b[0m \u001b[0;32mif\u001b[0m \u001b[0;32mnot\u001b[0m \u001b[0mos\u001b[0m\u001b[0;34m.\u001b[0m\u001b[0mpath\u001b[0m\u001b[0;34m.\u001b[0m\u001b[0misdir\u001b[0m\u001b[0;34m(\u001b[0m\u001b[0;34m'folder'\u001b[0m\u001b[0;34m)\u001b[0m\u001b[0;34m:\u001b[0m\u001b[0;34m\u001b[0m\u001b[0;34m\u001b[0m\u001b[0m\n\u001b[0;32m----> 3\u001b[0;31m     \u001b[0mos\u001b[0m\u001b[0;34m.\u001b[0m\u001b[0mmkdir\u001b[0m\u001b[0;34m(\u001b[0m\u001b[0;34m'folder1'\u001b[0m\u001b[0;34m)\u001b[0m\u001b[0;34m\u001b[0m\u001b[0;34m\u001b[0m\u001b[0m\n\u001b[0m\u001b[1;32m      4\u001b[0m \u001b[0;31m# isdir = is directory (있냐, 없냐)\u001b[0m\u001b[0;34m\u001b[0m\u001b[0;34m\u001b[0m\u001b[0m\n",
      "\u001b[0;31mFileExistsError\u001b[0m: [Errno 17] File exists: 'folder1'"
     ]
    }
   ],
   "source": [
    "# 없을 때 만들어라\n",
    "if not os.path.isdir('folder'):\n",
    "    os.mkdir('folder1')\n",
    "# isdir = is directory (있냐, 없냐)"
   ]
  },
  {
   "cell_type": "code",
   "execution_count": 32,
   "id": "a67f0e12-d3fb-4418-9fa1-3587bbdf8e05",
   "metadata": {},
   "outputs": [
    {
     "data": {
      "text/plain": [
       "True"
      ]
     },
     "execution_count": 32,
     "metadata": {},
     "output_type": "execute_result"
    }
   ],
   "source": [
    "os.path.exists(file) # 파일 있는지 없는지 확인 / assert"
   ]
  },
  {
   "cell_type": "code",
   "execution_count": 33,
   "id": "05fb57a5-d230-4370-af35-1156e2d3fce5",
   "metadata": {},
   "outputs": [
    {
     "ename": "NameError",
     "evalue": "name 'dir_name' is not defined",
     "output_type": "error",
     "traceback": [
      "\u001b[0;31m---------------------------------------------------------------------------\u001b[0m",
      "\u001b[0;31mNameError\u001b[0m                                 Traceback (most recent call last)",
      "\u001b[0;32m/var/folders/_b/6lz4nnpx49579btkl7_ctft80000gn/T/ipykernel_1206/4089009968.py\u001b[0m in \u001b[0;36m<module>\u001b[0;34m\u001b[0m\n\u001b[1;32m      1\u001b[0m \u001b[0mos\u001b[0m\u001b[0;34m.\u001b[0m\u001b[0mremove\u001b[0m\u001b[0;34m(\u001b[0m\u001b[0mfile\u001b[0m\u001b[0;34m)\u001b[0m \u001b[0;31m# 파일 지우기\u001b[0m\u001b[0;34m\u001b[0m\u001b[0;34m\u001b[0m\u001b[0m\n\u001b[0;32m----> 2\u001b[0;31m \u001b[0mos\u001b[0m\u001b[0;34m.\u001b[0m\u001b[0mrmdir\u001b[0m\u001b[0;34m(\u001b[0m\u001b[0mdir_name\u001b[0m\u001b[0;34m)\u001b[0m \u001b[0;31m# 디렉터리 지우기\u001b[0m\u001b[0;34m\u001b[0m\u001b[0;34m\u001b[0m\u001b[0m\n\u001b[0m",
      "\u001b[0;31mNameError\u001b[0m: name 'dir_name' is not defined"
     ]
    }
   ],
   "source": [
    "os.remove(file) # 파일 지우기\n",
    "os.rmdir(dir_name) # 디렉터리 지우기 : 빈 디렉토리여야 가능"
   ]
  },
  {
   "cell_type": "code",
   "execution_count": 35,
   "id": "a2781c7a-ef07-4f39-83e9-a3ddb58dc1d2",
   "metadata": {},
   "outputs": [
    {
     "name": "stdout",
     "output_type": "stream",
     "text": [
      "this is line of number 1\n",
      "this is line of number 2\n",
      "this is line of number 3\n",
      "this is line of number 4\n",
      "this is line of number 5\n",
      "this is line of number 6\n",
      "this is line of number 7\n",
      "this is line of number 8\n",
      "this is line of number 9\n"
     ]
    }
   ],
   "source": [
    "## 실습\n",
    "# folder : 새로 만들고\n",
    "# 파일 쓰기 : 내용 아무거나\n",
    "# 열기\n",
    "\n",
    "if not os.path.isdir('folder'):\n",
    "    os.mkdir('folder')\n",
    "\n",
    "file = './folder/text'\n",
    "\n",
    "with open(file, 'w', encoding='utf-8') as f:\n",
    "    for i in range(1, 10):\n",
    "        data = f'this is line of number {i}\\n' \n",
    "        f.write(data)\n",
    "    \n",
    "with open(file, 'r', encoding='utf-8') as f:\n",
    "    data = f.readlines()\n",
    "\n",
    "for line in data:\n",
    "    print(line, end='')"
   ]
  },
  {
   "cell_type": "code",
   "execution_count": 36,
   "id": "b414ddbf-dfa8-4bf7-81fb-4bd5c2a31e92",
   "metadata": {},
   "outputs": [],
   "source": [
    "import shutil\n",
    "shutil.rmtree('folder1') # 강제삭제"
   ]
  },
  {
   "cell_type": "code",
   "execution_count": 37,
   "id": "8cfa5369-6a8d-4e79-bb21-d17110817256",
   "metadata": {},
   "outputs": [
    {
     "data": {
      "text/plain": [
       "'/Users/parkhaneul/Advanced_Python/Review'"
      ]
     },
     "execution_count": 37,
     "metadata": {},
     "output_type": "execute_result"
    }
   ],
   "source": [
    "# 상위 폴더에 쓰고 싶다\n",
    "os.getcwd() # 현재 디렉토리"
   ]
  },
  {
   "cell_type": "code",
   "execution_count": 38,
   "id": "6194199c-d7a9-44ce-add6-e5c8308c7da2",
   "metadata": {},
   "outputs": [],
   "source": [
    "os.chdir('..')"
   ]
  },
  {
   "cell_type": "code",
   "execution_count": 39,
   "id": "f023c581-ac37-4daf-aa3b-09e0b83bbd91",
   "metadata": {},
   "outputs": [
    {
     "data": {
      "text/plain": [
       "'/Users/parkhaneul/Advanced_Python'"
      ]
     },
     "execution_count": 39,
     "metadata": {},
     "output_type": "execute_result"
    }
   ],
   "source": [
    "os.getcwd()"
   ]
  },
  {
   "cell_type": "markdown",
   "id": "2c25c813-19b9-4fe3-b622-51ec273b9f2f",
   "metadata": {},
   "source": [
    "### pickle\n",
    "- 객체를 저장, 불러들일 수 있다.\n",
    "- 저장: pickle.dump(변수, 파일명)\n",
    "- 열때 : 변수명 = pickle.load(파일)\n",
    "- 장점: text 파일은 필요한 부분들을 파싱해야 하지만, pickle은 이미 필요한 형태대로 저장이 되어 있어 훨씬 빠름"
   ]
  },
  {
   "cell_type": "code",
   "execution_count": 42,
   "id": "f4a387c5-6220-4f6a-8e53-e6bc50589779",
   "metadata": {},
   "outputs": [],
   "source": [
    "import pickle"
   ]
  },
  {
   "cell_type": "code",
   "execution_count": 43,
   "id": "9815b248-c871-4611-8a58-d4cf8e03dd0e",
   "metadata": {},
   "outputs": [
    {
     "data": {
      "text/plain": [
       "[0, 1, 2, 3, 4, 5, 6, 7, 8, 9]"
      ]
     },
     "execution_count": 43,
     "metadata": {},
     "output_type": "execute_result"
    }
   ],
   "source": [
    "num = list(range(10))\n",
    "num"
   ]
  },
  {
   "cell_type": "code",
   "execution_count": 44,
   "id": "ea27ffcf-f0b3-4aaa-bbec-ab6984d0cde6",
   "metadata": {},
   "outputs": [],
   "source": [
    "f = open('test.pickle', 'wb')\n",
    "pickle.dump(num, f)\n",
    "f.close()"
   ]
  },
  {
   "cell_type": "code",
   "execution_count": 45,
   "id": "1b3b174d-e847-4a23-926b-8fa850a020ce",
   "metadata": {},
   "outputs": [],
   "source": [
    "with open('test.pickle', 'rb') as f:\n",
    "    number = pickle.load(f)"
   ]
  },
  {
   "cell_type": "code",
   "execution_count": 46,
   "id": "c61f904c-1bc7-472b-aba7-ee92f7a62893",
   "metadata": {},
   "outputs": [
    {
     "data": {
      "text/plain": [
       "[0, 1, 2, 3, 4, 5, 6, 7, 8, 9]"
      ]
     },
     "execution_count": 46,
     "metadata": {},
     "output_type": "execute_result"
    }
   ],
   "source": [
    "number"
   ]
  }
 ],
 "metadata": {
  "kernelspec": {
   "display_name": "Python 3 (ipykernel)",
   "language": "python",
   "name": "python3"
  },
  "language_info": {
   "codemirror_mode": {
    "name": "ipython",
    "version": 3
   },
   "file_extension": ".py",
   "mimetype": "text/x-python",
   "name": "python",
   "nbconvert_exporter": "python",
   "pygments_lexer": "ipython3",
   "version": "3.9.7"
  }
 },
 "nbformat": 4,
 "nbformat_minor": 5
}
